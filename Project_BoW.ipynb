{
 "cells": [
  {
   "cell_type": "code",
   "execution_count": 21,
   "metadata": {
    "collapsed": false
   },
   "outputs": [
    {
     "name": "stdout",
     "output_type": "stream",
     "text": [
      "[WinError 3] Das System kann den angegebenen Pfad nicht finden: 'Documents/LSC/LSC_Sentiment_Analysis/'\n",
      "c:\\Users\\Dell\\OneDrive\\Desktop\\Uni\\Semester 2\\Ökonometrie\\GitHub\\LSC_Sentiment_Analysis\n"
     ]
    }
   ],
   "source": [
    "%cd Documents/LSC/LSC_Sentiment_Analysis/"
   ]
  },
  {
   "cell_type": "markdown",
   "metadata": {
    "collapsed": false
   },
   "source": [
    "# Sentiment Analysis mit Bag-of-Words und TFIDF\n",
    "\n",
    "Im folgenden nehmen wir die Sentiment Analyse mit dem Bag-of-Words (BoW), sowie term-frequency-inverse-document-frequency (TFIDF) vor.   \n",
    "Beim Bow ..  \n",
    "Im Gegenzug dazu berücksichtigen wir bei der Bestimmung von TFIDF Features nicht nur die term-frequency sondern zusätzlich die inverse document frequency.  \n",
    "\n",
    "  \n",
    "Sowohl BoW als auch TFIDF haben wir mit verschiedenen N-Grams angewandt um die Ergebnisse miteinander zu vergleichen. \n",
    "Wir haben Unigrams, Bigrams sowie Trigrams verwendet. \n",
    "\n",
    "Anschließend haben wir die Daten mit Naiv Bayes, Logistischer Regression sowie LSVM geschätzt.\n",
    "\n",
    "Dieses Vorgehen haben wir auf zwei unterschiedlichen Datensätzen angewandt:   \n",
    "- Movie Revies: kleineres Data-Set, was  3 Klassen enthält (-1: negativ, 0: neutral, 1: positiv)  \n",
    "- Twetts: größeres Datenset, was 2 Klassen enthält (-1: negativ, 1: positiv)  \n",
    "\n",
    "Die Accuracys haben wir abschließend miteinander verglichen "
   ]
  },
  {
   "cell_type": "markdown",
   "metadata": {},
   "source": [
    "## Movie Reviews (smaller Data-Set)"
   ]
  },
  {
   "cell_type": "code",
   "execution_count": 14,
   "metadata": {
    "collapsed": false
   },
   "outputs": [],
   "source": [
    "import warnings\n",
    "warnings.simplefilter(action='ignore', category=FutureWarning)\n",
    "import pandas as pd\n",
    "import numpy as np\n",
    "import sklearn\n",
    "import nltk\n",
    "import re\n",
    "import csv\n",
    "from evaluation import test_statistics\n",
    "from sklearn.naive_bayes import MultinomialNB\n",
    "import seaborn as sns\n",
    "import matplotlib.pyplot as plt  \n",
    "\n"
   ]
  },
  {
   "cell_type": "code",
   "execution_count": 23,
   "metadata": {
    "collapsed": false
   },
   "outputs": [],
   "source": [
    "#%cd .."
   ]
  },
  {
   "attachments": {},
   "cell_type": "markdown",
   "metadata": {},
   "source": [
    "## 1. Data Loading"
   ]
  },
  {
   "cell_type": "code",
   "execution_count": 15,
   "metadata": {},
   "outputs": [],
   "source": [
    "train_set = pd.read_csv (\"./data/dataset_mr/Trainset_complete.csv\", sep = ';')\n",
    "test_set = pd.read_csv (\"./data/dataset_mr/Testset.csv\", sep = ';')"
   ]
  },
  {
   "cell_type": "code",
   "execution_count": 16,
   "metadata": {},
   "outputs": [
    {
     "data": {
      "text/plain": [
       " 1    2696\n",
       " 0    2696\n",
       "-1    2696\n",
       "Name: Sentiment, dtype: int64"
      ]
     },
     "execution_count": 16,
     "metadata": {},
     "output_type": "execute_result"
    }
   ],
   "source": [
    "# balancierte Daten\n",
    "train_set.Sentiment.value_counts()"
   ]
  },
  {
   "attachments": {},
   "cell_type": "markdown",
   "metadata": {},
   "source": [
    "## 2. Data cleaning\n",
    "\n",
    "Die Daten haben wir durch folgendes Vorgehen bereinigt: \n",
    "- alle Zeichen, die keine Buchstaben sind rausgelöscht. Wir gehen davon aus, dass für die Sentinemt Analyse nur Wörter eine Rolle spielen und Ziffern oder Sonderzeichen keinen großen Mehrwert liefern.\n",
    "- alle Buchstaben auf Kleinschreibung angepasst. So wird ein Wort, das sowohl in Groß- als auch in Kleinschreibung vorkommt nicht als zwei unterschiedliche Wörter gezählt.\n",
    "- vordefinierte Stop-Words herauslöschen. Wir gehen davon aus, dass das bloße Vorhandensein von Wörtern wie 'and' 'or' 'a' 'she' usw. keinen großen Mehrwert für die Sentimentanalyse liefert\n",
    "- Stemming: Wortendungen abschneiden, sodass nur der Wortstamm übrig bleibt. Hierzu verwenden wir den Porter-Stemmer-Algorithmus. \n",
    "\n",
    "Anschließend wenden wir die definierten Funktionen sowohl auf unser Trainings- als auch auf unser Testset an. "
   ]
  },
  {
   "cell_type": "code",
   "execution_count": 17,
   "metadata": {},
   "outputs": [
    {
     "name": "stdout",
     "output_type": "stream",
     "text": [
      "179\n",
      "['i', 'me', 'my', 'myself', 'we', 'our', 'ours', 'ourselves', 'you', \"you're\", \"you've\", \"you'll\", \"you'd\", 'your', 'yours', 'yourself', 'yourselves', 'he', 'him', 'his']\n"
     ]
    }
   ],
   "source": [
    "# Nur Buchstaben behalten. Alle anderen Zeichen rauslöschen  \n",
    "def keep_only_letters(text):\n",
    "    text=re.sub(r'[^a-zA-Z\\s]','',text)\n",
    "    return text\n",
    " \n",
    "# alle Buchstaben auf Kleinschreibung ändern\n",
    "def convert_to_lowercase(text):\n",
    "    return text.lower()\n",
    " \n",
    "def clean_reviews(text):\n",
    "    text = keep_only_letters(text)\n",
    "    text = convert_to_lowercase(text)\n",
    "    return text\n",
    "\n",
    "\n",
    "# Stop Words definition\n",
    "english_stop_words = nltk.corpus.stopwords.words('english')\n",
    "print(len(english_stop_words))\n",
    "print (english_stop_words[:20])\n",
    "\n",
    "# Stop Words entfernen \n",
    "def remove_stop_words(text):\n",
    "    for stopword in english_stop_words:\n",
    "        stopword = ' ' + stopword + ' '\n",
    "        text = text.replace(stopword, ' ')\n",
    "    return text\n",
    "\n",
    "\n",
    "# Stemming mit Porter-Stemmer-Algorithmus \n",
    "def text_stemming(text):\n",
    "    stemmer = nltk.porter.PorterStemmer()\n",
    "    stemmed = ' '.join([stemmer.stem(token) for token in text.split()])\n",
    "    return stemmed\n",
    "\n",
    "\n",
    "train_set['Phrase'] = train_set['Phrase'].apply(clean_reviews)\n",
    "test_set['Phrase'] = test_set['Phrase'].apply(clean_reviews)\n",
    "\n",
    "train_set['Phrase'] = train_set['Phrase'].apply(remove_stop_words)\n",
    "test_set['Phrase'] = test_set['Phrase'].apply(remove_stop_words)\n",
    "\n",
    "train_set['Phrase'] = train_set['Phrase'].apply(text_stemming) \n",
    "test_set['Phrase'] = test_set['Phrase'].apply(text_stemming)"
   ]
  },
  {
   "attachments": {},
   "cell_type": "markdown",
   "metadata": {},
   "source": [
    "## 3. Text Vectorization\n",
    "CountVectorizer aus sklearn um bag-of-words Darstellung von unserem Trainings- und Testset zu erhalten\n",
    "naive bag-of-words text vectorization\n",
    "\n",
    "Nur Trainingsdatensatz zur Definition des Vokabulars heranziehen und \n",
    "das gleiche Vokabular zur Darstellung des Test-Datensatzes verwenden\n",
    "-> Vektorizer an Trainingsdaten anpassen und zur Transformation der Testdaten verwenden\n",
    "\n",
    "weighted version of BOW ausprobieren?\n",
    "\n",
    "### N-Grams\n",
    "\n",
    "Unigramme: Alle eindeutigen Wörter in einem Dokument\n",
    "\n",
    "BiGramme: Alle Permutationen von zwei aufeinanderfolgenden Wörtern in einem Dokument\n",
    "\n",
    "TriGrams: Alle Permutationen von drei aufeinanderfolgenden Wörtern in einem Dokument"
   ]
  },
  {
   "cell_type": "code",
   "execution_count": 18,
   "metadata": {},
   "outputs": [],
   "source": [
    "# convert text data to numeric\n",
    "\n",
    "# Argument binary=False: Vocabel-Vector mit term-frequency füllen\n",
    "# binary = True: Vocabel-Vector mit Vorhandensein der Token füllen (1 vorhanden, 0 nicht vorhanden) \n",
    "# ngram _range = Unigram: (1,1); Bigram: (1,2); Trigram: (1,3)\n",
    "\n",
    "# Vectorizer für Bag-of-Word\n",
    "vectorizer_uni_bow = sklearn.feature_extraction.text.CountVectorizer(binary=False,ngram_range=(1,1))\n",
    "vectorizer_bi_bow = sklearn.feature_extraction.text.CountVectorizer(binary=False,ngram_range=(1,2))\n",
    "vectorizer_tri_bow = sklearn.feature_extraction.text.CountVectorizer(binary=False,ngram_range=(1,3))"
   ]
  },
  {
   "cell_type": "code",
   "execution_count": 19,
   "metadata": {},
   "outputs": [],
   "source": [
    "# Vectorizer für TGIDF\n",
    "\n",
    "vectorizer_uni_tgidf = sklearn.feature_extraction.text.TfidfVectorizer(use_idf=True,ngram_range=(1,1))\n",
    "vectorizer_bi_tgidf = sklearn.feature_extraction.text.TfidfVectorizer(use_idf=True,ngram_range=(1,2))\n",
    "vectorizer_tri_tgidf = sklearn.feature_extraction.text.TfidfVectorizer(use_idf=True,ngram_range=(1,3))"
   ]
  },
  {
   "cell_type": "code",
   "execution_count": 20,
   "metadata": {},
   "outputs": [],
   "source": [
    "uni_train_bow = vectorizer_uni_bow.fit_transform(train_set['Phrase'])\n",
    "uni_test_bow = vectorizer_uni_bow.transform(test_set['Phrase'])\n",
    "\n",
    "bi_train_bow = vectorizer_bi_bow.fit_transform(train_set['Phrase'])\n",
    "bi_test_bow = vectorizer_bi_bow.transform(test_set['Phrase'])\n",
    "\n",
    "tri_train_bow = vectorizer_tri_bow.fit_transform(train_set['Phrase'])\n",
    "tri_test_bow = vectorizer_tri_bow.transform(test_set['Phrase'])"
   ]
  },
  {
   "cell_type": "code",
   "execution_count": 21,
   "metadata": {},
   "outputs": [],
   "source": [
    "uni_train_tgidf = vectorizer_uni_tgidf.fit_transform(train_set['Phrase'])\n",
    "uni_test_tgidf = vectorizer_uni_tgidf.transform(test_set['Phrase'])\n",
    "\n",
    "bi_train_tgidf = vectorizer_bi_tgidf.fit_transform(train_set['Phrase'])\n",
    "bi_test_tgidf= vectorizer_bi_tgidf.transform(test_set['Phrase'])\n",
    "\n",
    "tri_train_tgidf = vectorizer_tri_tgidf.fit_transform(train_set['Phrase'])\n",
    "tri_test_tgidf = vectorizer_tri_tgidf.transform(test_set['Phrase'])"
   ]
  },
  {
   "attachments": {},
   "cell_type": "markdown",
   "metadata": {},
   "source": [
    "Unigram:\n",
    "(156060, 10998) (66292, 10998): 10998 einzigartige englische token in unserem Vokabular (abgeleitet aus Trainingsdatensatz)\n",
    "Jeder Token wird durch eine Spalte im Datensatz repräsentiert\n",
    "Für jedes Review im Datensatz wird die Frequency der Token (term-frequency) durch Vokabel-Vector der Größe 10998 dargestellt.\n",
    "= Daher haben wir 156060 solcher Vektoren in unserem Trainings-Datensatz und 66292 in unserem Test-Datensatz = Anzahl der Reviews "
   ]
  },
  {
   "cell_type": "code",
   "execution_count": 22,
   "metadata": {},
   "outputs": [],
   "source": [
    "train_labels = train_set['Sentiment']\n",
    "test_labels = test_set['Sentiment']"
   ]
  },
  {
   "cell_type": "markdown",
   "metadata": {},
   "source": [
    "## 4. Klassifizierungsmodelle trainieren\n",
    "\n",
    "für die Klassifizierung verwenden wir drei Modelle, die wir anhand ihrer Accuracy miteinander vergleichen:  \n",
    "\n",
    "- Naive Bayes  \n",
    "- Logistische Regression  \n",
    "- Linear Support Vector Machines (LSVM)\n",
    "\n",
    "In alle Modelle geben wir nacheinander die Unigrams, Bigrams und Trigrams, sodass wir auch hier die Accuracy vergleichen können.  \n",
    "Dieses Vorgehenn machen wir erst mit dem BoW Ansatz und anschließend mit TFIDF. Am Ende vergleichen wir alle Accuracys miteinander, um den besten Ansatz zu finden "
   ]
  },
  {
   "cell_type": "markdown",
   "metadata": {},
   "source": [
    "### 4.1.  Naive Bayes\n",
    "\n",
    "Der Naive Bayes Klassifizierer sagt das Label einer neuen Beobachtung voraus, indem er die Wahrscheinlichkeiten für alle möglichen Zustände dieser Variablen berechnet und den Zustand mit der höchsten Wahrscheinlichkeit vorhersagt. In diesem Fall gibt es drei mögliche Zustände: positive, neutrale oder negative Bewertung.  \n",
    "  \n",
    "Zunächst wird für die drei Zustände der Prior berechnet: Wie wahrscheinlich ist das Auftreten des Zustandes an sich.  \n",
    "Da wir mit balancierten Daten arbeiten, ist der Prior für jede der drei Klassen: 0,33333 \n",
    "  \n",
    "Anschließend werden die bedingten Wahrscheinlichkeiten (Conditional Likelihoods) berechnet:  \n",
    "Wahrscheinlichkeit, dass Wort n vorkommt, unter der Bedingung, dass es z.B. eine positive Bewertung ist.  \n",
    "Die Conditional Likelihoods für jedes Wort in der Bewertung werden miteinander sowie mit dem jeweiligen Prior der Klasse multipliziert.  \n",
    "Diese Berechnung wird für jede mögliche Klasse durchgeführt.  \n",
    "Anschließend wird die Klasse mit der höchsten Wahrscheinlichkeit angenommen.  \n",
    "  \n",
    "Vorteile:\n",
    "- Naive Bayes benötigt keine kontinuierlichen Werte, wir könnten auch mit den Labels \"negativ\", \"neutral\", \"positiv\" trainieren  \n",
    "(da wir das Preprocessing einheitlich für alle Modelle vorgenommen haben, arbeiten wir mit kontinuierlichen Werten)\n",
    "- Algorithmus ist sehr einfach und schnell zu trainieren\n",
    "  \n",
    "Nachteile:\n",
    "- Nur Labels funktionieren als Input, was für uns aber kein Problem dartellt, da wir ohnehin Labels als Input haben \n",
    "- Naive Annahme:  \n",
    "Dem Naive Bayes Klassifizierer liegt die Annahme zugrunde, dass es keine Abhängigkeiten zwischen den Features gibt.  \n",
    "Diese Annahme wird in der Praxis fast immer verletzt, so wie auch in diesem Fall. Bestimmte Wörter werden häufiger zusammen benutzt.  \n",
    "Kommt zum Beipiel das Word \"lustig\" in einem Satz vor, ist es wahrscheinlicher, dass auch das Wort \"lachen\" darin vorkommt.  \n",
    "  \n",
    "Trotzdem liefert der Naive Bayes KLassifizierer interessante Informationen. "
   ]
  },
  {
   "cell_type": "markdown",
   "metadata": {
    "collapsed": false
   },
   "source": [
    "#### 4.1.1. Unigram (Naive Bayes Klassifizierer auf Unigram Features)"
   ]
  },
  {
   "cell_type": "markdown",
   "metadata": {},
   "source": [
    "##### 4.1.1.1 Bag-of-Words"
   ]
  },
  {
   "cell_type": "code",
   "execution_count": 23,
   "metadata": {},
   "outputs": [
    {
     "data": {
      "image/png": "[encoded data removed]",
      "text/plain": [
       "<Figure size 500x400 with 2 Axes>"
      ]
     },
     "metadata": {},
     "output_type": "display_data"
    },
    {
     "name": "stdout",
     "output_type": "stream",
     "text": [
      "Classifcation Report:\n",
      "              precision    recall  f1-score   support\n",
      "\n",
      "    Negative       0.55      0.64      0.59       459\n",
      "     Neutral       0.44      0.28      0.34       459\n",
      "    Positive       0.58      0.69      0.63       459\n",
      "\n",
      "    accuracy                           0.54      1377\n",
      "   macro avg       0.52      0.54      0.52      1377\n",
      "weighted avg       0.52      0.54      0.52      1377\n",
      "\n",
      "0.5388525780682644\n"
     ]
    }
   ],
   "source": [
    "#TODO : Funktioniert noch nicht\n",
    "uni_nb = MultinomialNB()\n",
    "uni_nb.fit(uni_train_bow, train_labels)\n",
    " \n",
    "predictions = uni_nb.predict(uni_test_bow)\n",
    "\n",
    "acc_nb_uni_bow = test_statistics(predictions, test_labels)\n",
    "print(acc)\n",
    "#print(sklearn.metrics.classification_report(test_labels, predictions, target_names=['-1','0','1']))"
   ]
  },
  {
   "cell_type": "markdown",
   "metadata": {},
   "source": [
    "##### 4.1.1.2 TGIDF"
   ]
  },
  {
   "cell_type": "code",
   "execution_count": 11,
   "metadata": {},
   "outputs": [
    {
     "data": {
      "image/png": "[encoded data removed]",
      "text/plain": [
       "<Figure size 640x480 with 2 Axes>"
      ]
     },
     "metadata": {},
     "output_type": "display_data"
    },
    {
     "name": "stdout",
     "output_type": "stream",
     "text": [
      "Classifcation Report:\n",
      "              precision    recall  f1-score   support\n",
      "\n",
      "    Negative       0.54      0.62      0.58       459\n",
      "     Neutral       0.43      0.28      0.34       459\n",
      "    Positive       0.59      0.70      0.64       459\n",
      "\n",
      "    accuracy                           0.54      1377\n",
      "   macro avg       0.52      0.54      0.52      1377\n",
      "weighted avg       0.52      0.54      0.52      1377\n",
      "\n"
     ]
    }
   ],
   "source": [
    "uni_nb = MultinomialNB()\n",
    "uni_nb.fit(uni_train_tgidf, train_labels)\n",
    " \n",
    "predictions = uni_nb.predict(uni_test_tgidf)\n",
    "\n",
    "acc = test_statistics(predictions, test_labels)"
   ]
  },
  {
   "cell_type": "code",
   "execution_count": 13,
   "metadata": {},
   "outputs": [
    {
     "data": {
      "text/plain": [
       "\"import seaborn as sns\\nimport matplotlib.pyplot as plt  \\n\\nco_ma = sklearn.metrics.confusion_matrix(test_labels, predictions, labels=[-1, 0, 1])   \\n\\nax= plt.subplot()\\nsns.heatmap(co_ma, annot=True, fmt='g', ax=ax, cmap=plt.cm.Blues);  #annot=True to annotate cells, ftm='g' to disable scientific notation\\nsns.set (rc = {'figure.figsize':(5, 4)})\\n# labels, title and ticks\\nax.set_xlabel('Predicted labels');ax.set_ylabel('True labels'); \\nax.set_title('Confusion Matrix'); \\nax.xaxis.set_ticklabels(['-1', '0','1']); ax.yaxis.set_ticklabels(['-1', '0','1'])\""
      ]
     },
     "execution_count": 13,
     "metadata": {},
     "output_type": "execute_result"
    }
   ],
   "source": [
    "# blaue Confusion Matrix:\n",
    "\"\"\"import seaborn as sns\n",
    "import matplotlib.pyplot as plt  \n",
    "\n",
    "co_ma = sklearn.metrics.confusion_matrix(test_labels, predictions, labels=[-1, 0, 1])   \n",
    "\n",
    "ax= plt.subplot()\n",
    "sns.heatmap(co_ma, annot=True, fmt='g', ax=ax, cmap=plt.cm.Blues);  #annot=True to annotate cells, ftm='g' to disable scientific notation\n",
    "sns.set (rc = {'figure.figsize':(5, 4)})\n",
    "# labels, title and ticks\n",
    "ax.set_xlabel('Predicted labels');ax.set_ylabel('True labels'); \n",
    "ax.set_title('Confusion Matrix'); \n",
    "ax.xaxis.set_ticklabels(['-1', '0','1']); ax.yaxis.set_ticklabels(['-1', '0','1'])\"\"\""
   ]
  },
  {
   "attachments": {},
   "cell_type": "markdown",
   "metadata": {},
   "source": [
    "#### 4.1.2 Naive Bayes: Unigram + Bigram"
   ]
  },
  {
   "cell_type": "markdown",
   "metadata": {},
   "source": [
    "##### 4.1.2.1 Bag-of-Words"
   ]
  },
  {
   "cell_type": "code",
   "execution_count": 17,
   "metadata": {},
   "outputs": [
    {
     "name": "stdout",
     "output_type": "stream",
     "text": [
      "              precision    recall  f1-score   support\n",
      "\n",
      "          -1       0.44      0.38      0.41       459\n",
      "           0       0.34      0.49      0.40       459\n",
      "           1       0.57      0.39      0.47       459\n",
      "\n",
      "    accuracy                           0.42      1377\n",
      "   macro avg       0.45      0.42      0.43      1377\n",
      "weighted avg       0.45      0.42      0.43      1377\n",
      "\n"
     ]
    }
   ],
   "source": [
    "bi_nb = MultinomialNB()\n",
    "bi_nb.fit(bi_train_bow, train_labels)\n",
    " \n",
    "predictions = bi_nb.predict(bi_test_bow)\n",
    "print(sklearn.metrics.classification_report(test_labels, predictions, target_names=['-1','0','1']))\n"
   ]
  },
  {
   "cell_type": "markdown",
   "metadata": {},
   "source": [
    "##### 4.1.2.2 TGIDF"
   ]
  },
  {
   "cell_type": "code",
   "execution_count": null,
   "metadata": {},
   "outputs": [],
   "source": [
    "bi_nb = MultinomialNB()\n",
    "bi_nb.fit(bi_train_tgidf, train_labels)\n",
    " \n",
    "predictions = bi_nb.predict(bi_test_tgidf)\n",
    "print(sklearn.metrics.classification_report(test_labels, predictions, target_names=['-1','0','1']))"
   ]
  },
  {
   "attachments": {},
   "cell_type": "markdown",
   "metadata": {},
   "source": [
    "#### 4.1.3 Naive Bayes: Unigram + Bigram + Trigram"
   ]
  },
  {
   "cell_type": "markdown",
   "metadata": {},
   "source": [
    "##### 4.1.3.1 Bag-of-Words"
   ]
  },
  {
   "cell_type": "code",
   "execution_count": 19,
   "metadata": {},
   "outputs": [
    {
     "name": "stdout",
     "output_type": "stream",
     "text": [
      "              precision    recall  f1-score   support\n",
      "\n",
      "          -1       0.44      0.39      0.41       459\n",
      "           0       0.34      0.48      0.40       459\n",
      "           1       0.57      0.41      0.47       459\n",
      "\n",
      "    accuracy                           0.43      1377\n",
      "   macro avg       0.45      0.43      0.43      1377\n",
      "weighted avg       0.45      0.43      0.43      1377\n",
      "\n"
     ]
    }
   ],
   "source": [
    "tri_nb = MultinomialNB()\n",
    "tri_nb.fit(tri_train_bow, train_labels)\n",
    " \n",
    "predictions = tri_nb.predict(tri_test_bow)\n",
    "print(sklearn.metrics.classification_report(test_labels, predictions, target_names=['-1','0','1']))\n"
   ]
  },
  {
   "cell_type": "markdown",
   "metadata": {},
   "source": [
    "##### 4.1.3.2 TGIDF"
   ]
  },
  {
   "cell_type": "code",
   "execution_count": null,
   "metadata": {},
   "outputs": [],
   "source": [
    "tri_nb = MultinomialNB()\n",
    "tri_nb.fit(tri_train_tgidf, train_labels)\n",
    " \n",
    "predictions = tri_nb.predict(tri_test_tgidf)\n",
    "print(sklearn.metrics.classification_report(test_labels, predictions, target_names=['-1','0','1']))"
   ]
  },
  {
   "attachments": {},
   "cell_type": "markdown",
   "metadata": {},
   "source": [
    "### 4.2 Logistische Regression\n",
    "#### 4.2.1. Unigram"
   ]
  },
  {
   "cell_type": "markdown",
   "metadata": {},
   "source": [
    "##### 4.2.1.1 Bag-of-Words"
   ]
  },
  {
   "cell_type": "code",
   "execution_count": 21,
   "metadata": {},
   "outputs": [
    {
     "name": "stdout",
     "output_type": "stream",
     "text": [
      "              precision    recall  f1-score   support\n",
      "\n",
      "          -1       0.47      0.32      0.38       459\n",
      "           0       0.35      0.66      0.46       459\n",
      "           1       0.61      0.25      0.36       459\n",
      "\n",
      "    accuracy                           0.41      1377\n",
      "   macro avg       0.48      0.41      0.40      1377\n",
      "weighted avg       0.48      0.41      0.40      1377\n",
      "\n"
     ]
    }
   ],
   "source": [
    "uni_logreg = sklearn.linear_model.LogisticRegression(max_iter=10000)\n",
    "uni_logreg.fit(uni_train_bow, train_labels)\n",
    "#print (uni_logreg)\n",
    "\n",
    "\"\"\" default state of the classifier: \n",
    "LogisticRegression(C=1.0, class_weight=None, dual=False, fit_intercept=True,\n",
    "                   intercept_scaling=1, l1_ratio=None, max_iter=100,\n",
    "                   multi_class='warn', n_jobs=None, penalty='l2',\n",
    "                   random_state=None, solver='warn', tol=0.0001, verbose=0,\n",
    "                   warm_start=False)\"\"\"\n",
    "\n",
    "# Predictions für unseren Test-Datensatz, Accuracy, Confusion-Matrix berechnen: \n",
    "\n",
    "predictions = uni_logreg.predict(uni_test_bow)\n",
    "print(sklearn.metrics.classification_report(test_labels, predictions, target_names=['-1','0','1']))\n"
   ]
  },
  {
   "cell_type": "markdown",
   "metadata": {},
   "source": [
    "##### 4.2.1.2 TGIDF"
   ]
  },
  {
   "cell_type": "code",
   "execution_count": null,
   "metadata": {},
   "outputs": [],
   "source": [
    "uni_logreg = sklearn.linear_model.LogisticRegression(max_iter=10000)\n",
    "uni_nb.fit(uni_train_tgidf, train_labels)\n",
    " \n",
    "predictions = uni_logreg.predict(uni_test_tgidf)\n",
    "print(sklearn.metrics.classification_report(test_labels, predictions, target_names=['-1','0','1']))"
   ]
  },
  {
   "attachments": {},
   "cell_type": "markdown",
   "metadata": {},
   "source": [
    "#### 4.2.2. Log Regression: Unigrams + Bigrams"
   ]
  },
  {
   "cell_type": "markdown",
   "metadata": {},
   "source": [
    "##### 4.2.2.1 Bag-of-Words"
   ]
  },
  {
   "cell_type": "code",
   "execution_count": 24,
   "metadata": {},
   "outputs": [
    {
     "name": "stdout",
     "output_type": "stream",
     "text": [
      "              precision    recall  f1-score   support\n",
      "\n",
      "          -1       0.47      0.38      0.42       459\n",
      "           0       0.37      0.61      0.46       459\n",
      "           1       0.59      0.31      0.41       459\n",
      "\n",
      "    accuracy                           0.43      1377\n",
      "   macro avg       0.47      0.43      0.43      1377\n",
      "weighted avg       0.47      0.43      0.43      1377\n",
      "\n",
      "[[175 233  51]\n",
      " [129 281  49]\n",
      " [ 69 248 142]]\n"
     ]
    }
   ],
   "source": [
    "bi_logreg = sklearn.linear_model.LogisticRegression(max_iter=10000)\n",
    "bi_logreg.fit(bi_train_bow, train_labels)\n",
    "\n",
    "predictions = bi_logreg.predict(bi_test_bow)\n",
    "print(sklearn.metrics.classification_report(test_labels, predictions, target_names=['-1','0','1']))\n",
    "# Feature-Set Größe erhöht sich weil auch Bi-Gramme berücksichtigt "
   ]
  },
  {
   "cell_type": "markdown",
   "metadata": {},
   "source": [
    "##### 4.2.2.2 TGIDF"
   ]
  },
  {
   "cell_type": "code",
   "execution_count": null,
   "metadata": {},
   "outputs": [],
   "source": [
    "bi_logreg = sklearn.linear_model.LogisticRegression(max_iter=10000)\n",
    "bi_logreg.fit(bi_train_tgidf, train_labels)\n",
    "\n",
    "predictions = bi_logreg.predict(bi_test_tgidf)\n",
    "print(sklearn.metrics.classification_report(test_labels, predictions, target_names=['-1','0','1']))"
   ]
  },
  {
   "attachments": {},
   "cell_type": "markdown",
   "metadata": {},
   "source": [
    "#### 4.2.3. Log Regression: Unigrams + Bigrams + Trigrams"
   ]
  },
  {
   "cell_type": "markdown",
   "metadata": {},
   "source": [
    "##### 4.2.3.1 Bag-of-Words"
   ]
  },
  {
   "cell_type": "code",
   "execution_count": 25,
   "metadata": {},
   "outputs": [
    {
     "name": "stdout",
     "output_type": "stream",
     "text": [
      "              precision    recall  f1-score   support\n",
      "\n",
      "          -1       0.46      0.40      0.43       459\n",
      "           0       0.36      0.57      0.44       459\n",
      "           1       0.55      0.31      0.39       459\n",
      "\n",
      "    accuracy                           0.42      1377\n",
      "   macro avg       0.46      0.42      0.42      1377\n",
      "weighted avg       0.46      0.42      0.42      1377\n",
      "\n"
     ]
    }
   ],
   "source": [
    "tri_logreg = sklearn.linear_model.LogisticRegression(max_iter=10000)\n",
    "tri_logreg.fit(tri_train_bow, train_labels)\n",
    "\n",
    "predictions = tri_logreg.predict(tri_test_bow)\n",
    "print(sklearn.metrics.classification_report(test_labels, predictions, target_names=['-1','0','1']))"
   ]
  },
  {
   "cell_type": "markdown",
   "metadata": {},
   "source": [
    "##### 4.2.3.2 TGIDF"
   ]
  },
  {
   "cell_type": "code",
   "execution_count": null,
   "metadata": {},
   "outputs": [],
   "source": [
    "tri_logreg = sklearn.linear_model.LogisticRegression(max_iter=10000)\n",
    "tri_logreg.fit(tri_train_tgidf, train_labels)\n",
    "\n",
    "predictions = tri_logreg.predict(tri_test_tgidf)\n",
    "print(sklearn.metrics.classification_report(test_labels, predictions, target_names=['-1','0','1']))"
   ]
  },
  {
   "attachments": {},
   "cell_type": "markdown",
   "metadata": {},
   "source": [
    "### 4.3 Linear Support Vector Machine (LSVM) \n",
    "#### 4.3.1. Unigram "
   ]
  },
  {
   "cell_type": "markdown",
   "metadata": {},
   "source": [
    "##### 4.3.1.1 Bag-of-Words"
   ]
  },
  {
   "cell_type": "code",
   "execution_count": 27,
   "metadata": {},
   "outputs": [
    {
     "name": "stdout",
     "output_type": "stream",
     "text": [
      "              precision    recall  f1-score   support\n",
      "\n",
      "          -1       0.47      0.35      0.40       459\n",
      "           0       0.36      0.64      0.46       459\n",
      "           1       0.54      0.27      0.36       459\n",
      "\n",
      "    accuracy                           0.42      1377\n",
      "   macro avg       0.46      0.42      0.41      1377\n",
      "weighted avg       0.46      0.42      0.41      1377\n",
      "\n"
     ]
    }
   ],
   "source": [
    "uni_lsvm = sklearn.svm.LinearSVC()\n",
    "uni_lsvm.fit(uni_train_bow, train_labels)\n",
    " \n",
    "predictions = uni_lsvm.predict(uni_test_bow)\n",
    "print(sklearn.metrics.classification_report(test_labels, predictions, target_names=['-1','0','1']))"
   ]
  },
  {
   "cell_type": "markdown",
   "metadata": {},
   "source": [
    "##### 4.3.1.2 TGIDF"
   ]
  },
  {
   "cell_type": "code",
   "execution_count": null,
   "metadata": {},
   "outputs": [],
   "source": [
    "uni_lsvm = sklearn.svm.LinearSVC()\n",
    "uni_lsvm.fit(uni_train_tgidf, train_labels)\n",
    " \n",
    "predictions = uni_lsvm.predict(uni_test_tgidf)\n",
    "print(sklearn.metrics.classification_report(test_labels, predictions, target_names=['-1','0','1']))"
   ]
  },
  {
   "attachments": {},
   "cell_type": "markdown",
   "metadata": {},
   "source": [
    "#### 4.3.2. LSVM: Unigram + Bigram "
   ]
  },
  {
   "cell_type": "markdown",
   "metadata": {},
   "source": [
    "##### 4.3.2.1 Bag-of-Words"
   ]
  },
  {
   "cell_type": "code",
   "execution_count": 29,
   "metadata": {},
   "outputs": [
    {
     "name": "stdout",
     "output_type": "stream",
     "text": [
      "              precision    recall  f1-score   support\n",
      "\n",
      "          -1       0.44      0.38      0.41       459\n",
      "           0       0.36      0.58      0.45       459\n",
      "           1       0.56      0.30      0.39       459\n",
      "\n",
      "    accuracy                           0.42      1377\n",
      "   macro avg       0.45      0.42      0.41      1377\n",
      "weighted avg       0.45      0.42      0.41      1377\n",
      "\n"
     ]
    }
   ],
   "source": [
    "bi_lsvm = sklearn.svm.LinearSVC()\n",
    "bi_lsvm.fit(bi_train_bow, train_labels)\n",
    " \n",
    "predictions = bi_lsvm.predict(bi_test_bow)\n",
    "print(sklearn.metrics.classification_report(test_labels, predictions, target_names=['-1','0','1']))"
   ]
  },
  {
   "cell_type": "markdown",
   "metadata": {},
   "source": [
    "##### 4.3.2.2 TGIDF"
   ]
  },
  {
   "cell_type": "code",
   "execution_count": null,
   "metadata": {},
   "outputs": [],
   "source": [
    "bi_lsvm = sklearn.svm.LinearSVC()\n",
    "bi_lsvm.fit(bi_train_tgidf, train_labels)\n",
    " \n",
    "predictions = bi_lsvm.predict(bi_test_tgidf)\n",
    "print(sklearn.metrics.classification_report(test_labels, predictions, target_names=['-1','0','1']))"
   ]
  },
  {
   "attachments": {},
   "cell_type": "markdown",
   "metadata": {},
   "source": [
    "#### 4.3.3. LSVM: Unigram + Bigram + Trigram"
   ]
  },
  {
   "cell_type": "markdown",
   "metadata": {},
   "source": [
    "##### 4.3.3.1 Bag-of-Words"
   ]
  },
  {
   "cell_type": "code",
   "execution_count": 31,
   "metadata": {},
   "outputs": [
    {
     "name": "stdout",
     "output_type": "stream",
     "text": [
      "              precision    recall  f1-score   support\n",
      "\n",
      "          -1       0.46      0.38      0.42       459\n",
      "           0       0.36      0.62      0.46       459\n",
      "           1       0.55      0.26      0.35       459\n",
      "\n",
      "    accuracy                           0.42      1377\n",
      "   macro avg       0.46      0.42      0.41      1377\n",
      "weighted avg       0.46      0.42      0.41      1377\n",
      "\n"
     ]
    }
   ],
   "source": [
    "tri_lsvm = sklearn.svm.LinearSVC()\n",
    "tri_lsvm.fit(tri_train_bow, train_labels)\n",
    " \n",
    "predictions = tri_lsvm.predict(tri_test_bow)\n",
    "print(sklearn.metrics.classification_report(test_labels, predictions, target_names=['-1','0','1']))"
   ]
  },
  {
   "cell_type": "markdown",
   "metadata": {},
   "source": [
    "##### 4.3.3.2 TGIDF"
   ]
  },
  {
   "cell_type": "code",
   "execution_count": null,
   "metadata": {},
   "outputs": [],
   "source": [
    "tri_lsvm = sklearn.svm.LinearSVC()\n",
    "tri_lsvm.fit(tri_train_tgidf, train_labels)\n",
    " \n",
    "predictions = tri_lsvm.predict(tri_test_tgidf)\n",
    "print(sklearn.metrics.classification_report(test_labels, predictions, target_names=['-1','0','1']))"
   ]
  },
  {
   "attachments": {},
   "cell_type": "markdown",
   "metadata": {},
   "source": [
    "# Sentiment Analysis Bag-of-Words\n",
    "## Tweets (Larger Data-Set)"
   ]
  },
  {
   "cell_type": "code",
   "execution_count": 35,
   "metadata": {},
   "outputs": [
    {
     "ename": "FileNotFoundError",
     "evalue": "[Errno 2] No such file or directory: '../data/tweets.csv'",
     "output_type": "error",
     "traceback": [
      "\u001b[1;31m---------------------------------------------------------------------------\u001b[0m",
      "\u001b[1;31mFileNotFoundError\u001b[0m                         Traceback (most recent call last)",
      "Cell \u001b[1;32mIn[35], line 2\u001b[0m\n\u001b[0;32m      1\u001b[0m \u001b[38;5;28;01mimport\u001b[39;00m \u001b[38;5;21;01mcsv\u001b[39;00m\n\u001b[1;32m----> 2\u001b[0m \u001b[38;5;28;01mwith\u001b[39;00m \u001b[38;5;28;43mopen\u001b[39;49m\u001b[43m(\u001b[49m\u001b[38;5;124;43m\"\u001b[39;49m\u001b[38;5;124;43m../data/tweets.csv\u001b[39;49m\u001b[38;5;124;43m\"\u001b[39;49m\u001b[43m)\u001b[49m \u001b[38;5;28;01mas\u001b[39;00m csvdatei:\n\u001b[0;32m      3\u001b[0m     data \u001b[38;5;241m=\u001b[39m pd\u001b[38;5;241m.\u001b[39mread_csv(csvdatei, delimiter\u001b[38;5;241m=\u001b[39m\u001b[38;5;124m'\u001b[39m\u001b[38;5;124m,\u001b[39m\u001b[38;5;124m'\u001b[39m)\n\u001b[0;32m      5\u001b[0m data\u001b[38;5;241m.\u001b[39mcolumns \u001b[38;5;241m=\u001b[39m [\u001b[38;5;124m'\u001b[39m\u001b[38;5;124mSentiment\u001b[39m\u001b[38;5;124m'\u001b[39m,\u001b[38;5;124m'\u001b[39m\u001b[38;5;124mID\u001b[39m\u001b[38;5;124m'\u001b[39m,\u001b[38;5;124m'\u001b[39m\u001b[38;5;124mdate\u001b[39m\u001b[38;5;124m'\u001b[39m,\u001b[38;5;124m'\u001b[39m\u001b[38;5;124mflag\u001b[39m\u001b[38;5;124m'\u001b[39m,\u001b[38;5;124m'\u001b[39m\u001b[38;5;124muser\u001b[39m\u001b[38;5;124m'\u001b[39m,\u001b[38;5;124m'\u001b[39m\u001b[38;5;124mPhrase\u001b[39m\u001b[38;5;124m'\u001b[39m]\n",
      "File \u001b[1;32m~\\miniconda3\\lib\\site-packages\\IPython\\core\\interactiveshell.py:284\u001b[0m, in \u001b[0;36m_modified_open\u001b[1;34m(file, *args, **kwargs)\u001b[0m\n\u001b[0;32m    277\u001b[0m \u001b[38;5;28;01mif\u001b[39;00m file \u001b[38;5;129;01min\u001b[39;00m {\u001b[38;5;241m0\u001b[39m, \u001b[38;5;241m1\u001b[39m, \u001b[38;5;241m2\u001b[39m}:\n\u001b[0;32m    278\u001b[0m     \u001b[38;5;28;01mraise\u001b[39;00m \u001b[38;5;167;01mValueError\u001b[39;00m(\n\u001b[0;32m    279\u001b[0m         \u001b[38;5;124mf\u001b[39m\u001b[38;5;124m\"\u001b[39m\u001b[38;5;124mIPython won\u001b[39m\u001b[38;5;124m'\u001b[39m\u001b[38;5;124mt let you open fd=\u001b[39m\u001b[38;5;132;01m{\u001b[39;00mfile\u001b[38;5;132;01m}\u001b[39;00m\u001b[38;5;124m by default \u001b[39m\u001b[38;5;124m\"\u001b[39m\n\u001b[0;32m    280\u001b[0m         \u001b[38;5;124m\"\u001b[39m\u001b[38;5;124mas it is likely to crash IPython. If you know what you are doing, \u001b[39m\u001b[38;5;124m\"\u001b[39m\n\u001b[0;32m    281\u001b[0m         \u001b[38;5;124m\"\u001b[39m\u001b[38;5;124myou can use builtins\u001b[39m\u001b[38;5;124m'\u001b[39m\u001b[38;5;124m open.\u001b[39m\u001b[38;5;124m\"\u001b[39m\n\u001b[0;32m    282\u001b[0m     )\n\u001b[1;32m--> 284\u001b[0m \u001b[38;5;28;01mreturn\u001b[39;00m io_open(file, \u001b[38;5;241m*\u001b[39margs, \u001b[38;5;241m*\u001b[39m\u001b[38;5;241m*\u001b[39mkwargs)\n",
      "\u001b[1;31mFileNotFoundError\u001b[0m: [Errno 2] No such file or directory: '../data/tweets.csv'"
     ]
    }
   ],
   "source": [
    "import csv\n",
    "with open(\"data/tweets.csv\") as csvdatei:\n",
    "    data = pd.read_csv(csvdatei, delimiter=',')\n",
    "\n",
    "data.columns = ['Sentiment','ID','date','flag','user','Phrase']\n",
    "data.drop(['date','flag','user'], axis=1, inplace=True)\n",
    "data = sklearn.utils.shuffle(data)\n",
    "\n",
    "data.Sentiment.value_counts()"
   ]
  },
  {
   "cell_type": "code",
   "execution_count": null,
   "metadata": {},
   "outputs": [],
   "source": [
    "import nltk\n",
    "# nltk.download('stopwords')\n",
    "# pip install nltk\n",
    "import re\n",
    "\n",
    "# Zeitbedarf: 7m 14s\n",
    "\n",
    "\n",
    "# Für Sentimentanalyse zählen nur Wörter  \n",
    "def keep_only_letters(text):\n",
    "    text=re.sub(r'[^a-zA-Z\\s]','',text)\n",
    "    return text\n",
    " \n",
    "# Groß- und Kleinschreibung egal \n",
    "def convert_to_lowercase(text):\n",
    "    return text.lower()\n",
    " \n",
    "def clean_reviews(text):\n",
    "    text = keep_only_letters(text)\n",
    "    text = convert_to_lowercase(text)\n",
    "    return text\n",
    "\n",
    "\n",
    "# Stop Words definition\n",
    "english_stop_words = nltk.corpus.stopwords.words('english')\n",
    "#print(len(english_stop_words))\n",
    "#print (english_stop_words[:20])\n",
    "\n",
    "# Stop Words removal\n",
    "def remove_stop_words(text):\n",
    "    for stopword in english_stop_words:\n",
    "        stopword = ' ' + stopword + ' '\n",
    "        text = text.replace(stopword, ' ')\n",
    "    return text\n",
    "\n",
    "\n",
    "# Stemming\n",
    "def text_stemming(text):\n",
    "    stemmer = nltk.porter.PorterStemmer()\n",
    "    stemmed = ' '.join([stemmer.stem(token) for token in text.split()])\n",
    "    return stemmed\n",
    "\n",
    "\n",
    "\n",
    "\n",
    "#data['Phrase'] = data['Phrase'].apply(clean_reviews)\n",
    "# test_set['Phrase'] = test_set['Phrase'].apply(clean_reviews)\n",
    "\n",
    "#data['Phrase'] = data['Phrase'].apply(remove_stop_words)\n",
    "# test_set['Phrase'] = test_set['Phrase'].apply(remove_stop_words)\n",
    "\n",
    "#data['Phrase'] = data['Phrase'].apply(text_stemming) \n",
    "#test_set['Phrase'] = test_set['Phrase'].apply(text_stemming)"
   ]
  },
  {
   "cell_type": "code",
   "execution_count": null,
   "metadata": {},
   "outputs": [],
   "source": [
    "# Train Test Split\n",
    "from sklearn.model_selection import train_test_split\n",
    "\n",
    "train_set, test_set = train_test_split(data, test_size=0.2)"
   ]
  },
  {
   "cell_type": "code",
   "execution_count": null,
   "metadata": {},
   "outputs": [],
   "source": [
    "train_set.Sentiment.value_counts()"
   ]
  },
  {
   "attachments": {},
   "cell_type": "markdown",
   "metadata": {},
   "source": [
    "## 3. Text Vectorization"
   ]
  },
  {
   "cell_type": "code",
   "execution_count": null,
   "metadata": {},
   "outputs": [],
   "source": [
    "import sklearn\n",
    "# convert text data to numeric\n",
    "\n",
    "# Argument binary=False: Vocabel-Vector mit term-frequency füllen\n",
    "# binary = True: Vocabel-Vector mit Vorhandensein der Token füllen (1 vorhanden, 0 nicht vorhanden) \n",
    "# ngram _range = Unigram: (1,1); Bigram: (1,2); Trigram: (1,3)\n",
    "\n",
    "vectorizer_uni_bow = sklearn.feature_extraction.text.CountVectorizer(binary=False,ngram_range=(1,1))\n",
    "vectorizer_bi_bow = sklearn.feature_extraction.text.CountVectorizer(binary=False,ngram_range=(1,2))\n",
    "vectorizer_tri_bow = sklearn.feature_extraction.text.CountVectorizer(binary=False,ngram_range=(1,3))\n"
   ]
  },
  {
   "cell_type": "code",
   "execution_count": null,
   "metadata": {},
   "outputs": [],
   "source": [
    "# Dauer mit Cleaning: 3m 24s \n",
    "# Dauer ohne Cleaning: 4m 46s \n",
    "\n",
    "uni_train_bow = vectorizer_uni_bow.fit_transform(train_set['Phrase'])\n",
    "uni_test_bow = vectorizer_uni_bow.transform(test_set['Phrase'])\n",
    "#print (uni_features_train.shape, uni_features_test.shape)\n",
    "\n",
    "bi_train_bow = vectorizer_bi_bow.fit_transform(train_set['Phrase'])\n",
    "bi_test_bow = vectorizer_bi_bow.transform(test_set['Phrase'])\n",
    "#print (bi_features_train.shape, bi_features_test.shape)\n",
    "\n",
    "tri_train_bow = vectorizer_tri_bow.fit_transform(train_set['Phrase'])\n",
    "tri_test_bow = vectorizer_tri_bow.transform(test_set['Phrase'])\n",
    "#print (tri_features_train.shape, tri_features_test.shape)"
   ]
  },
  {
   "cell_type": "code",
   "execution_count": null,
   "metadata": {},
   "outputs": [],
   "source": [
    "train_labels = train_set['Sentiment']\n",
    "test_labels = test_set['Sentiment']"
   ]
  },
  {
   "attachments": {},
   "cell_type": "markdown",
   "metadata": {},
   "source": [
    "## Klassifizierungsmodelle trainieren"
   ]
  },
  {
   "cell_type": "code",
   "execution_count": null,
   "metadata": {},
   "outputs": [],
   "source": [
    "# Naive Bayes Unigram \n",
    "# mit Cleaning: Zeit: 2s Accuracy: 0.77\n",
    "# ohne Cleaning: Zeit: 2s Accuracy: 0.78\n",
    "\n",
    "from sklearn.naive_bayes import MultinomialNB\n",
    "\n",
    "uni_nb = MultinomialNB()\n",
    "uni_nb.fit(uni_train_bow, train_labels)\n",
    " \n",
    "predictions = uni_nb.predict(uni_test_bow)\n",
    "print(sklearn.metrics.classification_report(test_labels, predictions, target_names=['0','1']))"
   ]
  },
  {
   "cell_type": "code",
   "execution_count": null,
   "metadata": {},
   "outputs": [],
   "source": [
    "co_ma = sklearn.metrics.confusion_matrix(test_labels, predictions, labels=[0, 1])   \n",
    "\n",
    "ax= plt.subplot()\n",
    "sns.heatmap(co_ma, annot=True, fmt='g', ax=ax, cmap=plt.cm.Blues);  #annot=True to annotate cells, ftm='g' to disable scientific notation\n",
    "\n",
    "# labels, title and ticks\n",
    "ax.set_xlabel('Predicted labels');ax.set_ylabel('True labels'); \n",
    "ax.set_title('Confusion Matrix'); \n",
    "ax.xaxis.set_ticklabels(['0','1']); ax.yaxis.set_ticklabels(['0','1'])"
   ]
  },
  {
   "cell_type": "code",
   "execution_count": null,
   "metadata": {},
   "outputs": [],
   "source": [
    "# Naive Bayes Unigram + Bigram\n",
    "# mit Cleaning: Zeit: 6.5s Accuracy: 0.78\n",
    "# ohne Cleaning: Zeit: 6.5s Accuracy: 0.80\n",
    "\n",
    "bi_nb = MultinomialNB()\n",
    "bi_nb.fit(bi_train_bow, train_labels)\n",
    " \n",
    "predictions = bi_nb.predict(bi_test_bow)\n",
    "print(sklearn.metrics.classification_report(test_labels, predictions, target_names=['0','4']))\n",
    "print(sklearn.metrics.confusion_matrix(test_labels, predictions, labels=[0, 4]))\n"
   ]
  },
  {
   "cell_type": "code",
   "execution_count": null,
   "metadata": {},
   "outputs": [],
   "source": [
    "# Naive Bayes Unigram + Bigram + Trigram\n",
    "# mit Cleaning: Zeit: 4.2s Accuracy: 0.79\n",
    "# mit Cleaning: Zeit: 4.2s Accuracy: 0.80\n",
    "\n",
    "tri_nb = MultinomialNB()\n",
    "tri_nb.fit(tri_train_bow, train_labels)\n",
    " \n",
    "predictions = tri_nb.predict(tri_test_bow)\n",
    "print(sklearn.metrics.classification_report(test_labels, predictions, target_names=['0','4']))\n",
    "print(sklearn.metrics.confusion_matrix(test_labels, predictions, labels=[0, 4]))\n"
   ]
  },
  {
   "cell_type": "code",
   "execution_count": null,
   "metadata": {},
   "outputs": [],
   "source": [
    "# Logistische Regression Unigram\n",
    "# mit Cleaning: Zeit: 5m 50s Accuracy: 0.78\n",
    "# ohne Cleaning: Zeit: 7m 26s Accuracy: 0.80\n",
    "\n",
    "\n",
    "uni_logreg = sklearn.linear_model.LogisticRegression(max_iter=10000)\n",
    "uni_logreg.fit(uni_train_bow, train_labels)\n",
    "\n",
    "predictions = uni_logreg.predict(uni_test_bow)\n",
    "print(sklearn.metrics.classification_report(test_labels, predictions, target_names=['0','4']))\n",
    "print(sklearn.metrics.confusion_matrix(test_labels, predictions, labels=[0, 4]))\n"
   ]
  },
  {
   "cell_type": "code",
   "execution_count": null,
   "metadata": {},
   "outputs": [],
   "source": [
    "# Logistische Regression Unigram + Bigram\n",
    "# mit Cleaning: Zeit: 20m 7s Accuracy: 0.80 \n",
    "\n",
    "\n",
    "bi_logreg = sklearn.linear_model.LogisticRegression(max_iter=10000)\n",
    "bi_logreg.fit(bi_train_bow, train_labels)\n",
    "#print (bi_logreg)\n",
    "\n",
    "predictions = bi_logreg.predict(bi_test_bow)\n",
    "print(sklearn.metrics.classification_report(test_labels, predictions, target_names=['0','4']))\n",
    "print(sklearn.metrics.confusion_matrix(test_labels, predictions, labels=[0, 4]))\n",
    "# Feature-Set Größe erhöht sich weil auch Bi-Gramme berücksichtigt "
   ]
  },
  {
   "cell_type": "code",
   "execution_count": null,
   "metadata": {},
   "outputs": [],
   "source": [
    "# Logistische Regression Unigram + Bigram + Trigram\n",
    "# mit Cleaning: Zeit: 36m 21s Accuracy: 0.80 \n",
    "\n",
    "tri_logreg = sklearn.linear_model.LogisticRegression(max_iter=10000)\n",
    "tri_logreg.fit(tri_train_bow, train_labels)\n",
    "#print (tri_logreg)\n",
    "\n",
    "predictions = tri_logreg.predict(tri_test_bow)\n",
    "print(sklearn.metrics.classification_report(test_labels, predictions, target_names=['0','4']))\n",
    "print(sklearn.metrics.confusion_matrix(test_labels, predictions, labels=[0, 4]))"
   ]
  },
  {
   "cell_type": "code",
   "execution_count": null,
   "metadata": {},
   "outputs": [],
   "source": [
    "# Linear Support Vector Machine (LSVM) Unigram\n",
    "# mit Cleaning: Zeit: 10m 12s Accuracy: 0.77 \n",
    "\n",
    "uni_lsvm = sklearn.svm.LinearSVC(max_iter=10000)\n",
    "uni_lsvm.fit(uni_train_bow, train_labels)\n",
    " \n",
    "predictions = uni_lsvm.predict(uni_test_bow)\n",
    "print(sklearn.metrics.classification_report(test_labels, predictions, target_names=['0','4']))\n",
    "print(sklearn.metrics.confusion_matrix(test_labels, predictions, labels=[0, 4]))"
   ]
  },
  {
   "cell_type": "code",
   "execution_count": null,
   "metadata": {},
   "outputs": [],
   "source": [
    "# Linear Support Vector Machine (LSVM) Unigram + Bigram\n",
    "# mit Cleaning: Zeit: 11m 30s Accuracy: 0.79 \n",
    "\n",
    "bi_lsvm = sklearn.svm.LinearSVC(max_iter=10000)\n",
    "bi_lsvm.fit(bi_train_bow, train_labels)\n",
    " \n",
    "predictions = bi_lsvm.predict(bi_test_bow)\n",
    "print(sklearn.metrics.classification_report(test_labels, predictions, target_names=['0','4']))\n",
    "print(sklearn.metrics.confusion_matrix(test_labels, predictions, labels=[0, 4]))"
   ]
  },
  {
   "cell_type": "code",
   "execution_count": null,
   "metadata": {},
   "outputs": [],
   "source": [
    "# Linear Support Vector Machine (LSVM) Unigram + Bigram + Trigram\n",
    "# mit Cleaning: Zeit: 13m 10s Accuracy: 0.79\n",
    "\n",
    "tri_lsvm = sklearn.svm.LinearSVC(max_iter=10000)\n",
    "tri_lsvm.fit(tri_train_bow, train_labels)\n",
    " \n",
    "predictions = tri_lsvm.predict(tri_test_bow)\n",
    "print(sklearn.metrics.classification_report(test_labels, predictions, target_names=['0','4']))\n",
    "print(sklearn.metrics.confusion_matrix(test_labels, predictions, labels=[0, 4]))"
   ]
  }
 ],
 "metadata": {
  "kernelspec": {
   "display_name": "Python 3",
   "language": "python",
   "name": "python3"
  },
  "language_info": {
   "codemirror_mode": {
    "name": "ipython",
    "version": 3
   },
   "file_extension": ".py",
   "mimetype": "text/x-python",
   "name": "python",
   "nbconvert_exporter": "python",
   "pygments_lexer": "ipython3",
   "version": "3.10.11"
  },
  "orig_nbformat": 4
 },
 "nbformat": 4,
 "nbformat_minor": 2
}
