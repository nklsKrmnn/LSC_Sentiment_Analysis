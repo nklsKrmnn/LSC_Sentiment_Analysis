{
 "cells": [
  {
   "cell_type": "markdown",
   "metadata": {
    "id": "view-in-github"
   },
   "source": [
    "<a href=\"https://colab.research.google.com/github/nklsKrmnn/LSC_Sentiment_Analysis/blob/main/Projekt_Colab.ipynb\" target=\"_parent\"><img src=\"https://colab.research.google.com/assets/colab-badge.svg\" alt=\"Open In Colab\"/></a>"
   ]
  },
  {
   "cell_type": "code",
   "source": [
    "from google.colab import drive\n",
    "drive.mount('/content/drive')\n",
    "%cd 'drive/MyDrive/LSC_Sentiment_Analysis'"
   ],
   "metadata": {
    "colab": {
     "base_uri": "https://localhost:8080/"
    },
    "id": "iJW4QklEpXV1",
    "executionInfo": {
     "status": "ok",
     "timestamp": 1688029158456,
     "user_tz": -120,
     "elapsed": 3472,
     "user": {
      "displayName": "Niklas Kormann",
      "userId": "03685805006922190005"
     }
    },
    "outputId": "52dff348-9786-426a-cae5-cbb05ab296fa"
   },
   "execution_count": 2,
   "outputs": [
    {
     "output_type": "stream",
     "name": "stdout",
     "text": [
      "Drive already mounted at /content/drive; to attempt to forcibly remount, call drive.mount(\"/content/drive\", force_remount=True).\n",
      "/content/drive/MyDrive/LSC_Sentiment_Analysis\n"
     ]
    }
   ]
  },
  {
   "cell_type": "code",
   "execution_count": 3,
   "metadata": {
    "pycharm": {
     "is_executing": true
    },
    "id": "qYyN67VJnodb",
    "executionInfo": {
     "status": "ok",
     "timestamp": 1688029176756,
     "user_tz": -120,
     "elapsed": 18303,
     "user": {
      "displayName": "Niklas Kormann",
      "userId": "03685805006922190005"
     }
    },
    "colab": {
     "base_uri": "https://localhost:8080/"
    },
    "outputId": "98930150-cc0b-4d20-e4ad-f3782cfe3680"
   },
   "outputs": [
    {
     "output_type": "stream",
     "name": "stdout",
     "text": [
      "\u001B[2K     \u001B[90m━━━━━━━━━━━━━━━━━━━━━━━━━━━━━━━━━━━━━━━━\u001B[0m \u001B[32m7.2/7.2 MB\u001B[0m \u001B[31m82.2 MB/s\u001B[0m eta \u001B[36m0:00:00\u001B[0m\n",
      "\u001B[2K     \u001B[90m━━━━━━━━━━━━━━━━━━━━━━━━━━━━━━━━━━━━━━\u001B[0m \u001B[32m236.8/236.8 kB\u001B[0m \u001B[31m32.6 MB/s\u001B[0m eta \u001B[36m0:00:00\u001B[0m\n",
      "\u001B[2K     \u001B[90m━━━━━━━━━━━━━━━━━━━━━━━━━━━━━━━━━━━━━━━━\u001B[0m \u001B[32m7.8/7.8 MB\u001B[0m \u001B[31m87.9 MB/s\u001B[0m eta \u001B[36m0:00:00\u001B[0m\n",
      "\u001B[2K     \u001B[90m━━━━━━━━━━━━━━━━━━━━━━━━━━━━━━━━━━━━━━━━\u001B[0m \u001B[32m1.3/1.3 MB\u001B[0m \u001B[31m76.6 MB/s\u001B[0m eta \u001B[36m0:00:00\u001B[0m\n",
      "\u001B[?25h"
     ]
    }
   ],
   "source": [
    "try:\n",
    "  import json\n",
    "except:\n",
    "  %pip install -q json\n",
    "  import json\n",
    "\n",
    "try:\n",
    "  import logging\n",
    "except:\n",
    "  %pip install -q logging\n",
    "  import logging\n",
    "\n",
    "try:\n",
    "  import sys\n",
    "except:\n",
    "  %pip install -q sys\n",
    "  import sys\n",
    "\n",
    "try:\n",
    "  import os\n",
    "except:\n",
    "  %pip install -q os\n",
    "  import os\n",
    "\n",
    "try:\n",
    "  import pandas as pd\n",
    "except:\n",
    "  %pip install -q pandas\n",
    "  import pandas as pd\n",
    "\n",
    "try:\n",
    "  import torch\n",
    "  from torch.utils.data import DataLoader\n",
    "  import torch.nn as nn\n",
    "  import torch.optim as optim\n",
    "  from torchsummary import summary\n",
    "except:\n",
    "  %pip install -q torch\n",
    "  import torch\n",
    "  from torch.utils.data import DataLoader\n",
    "  import torch.nn as nn\n",
    "  import torch.optim as optim\n",
    "  from torchsummary import summary\n",
    "\n",
    "try:\n",
    "  from sklearn.model_selection import train_test_split\n",
    "except:\n",
    "  %pip install -q sklearn\n",
    "  from sklearn.model_selection import train_test_split\n",
    "\n",
    "try:\n",
    "  import transformers\n",
    "  from transformers import BertTokenizer, BertModel, BertConfig\n",
    "except:\n",
    "  %pip install -q transformers\n",
    "  import transformers\n",
    "from transformers import BertTokenizer, BertModel, BertConfig\n"
   ]
  },
  {
   "cell_type": "markdown",
   "source": [
    "# 1. Pre-trained BERT Model"
   ],
   "metadata": {
    "id": "xCgVVaXpZrwV"
   }
  },
  {
   "cell_type": "markdown",
   "source": [
    "## 1.1 Training aller Parameter"
   ],
   "metadata": {
    "id": "Ylqq0bBZZ0RX"
   }
  },
  {
   "cell_type": "code",
   "execution_count": 4,
   "metadata": {
    "id": "vILO6dgInodh",
    "executionInfo": {
     "status": "ok",
     "timestamp": 1688029180051,
     "user_tz": -120,
     "elapsed": 3297,
     "user": {
      "displayName": "Niklas Kormann",
      "userId": "03685805006922190005"
     }
    }
   },
   "outputs": [],
   "source": [
    "from models.bert import BERTClass"
   ]
  },
  {
   "cell_type": "code",
   "source": [
    "model = BERTClass()\n",
    "model.load_state_dict(torch.load(\"./runs/model_saves/best_model_BERT_SM - 2023-06-28 22-08-32.387422_.pt\"))\n",
    "print(model)\n"
   ],
   "metadata": {
    "colab": {
     "base_uri": "https://localhost:8080/",
     "height": 934,
     "referenced_widgets": [
      "541f98738919402eb76cb925d72d7202",
      "fc32e691313b4ae696e4f3e2f2e8b51b",
      "7ca10b1fbe8042f18ee57b849f3460ac",
      "b694b6c6af6f48608f389f43fadf2805",
      "fa88352d6b4f4d64b27138aa188fb275",
      "d2c5d08b0db448aeab591772fe373b2f",
      "8e1559cc9e584a2dbac213f84f681e23",
      "b1395a3b69b84e1082a0f6d404988392",
      "f5af715a642546b88ee5fa3a7804afca",
      "ca868c9695e7468e8b3f5bf8d0778368",
      "0a02f92b64fa431c8e717e3cad01ba16",
      "40a8c42dc46144afa5bcf96dce0addaa",
      "39a17fdc9a884894870b2062ca059751",
      "e2a95d677c0d46b7b7a293ff2288e600",
      "9118e21e30524b7b8c0c4a16d6eba883",
      "c9ff3e1d295b491388cb1309add3766c",
      "4d3fa1c15b0a4baebf2590f97ce6f1eb",
      "279767bd2ec84058ba34a28b35c0e429",
      "d7a51d5701b14e50ba58f3058a854049",
      "59723e1a15dc4d5aaa791c9972fc8a20",
      "4539cc8076d04f609800ed99e71f6eab",
      "218961d31e004913846828e7b9fa0598"
     ]
    },
    "id": "3jZNEmOeomFv",
    "executionInfo": {
     "status": "ok",
     "timestamp": 1688029204925,
     "user_tz": -120,
     "elapsed": 24890,
     "user": {
      "displayName": "Niklas Kormann",
      "userId": "03685805006922190005"
     }
    },
    "outputId": "cd657592-82ed-4c32-b61b-ef5f355a53cc"
   },
   "execution_count": 5,
   "outputs": [
    {
     "output_type": "display_data",
     "data": {
      "text/plain": [
       "Downloading (…)lve/main/config.json:   0%|          | 0.00/570 [00:00<?, ?B/s]"
      ],
      "application/vnd.jupyter.widget-view+json": {
       "version_major": 2,
       "version_minor": 0,
       "model_id": "541f98738919402eb76cb925d72d7202"
      }
     },
     "metadata": {}
    },
    {
     "output_type": "display_data",
     "data": {
      "text/plain": [
       "Downloading model.safetensors:   0%|          | 0.00/440M [00:00<?, ?B/s]"
      ],
      "application/vnd.jupyter.widget-view+json": {
       "version_major": 2,
       "version_minor": 0,
       "model_id": "40a8c42dc46144afa5bcf96dce0addaa"
      }
     },
     "metadata": {}
    },
    {
     "output_type": "stream",
     "name": "stderr",
     "text": [
      "Some weights of the model checkpoint at bert-base-uncased were not used when initializing BertModel: ['cls.predictions.transform.dense.weight', 'cls.predictions.transform.LayerNorm.weight', 'cls.predictions.transform.LayerNorm.bias', 'cls.predictions.bias', 'cls.seq_relationship.bias', 'cls.predictions.transform.dense.bias', 'cls.seq_relationship.weight']\n",
      "- This IS expected if you are initializing BertModel from the checkpoint of a model trained on another task or with another architecture (e.g. initializing a BertForSequenceClassification model from a BertForPreTraining model).\n",
      "- This IS NOT expected if you are initializing BertModel from the checkpoint of a model that you expect to be exactly identical (initializing a BertForSequenceClassification model from a BertForSequenceClassification model).\n"
     ]
    },
    {
     "output_type": "stream",
     "name": "stdout",
     "text": [
      "BERTClass(\n",
      "  (l1): BertModel(\n",
      "    (embeddings): BertEmbeddings(\n",
      "      (word_embeddings): Embedding(30522, 768, padding_idx=0)\n",
      "      (position_embeddings): Embedding(512, 768)\n",
      "      (token_type_embeddings): Embedding(2, 768)\n",
      "      (LayerNorm): LayerNorm((768,), eps=1e-12, elementwise_affine=True)\n",
      "      (dropout): Dropout(p=0.1, inplace=False)\n",
      "    )\n",
      "    (encoder): BertEncoder(\n",
      "      (layer): ModuleList(\n",
      "        (0-11): 12 x BertLayer(\n",
      "          (attention): BertAttention(\n",
      "            (self): BertSelfAttention(\n",
      "              (query): Linear(in_features=768, out_features=768, bias=True)\n",
      "              (key): Linear(in_features=768, out_features=768, bias=True)\n",
      "              (value): Linear(in_features=768, out_features=768, bias=True)\n",
      "              (dropout): Dropout(p=0.1, inplace=False)\n",
      "            )\n",
      "            (output): BertSelfOutput(\n",
      "              (dense): Linear(in_features=768, out_features=768, bias=True)\n",
      "              (LayerNorm): LayerNorm((768,), eps=1e-12, elementwise_affine=True)\n",
      "              (dropout): Dropout(p=0.1, inplace=False)\n",
      "            )\n",
      "          )\n",
      "          (intermediate): BertIntermediate(\n",
      "            (dense): Linear(in_features=768, out_features=3072, bias=True)\n",
      "            (intermediate_act_fn): GELUActivation()\n",
      "          )\n",
      "          (output): BertOutput(\n",
      "            (dense): Linear(in_features=3072, out_features=768, bias=True)\n",
      "            (LayerNorm): LayerNorm((768,), eps=1e-12, elementwise_affine=True)\n",
      "            (dropout): Dropout(p=0.1, inplace=False)\n",
      "          )\n",
      "        )\n",
      "      )\n",
      "    )\n",
      "    (pooler): BertPooler(\n",
      "      (dense): Linear(in_features=768, out_features=768, bias=True)\n",
      "      (activation): Tanh()\n",
      "    )\n",
      "  )\n",
      "  (l2): Dropout(p=0.3, inplace=False)\n",
      "  (l3): Linear(in_features=768, out_features=3, bias=True)\n",
      ")\n"
     ]
    }
   ]
  },
  {
   "cell_type": "code",
   "source": [
    "total_params = sum(p.numel() for p in model.parameters())\n",
    "trainable_params = sum(p.numel() for p in model.parameters() if p.requires_grad)\n",
    "print(f\"Number of parameters: {total_params}\")\n",
    "print(f\"Number of parameters: {trainable_params}\")"
   ],
   "metadata": {
    "colab": {
     "base_uri": "https://localhost:8080/"
    },
    "id": "UPun85xLYisQ",
    "executionInfo": {
     "status": "ok",
     "timestamp": 1688029504601,
     "user_tz": -120,
     "elapsed": 427,
     "user": {
      "displayName": "Niklas Kormann",
      "userId": "03685805006922190005"
     }
    },
    "outputId": "e00d1d63-a7fa-40b4-aafc-42d7291e17ce"
   },
   "execution_count": 13,
   "outputs": [
    {
     "output_type": "stream",
     "name": "stdout",
     "text": [
      "Number of parameters: 109484547\n",
      "Number of parameters: 109484547\n"
     ]
    }
   ]
  },
  {
   "cell_type": "markdown",
   "source": [
    "![loss_chart_BERT_SM - 2023-06-28 22-08-32.387422.png](data:image/png;base64,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)"
   ],
   "metadata": {
    "id": "vBC2qnSFaJOX"
   }
  }
 ],
 "metadata": {
  "colab": {
   "provenance": [],
   "gpuType": "T4"
  },
  "kernelspec": {
   "display_name": "Python 3",
   "name": "python3"
  },
  "language_info": {
   "codemirror_mode": {
    "name": "ipython",
    "version": 3
   },
   "file_extension": ".py",
   "mimetype": "text/x-python",
   "name": "python",
   "nbconvert_exporter": "python",
   "pygments_lexer": "ipython3",
   "version": "3.9.16"
  },
  "accelerator": "GPU",
  "widgets": {
   "application/vnd.jupyter.widget-state+json": {
    "541f98738919402eb76cb925d72d7202": {
     "model_module": "@jupyter-widgets/controls",
     "model_name": "HBoxModel",
     "model_module_version": "1.5.0",
     "state": {
      "_dom_classes": [],
      "_model_module": "@jupyter-widgets/controls",
      "_model_module_version": "1.5.0",
      "_model_name": "HBoxModel",
      "_view_count": null,
      "_view_module": "@jupyter-widgets/controls",
      "_view_module_version": "1.5.0",
      "_view_name": "HBoxView",
      "box_style": "",
      "children": [
       "IPY_MODEL_fc32e691313b4ae696e4f3e2f2e8b51b",
       "IPY_MODEL_7ca10b1fbe8042f18ee57b849f3460ac",
       "IPY_MODEL_b694b6c6af6f48608f389f43fadf2805"
      ],
      "layout": "IPY_MODEL_fa88352d6b4f4d64b27138aa188fb275"
     }
    },
    "fc32e691313b4ae696e4f3e2f2e8b51b": {
     "model_module": "@jupyter-widgets/controls",
     "model_name": "HTMLModel",
     "model_module_version": "1.5.0",
     "state": {
      "_dom_classes": [],
      "_model_module": "@jupyter-widgets/controls",
      "_model_module_version": "1.5.0",
      "_model_name": "HTMLModel",
      "_view_count": null,
      "_view_module": "@jupyter-widgets/controls",
      "_view_module_version": "1.5.0",
      "_view_name": "HTMLView",
      "description": "",
      "description_tooltip": null,
      "layout": "IPY_MODEL_d2c5d08b0db448aeab591772fe373b2f",
      "placeholder": "​",
      "style": "IPY_MODEL_8e1559cc9e584a2dbac213f84f681e23",
      "value": "Downloading (…)lve/main/config.json: 100%"
     }
    },
    "7ca10b1fbe8042f18ee57b849f3460ac": {
     "model_module": "@jupyter-widgets/controls",
     "model_name": "FloatProgressModel",
     "model_module_version": "1.5.0",
     "state": {
      "_dom_classes": [],
      "_model_module": "@jupyter-widgets/controls",
      "_model_module_version": "1.5.0",
      "_model_name": "FloatProgressModel",
      "_view_count": null,
      "_view_module": "@jupyter-widgets/controls",
      "_view_module_version": "1.5.0",
      "_view_name": "ProgressView",
      "bar_style": "success",
      "description": "",
      "description_tooltip": null,
      "layout": "IPY_MODEL_b1395a3b69b84e1082a0f6d404988392",
      "max": 570,
      "min": 0,
      "orientation": "horizontal",
      "style": "IPY_MODEL_f5af715a642546b88ee5fa3a7804afca",
      "value": 570
     }
    },
    "b694b6c6af6f48608f389f43fadf2805": {
     "model_module": "@jupyter-widgets/controls",
     "model_name": "HTMLModel",
     "model_module_version": "1.5.0",
     "state": {
      "_dom_classes": [],
      "_model_module": "@jupyter-widgets/controls",
      "_model_module_version": "1.5.0",
      "_model_name": "HTMLModel",
      "_view_count": null,
      "_view_module": "@jupyter-widgets/controls",
      "_view_module_version": "1.5.0",
      "_view_name": "HTMLView",
      "description": "",
      "description_tooltip": null,
      "layout": "IPY_MODEL_ca868c9695e7468e8b3f5bf8d0778368",
      "placeholder": "​",
      "style": "IPY_MODEL_0a02f92b64fa431c8e717e3cad01ba16",
      "value": " 570/570 [00:00&lt;00:00, 25.4kB/s]"
     }
    },
    "fa88352d6b4f4d64b27138aa188fb275": {
     "model_module": "@jupyter-widgets/base",
     "model_name": "LayoutModel",
     "model_module_version": "1.2.0",
     "state": {
      "_model_module": "@jupyter-widgets/base",
      "_model_module_version": "1.2.0",
      "_model_name": "LayoutModel",
      "_view_count": null,
      "_view_module": "@jupyter-widgets/base",
      "_view_module_version": "1.2.0",
      "_view_name": "LayoutView",
      "align_content": null,
      "align_items": null,
      "align_self": null,
      "border": null,
      "bottom": null,
      "display": null,
      "flex": null,
      "flex_flow": null,
      "grid_area": null,
      "grid_auto_columns": null,
      "grid_auto_flow": null,
      "grid_auto_rows": null,
      "grid_column": null,
      "grid_gap": null,
      "grid_row": null,
      "grid_template_areas": null,
      "grid_template_columns": null,
      "grid_template_rows": null,
      "height": null,
      "justify_content": null,
      "justify_items": null,
      "left": null,
      "margin": null,
      "max_height": null,
      "max_width": null,
      "min_height": null,
      "min_width": null,
      "object_fit": null,
      "object_position": null,
      "order": null,
      "overflow": null,
      "overflow_x": null,
      "overflow_y": null,
      "padding": null,
      "right": null,
      "top": null,
      "visibility": null,
      "width": null
     }
    },
    "d2c5d08b0db448aeab591772fe373b2f": {
     "model_module": "@jupyter-widgets/base",
     "model_name": "LayoutModel",
     "model_module_version": "1.2.0",
     "state": {
      "_model_module": "@jupyter-widgets/base",
      "_model_module_version": "1.2.0",
      "_model_name": "LayoutModel",
      "_view_count": null,
      "_view_module": "@jupyter-widgets/base",
      "_view_module_version": "1.2.0",
      "_view_name": "LayoutView",
      "align_content": null,
      "align_items": null,
      "align_self": null,
      "border": null,
      "bottom": null,
      "display": null,
      "flex": null,
      "flex_flow": null,
      "grid_area": null,
      "grid_auto_columns": null,
      "grid_auto_flow": null,
      "grid_auto_rows": null,
      "grid_column": null,
      "grid_gap": null,
      "grid_row": null,
      "grid_template_areas": null,
      "grid_template_columns": null,
      "grid_template_rows": null,
      "height": null,
      "justify_content": null,
      "justify_items": null,
      "left": null,
      "margin": null,
      "max_height": null,
      "max_width": null,
      "min_height": null,
      "min_width": null,
      "object_fit": null,
      "object_position": null,
      "order": null,
      "overflow": null,
      "overflow_x": null,
      "overflow_y": null,
      "padding": null,
      "right": null,
      "top": null,
      "visibility": null,
      "width": null
     }
    },
    "8e1559cc9e584a2dbac213f84f681e23": {
     "model_module": "@jupyter-widgets/controls",
     "model_name": "DescriptionStyleModel",
     "model_module_version": "1.5.0",
     "state": {
      "_model_module": "@jupyter-widgets/controls",
      "_model_module_version": "1.5.0",
      "_model_name": "DescriptionStyleModel",
      "_view_count": null,
      "_view_module": "@jupyter-widgets/base",
      "_view_module_version": "1.2.0",
      "_view_name": "StyleView",
      "description_width": ""
     }
    },
    "b1395a3b69b84e1082a0f6d404988392": {
     "model_module": "@jupyter-widgets/base",
     "model_name": "LayoutModel",
     "model_module_version": "1.2.0",
     "state": {
      "_model_module": "@jupyter-widgets/base",
      "_model_module_version": "1.2.0",
      "_model_name": "LayoutModel",
      "_view_count": null,
      "_view_module": "@jupyter-widgets/base",
      "_view_module_version": "1.2.0",
      "_view_name": "LayoutView",
      "align_content": null,
      "align_items": null,
      "align_self": null,
      "border": null,
      "bottom": null,
      "display": null,
      "flex": null,
      "flex_flow": null,
      "grid_area": null,
      "grid_auto_columns": null,
      "grid_auto_flow": null,
      "grid_auto_rows": null,
      "grid_column": null,
      "grid_gap": null,
      "grid_row": null,
      "grid_template_areas": null,
      "grid_template_columns": null,
      "grid_template_rows": null,
      "height": null,
      "justify_content": null,
      "justify_items": null,
      "left": null,
      "margin": null,
      "max_height": null,
      "max_width": null,
      "min_height": null,
      "min_width": null,
      "object_fit": null,
      "object_position": null,
      "order": null,
      "overflow": null,
      "overflow_x": null,
      "overflow_y": null,
      "padding": null,
      "right": null,
      "top": null,
      "visibility": null,
      "width": null
     }
    },
    "f5af715a642546b88ee5fa3a7804afca": {
     "model_module": "@jupyter-widgets/controls",
     "model_name": "ProgressStyleModel",
     "model_module_version": "1.5.0",
     "state": {
      "_model_module": "@jupyter-widgets/controls",
      "_model_module_version": "1.5.0",
      "_model_name": "ProgressStyleModel",
      "_view_count": null,
      "_view_module": "@jupyter-widgets/base",
      "_view_module_version": "1.2.0",
      "_view_name": "StyleView",
      "bar_color": null,
      "description_width": ""
     }
    },
    "ca868c9695e7468e8b3f5bf8d0778368": {
     "model_module": "@jupyter-widgets/base",
     "model_name": "LayoutModel",
     "model_module_version": "1.2.0",
     "state": {
      "_model_module": "@jupyter-widgets/base",
      "_model_module_version": "1.2.0",
      "_model_name": "LayoutModel",
      "_view_count": null,
      "_view_module": "@jupyter-widgets/base",
      "_view_module_version": "1.2.0",
      "_view_name": "LayoutView",
      "align_content": null,
      "align_items": null,
      "align_self": null,
      "border": null,
      "bottom": null,
      "display": null,
      "flex": null,
      "flex_flow": null,
      "grid_area": null,
      "grid_auto_columns": null,
      "grid_auto_flow": null,
      "grid_auto_rows": null,
      "grid_column": null,
      "grid_gap": null,
      "grid_row": null,
      "grid_template_areas": null,
      "grid_template_columns": null,
      "grid_template_rows": null,
      "height": null,
      "justify_content": null,
      "justify_items": null,
      "left": null,
      "margin": null,
      "max_height": null,
      "max_width": null,
      "min_height": null,
      "min_width": null,
      "object_fit": null,
      "object_position": null,
      "order": null,
      "overflow": null,
      "overflow_x": null,
      "overflow_y": null,
      "padding": null,
      "right": null,
      "top": null,
      "visibility": null,
      "width": null
     }
    },
    "0a02f92b64fa431c8e717e3cad01ba16": {
     "model_module": "@jupyter-widgets/controls",
     "model_name": "DescriptionStyleModel",
     "model_module_version": "1.5.0",
     "state": {
      "_model_module": "@jupyter-widgets/controls",
      "_model_module_version": "1.5.0",
      "_model_name": "DescriptionStyleModel",
      "_view_count": null,
      "_view_module": "@jupyter-widgets/base",
      "_view_module_version": "1.2.0",
      "_view_name": "StyleView",
      "description_width": ""
     }
    },
    "40a8c42dc46144afa5bcf96dce0addaa": {
     "model_module": "@jupyter-widgets/controls",
     "model_name": "HBoxModel",
     "model_module_version": "1.5.0",
     "state": {
      "_dom_classes": [],
      "_model_module": "@jupyter-widgets/controls",
      "_model_module_version": "1.5.0",
      "_model_name": "HBoxModel",
      "_view_count": null,
      "_view_module": "@jupyter-widgets/controls",
      "_view_module_version": "1.5.0",
      "_view_name": "HBoxView",
      "box_style": "",
      "children": [
       "IPY_MODEL_39a17fdc9a884894870b2062ca059751",
       "IPY_MODEL_e2a95d677c0d46b7b7a293ff2288e600",
       "IPY_MODEL_9118e21e30524b7b8c0c4a16d6eba883"
      ],
      "layout": "IPY_MODEL_c9ff3e1d295b491388cb1309add3766c"
     }
    },
    "39a17fdc9a884894870b2062ca059751": {
     "model_module": "@jupyter-widgets/controls",
     "model_name": "HTMLModel",
     "model_module_version": "1.5.0",
     "state": {
      "_dom_classes": [],
      "_model_module": "@jupyter-widgets/controls",
      "_model_module_version": "1.5.0",
      "_model_name": "HTMLModel",
      "_view_count": null,
      "_view_module": "@jupyter-widgets/controls",
      "_view_module_version": "1.5.0",
      "_view_name": "HTMLView",
      "description": "",
      "description_tooltip": null,
      "layout": "IPY_MODEL_4d3fa1c15b0a4baebf2590f97ce6f1eb",
      "placeholder": "​",
      "style": "IPY_MODEL_279767bd2ec84058ba34a28b35c0e429",
      "value": "Downloading model.safetensors: 100%"
     }
    },
    "e2a95d677c0d46b7b7a293ff2288e600": {
     "model_module": "@jupyter-widgets/controls",
     "model_name": "FloatProgressModel",
     "model_module_version": "1.5.0",
     "state": {
      "_dom_classes": [],
      "_model_module": "@jupyter-widgets/controls",
      "_model_module_version": "1.5.0",
      "_model_name": "FloatProgressModel",
      "_view_count": null,
      "_view_module": "@jupyter-widgets/controls",
      "_view_module_version": "1.5.0",
      "_view_name": "ProgressView",
      "bar_style": "success",
      "description": "",
      "description_tooltip": null,
      "layout": "IPY_MODEL_d7a51d5701b14e50ba58f3058a854049",
      "max": 440449768,
      "min": 0,
      "orientation": "horizontal",
      "style": "IPY_MODEL_59723e1a15dc4d5aaa791c9972fc8a20",
      "value": 440449768
     }
    },
    "9118e21e30524b7b8c0c4a16d6eba883": {
     "model_module": "@jupyter-widgets/controls",
     "model_name": "HTMLModel",
     "model_module_version": "1.5.0",
     "state": {
      "_dom_classes": [],
      "_model_module": "@jupyter-widgets/controls",
      "_model_module_version": "1.5.0",
      "_model_name": "HTMLModel",
      "_view_count": null,
      "_view_module": "@jupyter-widgets/controls",
      "_view_module_version": "1.5.0",
      "_view_name": "HTMLView",
      "description": "",
      "description_tooltip": null,
      "layout": "IPY_MODEL_4539cc8076d04f609800ed99e71f6eab",
      "placeholder": "​",
      "style": "IPY_MODEL_218961d31e004913846828e7b9fa0598",
      "value": " 440M/440M [00:01&lt;00:00, 336MB/s]"
     }
    },
    "c9ff3e1d295b491388cb1309add3766c": {
     "model_module": "@jupyter-widgets/base",
     "model_name": "LayoutModel",
     "model_module_version": "1.2.0",
     "state": {
      "_model_module": "@jupyter-widgets/base",
      "_model_module_version": "1.2.0",
      "_model_name": "LayoutModel",
      "_view_count": null,
      "_view_module": "@jupyter-widgets/base",
      "_view_module_version": "1.2.0",
      "_view_name": "LayoutView",
      "align_content": null,
      "align_items": null,
      "align_self": null,
      "border": null,
      "bottom": null,
      "display": null,
      "flex": null,
      "flex_flow": null,
      "grid_area": null,
      "grid_auto_columns": null,
      "grid_auto_flow": null,
      "grid_auto_rows": null,
      "grid_column": null,
      "grid_gap": null,
      "grid_row": null,
      "grid_template_areas": null,
      "grid_template_columns": null,
      "grid_template_rows": null,
      "height": null,
      "justify_content": null,
      "justify_items": null,
      "left": null,
      "margin": null,
      "max_height": null,
      "max_width": null,
      "min_height": null,
      "min_width": null,
      "object_fit": null,
      "object_position": null,
      "order": null,
      "overflow": null,
      "overflow_x": null,
      "overflow_y": null,
      "padding": null,
      "right": null,
      "top": null,
      "visibility": null,
      "width": null
     }
    },
    "4d3fa1c15b0a4baebf2590f97ce6f1eb": {
     "model_module": "@jupyter-widgets/base",
     "model_name": "LayoutModel",
     "model_module_version": "1.2.0",
     "state": {
      "_model_module": "@jupyter-widgets/base",
      "_model_module_version": "1.2.0",
      "_model_name": "LayoutModel",
      "_view_count": null,
      "_view_module": "@jupyter-widgets/base",
      "_view_module_version": "1.2.0",
      "_view_name": "LayoutView",
      "align_content": null,
      "align_items": null,
      "align_self": null,
      "border": null,
      "bottom": null,
      "display": null,
      "flex": null,
      "flex_flow": null,
      "grid_area": null,
      "grid_auto_columns": null,
      "grid_auto_flow": null,
      "grid_auto_rows": null,
      "grid_column": null,
      "grid_gap": null,
      "grid_row": null,
      "grid_template_areas": null,
      "grid_template_columns": null,
      "grid_template_rows": null,
      "height": null,
      "justify_content": null,
      "justify_items": null,
      "left": null,
      "margin": null,
      "max_height": null,
      "max_width": null,
      "min_height": null,
      "min_width": null,
      "object_fit": null,
      "object_position": null,
      "order": null,
      "overflow": null,
      "overflow_x": null,
      "overflow_y": null,
      "padding": null,
      "right": null,
      "top": null,
      "visibility": null,
      "width": null
     }
    },
    "279767bd2ec84058ba34a28b35c0e429": {
     "model_module": "@jupyter-widgets/controls",
     "model_name": "DescriptionStyleModel",
     "model_module_version": "1.5.0",
     "state": {
      "_model_module": "@jupyter-widgets/controls",
      "_model_module_version": "1.5.0",
      "_model_name": "DescriptionStyleModel",
      "_view_count": null,
      "_view_module": "@jupyter-widgets/base",
      "_view_module_version": "1.2.0",
      "_view_name": "StyleView",
      "description_width": ""
     }
    },
    "d7a51d5701b14e50ba58f3058a854049": {
     "model_module": "@jupyter-widgets/base",
     "model_name": "LayoutModel",
     "model_module_version": "1.2.0",
     "state": {
      "_model_module": "@jupyter-widgets/base",
      "_model_module_version": "1.2.0",
      "_model_name": "LayoutModel",
      "_view_count": null,
      "_view_module": "@jupyter-widgets/base",
      "_view_module_version": "1.2.0",
      "_view_name": "LayoutView",
      "align_content": null,
      "align_items": null,
      "align_self": null,
      "border": null,
      "bottom": null,
      "display": null,
      "flex": null,
      "flex_flow": null,
      "grid_area": null,
      "grid_auto_columns": null,
      "grid_auto_flow": null,
      "grid_auto_rows": null,
      "grid_column": null,
      "grid_gap": null,
      "grid_row": null,
      "grid_template_areas": null,
      "grid_template_columns": null,
      "grid_template_rows": null,
      "height": null,
      "justify_content": null,
      "justify_items": null,
      "left": null,
      "margin": null,
      "max_height": null,
      "max_width": null,
      "min_height": null,
      "min_width": null,
      "object_fit": null,
      "object_position": null,
      "order": null,
      "overflow": null,
      "overflow_x": null,
      "overflow_y": null,
      "padding": null,
      "right": null,
      "top": null,
      "visibility": null,
      "width": null
     }
    },
    "59723e1a15dc4d5aaa791c9972fc8a20": {
     "model_module": "@jupyter-widgets/controls",
     "model_name": "ProgressStyleModel",
     "model_module_version": "1.5.0",
     "state": {
      "_model_module": "@jupyter-widgets/controls",
      "_model_module_version": "1.5.0",
      "_model_name": "ProgressStyleModel",
      "_view_count": null,
      "_view_module": "@jupyter-widgets/base",
      "_view_module_version": "1.2.0",
      "_view_name": "StyleView",
      "bar_color": null,
      "description_width": ""
     }
    },
    "4539cc8076d04f609800ed99e71f6eab": {
     "model_module": "@jupyter-widgets/base",
     "model_name": "LayoutModel",
     "model_module_version": "1.2.0",
     "state": {
      "_model_module": "@jupyter-widgets/base",
      "_model_module_version": "1.2.0",
      "_model_name": "LayoutModel",
      "_view_count": null,
      "_view_module": "@jupyter-widgets/base",
      "_view_module_version": "1.2.0",
      "_view_name": "LayoutView",
      "align_content": null,
      "align_items": null,
      "align_self": null,
      "border": null,
      "bottom": null,
      "display": null,
      "flex": null,
      "flex_flow": null,
      "grid_area": null,
      "grid_auto_columns": null,
      "grid_auto_flow": null,
      "grid_auto_rows": null,
      "grid_column": null,
      "grid_gap": null,
      "grid_row": null,
      "grid_template_areas": null,
      "grid_template_columns": null,
      "grid_template_rows": null,
      "height": null,
      "justify_content": null,
      "justify_items": null,
      "left": null,
      "margin": null,
      "max_height": null,
      "max_width": null,
      "min_height": null,
      "min_width": null,
      "object_fit": null,
      "object_position": null,
      "order": null,
      "overflow": null,
      "overflow_x": null,
      "overflow_y": null,
      "padding": null,
      "right": null,
      "top": null,
      "visibility": null,
      "width": null
     }
    },
    "218961d31e004913846828e7b9fa0598": {
     "model_module": "@jupyter-widgets/controls",
     "model_name": "DescriptionStyleModel",
     "model_module_version": "1.5.0",
     "state": {
      "_model_module": "@jupyter-widgets/controls",
      "_model_module_version": "1.5.0",
      "_model_name": "DescriptionStyleModel",
      "_view_count": null,
      "_view_module": "@jupyter-widgets/base",
      "_view_module_version": "1.2.0",
      "_view_name": "StyleView",
      "description_width": ""
     }
    }
   }
  }
 },
 "nbformat": 4,
 "nbformat_minor": 0
}
