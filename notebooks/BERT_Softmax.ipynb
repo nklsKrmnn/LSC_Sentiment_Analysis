{
 "cells": [
  {
   "cell_type": "markdown",
   "metadata": {
    "id": "view-in-github"
   },
   "source": [
    "<a href=\"https://colab.research.google.com/github/nklsKrmnn/LSC_Sentiment_Analysis/blob/main/Projekt_Colab.ipynb\" target=\"_parent\"><img src=\"https://colab.research.google.com/assets/colab-badge.svg\" alt=\"Open In Colab\"/></a>"
   ]
  },
  {
   "cell_type": "code",
   "source": [
    "from google.colab import drive\n",
    "drive.mount('/content/drive')"
   ],
   "metadata": {
    "colab": {
     "base_uri": "https://localhost:8080/"
    },
    "id": "iJW4QklEpXV1",
    "executionInfo": {
     "status": "ok",
     "timestamp": 1686601719453,
     "user_tz": -120,
     "elapsed": 2784,
     "user": {
      "displayName": "Niklas Kormann",
      "userId": "03685805006922190005"
     }
    },
    "outputId": "3e157159-4488-4d29-bdfe-d917052abbcd"
   },
   "execution_count": 19,
   "outputs": [
    {
     "output_type": "stream",
     "name": "stdout",
     "text": [
      "Drive already mounted at /content/drive; to attempt to forcibly remount, call drive.mount(\"/content/drive\", force_remount=True).\n"
     ]
    }
   ]
  },
  {
   "cell_type": "code",
   "execution_count": 20,
   "metadata": {
    "pycharm": {
     "is_executing": true
    },
    "id": "qYyN67VJnodb",
    "executionInfo": {
     "status": "ok",
     "timestamp": 1686601719454,
     "user_tz": -120,
     "elapsed": 7,
     "user": {
      "displayName": "Niklas Kormann",
      "userId": "03685805006922190005"
     }
    }
   },
   "outputs": [],
   "source": [
    "try:\n",
    "  import transformers\n",
    "except:\n",
    "  %pip install -q transformers\n",
    "  import transformers"
   ]
  },
  {
   "cell_type": "code",
   "execution_count": 21,
   "metadata": {
    "id": "PTMNkLSmrmSQ",
    "colab": {
     "base_uri": "https://localhost:8080/",
     "height": 36
    },
    "executionInfo": {
     "status": "ok",
     "timestamp": 1686601719454,
     "user_tz": -120,
     "elapsed": 6,
     "user": {
      "displayName": "Niklas Kormann",
      "userId": "03685805006922190005"
     }
    },
    "outputId": "da43faf3-aa12-4c0b-8d15-58c5a28752e6"
   },
   "outputs": [
    {
     "output_type": "execute_result",
     "data": {
      "text/plain": [
       "'cuda'"
      ],
      "application/vnd.google.colaboratory.intrinsic+json": {
       "type": "string"
      }
     },
     "metadata": {},
     "execution_count": 21
    }
   ],
   "source": [
    "import pandas as pd\n",
    "import numpy as np\n",
    "import matplotlib.pyplot as plt\n",
    "import seaborn as sns\n",
    "from sklearn import metrics\n",
    "from transformers import BertTokenizer, BertModel, BertConfig\n",
    "import torch\n",
    "from torch.utils.data import Dataset, DataLoader, RandomSampler, SequentialSampler\n",
    "from torch import cuda\n",
    "\n",
    "device = 'cuda' if cuda.is_available() else 'cpu'\n",
    "device"
   ]
  },
  {
   "cell_type": "code",
   "execution_count": 22,
   "metadata": {
    "id": "SJXimWannode",
    "executionInfo": {
     "status": "ok",
     "timestamp": 1686601719454,
     "user_tz": -120,
     "elapsed": 5,
     "user": {
      "displayName": "Niklas Kormann",
      "userId": "03685805006922190005"
     }
    }
   },
   "outputs": [],
   "source": [
    "train_set = pd.read_csv(\"/content/drive/MyDrive/train.tsv\", sep='\\t')"
   ]
  },
  {
   "cell_type": "code",
   "execution_count": 23,
   "metadata": {
    "colab": {
     "base_uri": "https://localhost:8080/",
     "height": 467
    },
    "id": "m9zOH97Hnodh",
    "executionInfo": {
     "status": "ok",
     "timestamp": 1686601720649,
     "user_tz": -120,
     "elapsed": 1200,
     "user": {
      "displayName": "Niklas Kormann",
      "userId": "03685805006922190005"
     }
    },
    "outputId": "a1e37d6e-f62b-4686-db0e-6dd23dd59cef"
   },
   "outputs": [
    {
     "output_type": "execute_result",
     "data": {
      "text/plain": [
       "<Axes: xlabel='Sentiment', ylabel='count'>"
      ]
     },
     "metadata": {},
     "execution_count": 23
    },
    {
     "output_type": "display_data",
     "data": {
      "text/plain": [
       "<Figure size 640x480 with 1 Axes>"
      ],
      "image/png": "[encoded data removed]"
     },
     "metadata": {}
    }
   ],
   "source": [
    "sns.countplot(x='Sentiment', data=train_set)\n",
    "# --> The classes are not equaly represented. We need to agument or bootstrap"
   ]
  },
  {
   "cell_type": "code",
   "execution_count": 24,
   "metadata": {
    "colab": {
     "base_uri": "https://localhost:8080/",
     "height": 206
    },
    "id": "vILO6dgInodh",
    "executionInfo": {
     "status": "ok",
     "timestamp": 1686601720650,
     "user_tz": -120,
     "elapsed": 5,
     "user": {
      "displayName": "Niklas Kormann",
      "userId": "03685805006922190005"
     }
    },
    "outputId": "3d83acfb-55a7-4397-b692-0c7eec39316a"
   },
   "outputs": [
    {
     "output_type": "execute_result",
     "data": {
      "text/plain": [
       "   SentenceId  PhraseId                                             Phrase  \\\n",
       "0           1         1  A series of escapades demonstrating the adage ...   \n",
       "1           2        64  This quiet , introspective and entertaining in...   \n",
       "2           3        82  Even fans of Ismail Merchant 's work , I suspe...   \n",
       "3           4       117  A positively thrilling combination of ethnogra...   \n",
       "4           5       157  Aggressive self-glorification and a manipulati...   \n",
       "\n",
       "   Sentiment  \n",
       "0          1  \n",
       "1          4  \n",
       "2          1  \n",
       "3          3  \n",
       "4          1  "
      ],
      "text/html": [
       "\n",
       "  <div id=\"df-5b104179-656e-402a-a06c-e6af6aed9a78\">\n",
       "    <div class=\"colab-df-container\">\n",
       "      <div>\n",
       "<style scoped>\n",
       "    .dataframe tbody tr th:only-of-type {\n",
       "        vertical-align: middle;\n",
       "    }\n",
       "\n",
       "    .dataframe tbody tr th {\n",
       "        vertical-align: top;\n",
       "    }\n",
       "\n",
       "    .dataframe thead th {\n",
       "        text-align: right;\n",
       "    }\n",
       "</style>\n",
       "<table border=\"1\" class=\"dataframe\">\n",
       "  <thead>\n",
       "    <tr style=\"text-align: right;\">\n",
       "      <th></th>\n",
       "      <th>SentenceId</th>\n",
       "      <th>PhraseId</th>\n",
       "      <th>Phrase</th>\n",
       "      <th>Sentiment</th>\n",
       "    </tr>\n",
       "  </thead>\n",
       "  <tbody>\n",
       "    <tr>\n",
       "      <th>0</th>\n",
       "      <td>1</td>\n",
       "      <td>1</td>\n",
       "      <td>A series of escapades demonstrating the adage ...</td>\n",
       "      <td>1</td>\n",
       "    </tr>\n",
       "    <tr>\n",
       "      <th>1</th>\n",
       "      <td>2</td>\n",
       "      <td>64</td>\n",
       "      <td>This quiet , introspective and entertaining in...</td>\n",
       "      <td>4</td>\n",
       "    </tr>\n",
       "    <tr>\n",
       "      <th>2</th>\n",
       "      <td>3</td>\n",
       "      <td>82</td>\n",
       "      <td>Even fans of Ismail Merchant 's work , I suspe...</td>\n",
       "      <td>1</td>\n",
       "    </tr>\n",
       "    <tr>\n",
       "      <th>3</th>\n",
       "      <td>4</td>\n",
       "      <td>117</td>\n",
       "      <td>A positively thrilling combination of ethnogra...</td>\n",
       "      <td>3</td>\n",
       "    </tr>\n",
       "    <tr>\n",
       "      <th>4</th>\n",
       "      <td>5</td>\n",
       "      <td>157</td>\n",
       "      <td>Aggressive self-glorification and a manipulati...</td>\n",
       "      <td>1</td>\n",
       "    </tr>\n",
       "  </tbody>\n",
       "</table>\n",
       "</div>\n",
       "      <button class=\"colab-df-convert\" onclick=\"convertToInteractive('df-5b104179-656e-402a-a06c-e6af6aed9a78')\"\n",
       "              title=\"Convert this dataframe to an interactive table.\"\n",
       "              style=\"display:none;\">\n",
       "        \n",
       "  <svg xmlns=\"http://www.w3.org/2000/svg\" height=\"24px\"viewBox=\"0 0 24 24\"\n",
       "       width=\"24px\">\n",
       "    <path d=\"M0 0h24v24H0V0z\" fill=\"none\"/>\n",
       "    <path d=\"M18.56 5.44l.94 2.06.94-2.06 2.06-.94-2.06-.94-.94-2.06-.94 2.06-2.06.94zm-11 1L8.5 8.5l.94-2.06 2.06-.94-2.06-.94L8.5 2.5l-.94 2.06-2.06.94zm10 10l.94 2.06.94-2.06 2.06-.94-2.06-.94-.94-2.06-.94 2.06-2.06.94z\"/><path d=\"M17.41 7.96l-1.37-1.37c-.4-.4-.92-.59-1.43-.59-.52 0-1.04.2-1.43.59L10.3 9.45l-7.72 7.72c-.78.78-.78 2.05 0 2.83L4 21.41c.39.39.9.59 1.41.59.51 0 1.02-.2 1.41-.59l7.78-7.78 2.81-2.81c.8-.78.8-2.07 0-2.86zM5.41 20L4 18.59l7.72-7.72 1.47 1.35L5.41 20z\"/>\n",
       "  </svg>\n",
       "      </button>\n",
       "      \n",
       "  <style>\n",
       "    .colab-df-container {\n",
       "      display:flex;\n",
       "      flex-wrap:wrap;\n",
       "      gap: 12px;\n",
       "    }\n",
       "\n",
       "    .colab-df-convert {\n",
       "      background-color: #E8F0FE;\n",
       "      border: none;\n",
       "      border-radius: 50%;\n",
       "      cursor: pointer;\n",
       "      display: none;\n",
       "      fill: #1967D2;\n",
       "      height: 32px;\n",
       "      padding: 0 0 0 0;\n",
       "      width: 32px;\n",
       "    }\n",
       "\n",
       "    .colab-df-convert:hover {\n",
       "      background-color: #E2EBFA;\n",
       "      box-shadow: 0px 1px 2px rgba(60, 64, 67, 0.3), 0px 1px 3px 1px rgba(60, 64, 67, 0.15);\n",
       "      fill: #174EA6;\n",
       "    }\n",
       "\n",
       "    [theme=dark] .colab-df-convert {\n",
       "      background-color: #3B4455;\n",
       "      fill: #D2E3FC;\n",
       "    }\n",
       "\n",
       "    [theme=dark] .colab-df-convert:hover {\n",
       "      background-color: #434B5C;\n",
       "      box-shadow: 0px 1px 3px 1px rgba(0, 0, 0, 0.15);\n",
       "      filter: drop-shadow(0px 1px 2px rgba(0, 0, 0, 0.3));\n",
       "      fill: #FFFFFF;\n",
       "    }\n",
       "  </style>\n",
       "\n",
       "      <script>\n",
       "        const buttonEl =\n",
       "          document.querySelector('#df-5b104179-656e-402a-a06c-e6af6aed9a78 button.colab-df-convert');\n",
       "        buttonEl.style.display =\n",
       "          google.colab.kernel.accessAllowed ? 'block' : 'none';\n",
       "\n",
       "        async function convertToInteractive(key) {\n",
       "          const element = document.querySelector('#df-5b104179-656e-402a-a06c-e6af6aed9a78');\n",
       "          const dataTable =\n",
       "            await google.colab.kernel.invokeFunction('convertToInteractive',\n",
       "                                                     [key], {});\n",
       "          if (!dataTable) return;\n",
       "\n",
       "          const docLinkHtml = 'Like what you see? Visit the ' +\n",
       "            '<a target=\"_blank\" href=https://colab.research.google.com/notebooks/data_table.ipynb>data table notebook</a>'\n",
       "            + ' to learn more about interactive tables.';\n",
       "          element.innerHTML = '';\n",
       "          dataTable['output_type'] = 'display_data';\n",
       "          await google.colab.output.renderOutput(dataTable, element);\n",
       "          const docLink = document.createElement('div');\n",
       "          docLink.innerHTML = docLinkHtml;\n",
       "          element.appendChild(docLink);\n",
       "        }\n",
       "      </script>\n",
       "    </div>\n",
       "  </div>\n",
       "  "
      ]
     },
     "metadata": {},
     "execution_count": 24
    }
   ],
   "source": [
    "train_set_full_sentences = train_set.groupby('SentenceId').first().reset_index()\n",
    "train_set_full_sentences.head()"
   ]
  },
  {
   "cell_type": "code",
   "execution_count": 25,
   "metadata": {
    "colab": {
     "base_uri": "https://localhost:8080/",
     "height": 467
    },
    "id": "PChSrNF5nodi",
    "executionInfo": {
     "status": "ok",
     "timestamp": 1686601721597,
     "user_tz": -120,
     "elapsed": 952,
     "user": {
      "displayName": "Niklas Kormann",
      "userId": "03685805006922190005"
     }
    },
    "outputId": "41f1fdf1-8342-4edf-d34c-9c4045db8077"
   },
   "outputs": [
    {
     "output_type": "execute_result",
     "data": {
      "text/plain": [
       "<Axes: xlabel='Sentiment', ylabel='count'>"
      ]
     },
     "metadata": {},
     "execution_count": 25
    },
    {
     "output_type": "display_data",
     "data": {
      "text/plain": [
       "<Figure size 640x480 with 1 Axes>"
      ],
      "image/png": "[encoded data removed]"
     },
     "metadata": {}
    }
   ],
   "source": [
    "sns.countplot(x='Sentiment', data=train_set_full_sentences)\n",
    "# --> besser"
   ]
  },
  {
   "cell_type": "code",
   "execution_count": 26,
   "metadata": {
    "id": "14NB6tuhnodj",
    "executionInfo": {
     "status": "ok",
     "timestamp": 1686601722061,
     "user_tz": -120,
     "elapsed": 468,
     "user": {
      "displayName": "Niklas Kormann",
      "userId": "03685805006922190005"
     }
    }
   },
   "outputs": [],
   "source": [
    "# Sections of config\n",
    "\n",
    "# Defining some key variables that will be used later on in the training\n",
    "MAX_LEN = 200\n",
    "TRAIN_BATCH_SIZE = 20\n",
    "VALID_BATCH_SIZE = 50\n",
    "EPOCHS = 2\n",
    "LEARNING_RATE = 1e-04\n",
    "tokenizer = BertTokenizer.from_pretrained('bert-base-uncased')"
   ]
  },
  {
   "cell_type": "code",
   "execution_count": 27,
   "metadata": {
    "id": "v4-0OFJ8nodj",
    "executionInfo": {
     "status": "ok",
     "timestamp": 1686601722061,
     "user_tz": -120,
     "elapsed": 3,
     "user": {
      "displayName": "Niklas Kormann",
      "userId": "03685805006922190005"
     }
    }
   },
   "outputs": [],
   "source": [
    "class dataset(Dataset):\n",
    "\n",
    "    def __init__(self, input, targets, tokenizer, max_len):\n",
    "        self.tokenizer = tokenizer\n",
    "        self.input = input\n",
    "        self.targets = targets\n",
    "        self.max_len = max_len\n",
    "\n",
    "    def __len__(self):\n",
    "        return len(self.input)\n",
    "\n",
    "    def __getitem__(self, index):\n",
    "        text = str(self.input[index])\n",
    "        text = \" \".join(text.split())\n",
    "\n",
    "        inputs = self.tokenizer.encode_plus(\n",
    "            text,\n",
    "            None,\n",
    "            add_special_tokens=True,\n",
    "            max_length=self.max_len,\n",
    "            pad_to_max_length=True,\n",
    "            return_token_type_ids=True,\n",
    "            truncation=True\n",
    "        )\n",
    "        ids = inputs['input_ids']\n",
    "        mask = inputs['attention_mask']\n",
    "        token_type_ids = inputs[\"token_type_ids\"]\n",
    "\n",
    "        return {\n",
    "            'ids': torch.tensor(ids, dtype=torch.long),\n",
    "            'mask': torch.tensor(mask, dtype=torch.long),\n",
    "            'token_type_ids': torch.tensor(token_type_ids, dtype=torch.long),\n",
    "            'targets': torch.tensor(self.targets.iloc[index].values, dtype=torch.float)\n",
    "        }"
   ]
  },
  {
   "cell_type": "code",
   "execution_count": 28,
   "metadata": {
    "id": "lIpU-seknodi",
    "executionInfo": {
     "status": "ok",
     "timestamp": 1686601722062,
     "user_tz": -120,
     "elapsed": 3,
     "user": {
      "displayName": "Niklas Kormann",
      "userId": "03685805006922190005"
     }
    }
   },
   "outputs": [],
   "source": [
    "data_preprocessed = train_set_full_sentences.join(pd.get_dummies(train_set_full_sentences['Sentiment'], dtype=float)).drop('Sentiment', axis=1)\n",
    "setsize = data_preprocessed.shape[0]/8\n",
    "limits = []\n",
    "datasets = []\n",
    "for _ in range(8):\n",
    "  limits.append((_*setsize, (_+1)*setsize))\n",
    "  datasets.append(data_preprocessed.loc[_*setsize:(_+1)*setsize, :])"
   ]
  },
  {
   "cell_type": "code",
   "execution_count": 29,
   "metadata": {
    "id": "phKdYB3tnodk",
    "executionInfo": {
     "status": "ok",
     "timestamp": 1686601722062,
     "user_tz": -120,
     "elapsed": 3,
     "user": {
      "displayName": "Niklas Kormann",
      "userId": "03685805006922190005"
     }
    }
   },
   "outputs": [],
   "source": [
    "# Creating the customized model, by adding a drop out and a dense layer on top of distil bert to get the final output for the model. \n",
    "\n",
    "class BERTClass(torch.nn.Module):\n",
    "    def __init__(self):\n",
    "        super(BERTClass, self).__init__()\n",
    "        self.l1 = transformers.BertModel.from_pretrained('bert-base-uncased', return_dict=False)\n",
    "        self.l2 = torch.nn.Dropout(0.3)\n",
    "        self.l3 = torch.nn.Linear(768, 5)\n",
    "\n",
    "    def forward(self, ids, mask, token_type_ids):\n",
    "        _, output_1 = self.l1(ids, attention_mask=mask, token_type_ids=token_type_ids)\n",
    "        output_2 = self.l2(output_1)\n",
    "        output = self.l3(output_2)\n",
    "        return output"
   ]
  },
  {
   "cell_type": "code",
   "source": [
    "model = BERTClass()\n",
    "model.load_state_dict(torch.load(\"/content/drive/MyDrive/model.pth\"))\n",
    "model.to(device)\n"
   ],
   "metadata": {
    "colab": {
     "base_uri": "https://localhost:8080/"
    },
    "id": "3jZNEmOeomFv",
    "executionInfo": {
     "status": "ok",
     "timestamp": 1686601724474,
     "user_tz": -120,
     "elapsed": 2415,
     "user": {
      "displayName": "Niklas Kormann",
      "userId": "03685805006922190005"
     }
    },
    "outputId": "bc317568-14c9-42a8-ceb2-30221fb6b9d2"
   },
   "execution_count": 30,
   "outputs": [
    {
     "output_type": "stream",
     "name": "stderr",
     "text": [
      "Some weights of the model checkpoint at bert-base-uncased were not used when initializing BertModel: ['cls.predictions.transform.dense.bias', 'cls.predictions.transform.LayerNorm.bias', 'cls.seq_relationship.bias', 'cls.seq_relationship.weight', 'cls.predictions.transform.LayerNorm.weight', 'cls.predictions.bias', 'cls.predictions.transform.dense.weight']\n",
      "- This IS expected if you are initializing BertModel from the checkpoint of a model trained on another task or with another architecture (e.g. initializing a BertForSequenceClassification model from a BertForPreTraining model).\n",
      "- This IS NOT expected if you are initializing BertModel from the checkpoint of a model that you expect to be exactly identical (initializing a BertForSequenceClassification model from a BertForSequenceClassification model).\n"
     ]
    },
    {
     "output_type": "execute_result",
     "data": {
      "text/plain": [
       "BERTClass(\n",
       "  (l1): BertModel(\n",
       "    (embeddings): BertEmbeddings(\n",
       "      (word_embeddings): Embedding(30522, 768, padding_idx=0)\n",
       "      (position_embeddings): Embedding(512, 768)\n",
       "      (token_type_embeddings): Embedding(2, 768)\n",
       "      (LayerNorm): LayerNorm((768,), eps=1e-12, elementwise_affine=True)\n",
       "      (dropout): Dropout(p=0.1, inplace=False)\n",
       "    )\n",
       "    (encoder): BertEncoder(\n",
       "      (layer): ModuleList(\n",
       "        (0-11): 12 x BertLayer(\n",
       "          (attention): BertAttention(\n",
       "            (self): BertSelfAttention(\n",
       "              (query): Linear(in_features=768, out_features=768, bias=True)\n",
       "              (key): Linear(in_features=768, out_features=768, bias=True)\n",
       "              (value): Linear(in_features=768, out_features=768, bias=True)\n",
       "              (dropout): Dropout(p=0.1, inplace=False)\n",
       "            )\n",
       "            (output): BertSelfOutput(\n",
       "              (dense): Linear(in_features=768, out_features=768, bias=True)\n",
       "              (LayerNorm): LayerNorm((768,), eps=1e-12, elementwise_affine=True)\n",
       "              (dropout): Dropout(p=0.1, inplace=False)\n",
       "            )\n",
       "          )\n",
       "          (intermediate): BertIntermediate(\n",
       "            (dense): Linear(in_features=768, out_features=3072, bias=True)\n",
       "            (intermediate_act_fn): GELUActivation()\n",
       "          )\n",
       "          (output): BertOutput(\n",
       "            (dense): Linear(in_features=3072, out_features=768, bias=True)\n",
       "            (LayerNorm): LayerNorm((768,), eps=1e-12, elementwise_affine=True)\n",
       "            (dropout): Dropout(p=0.1, inplace=False)\n",
       "          )\n",
       "        )\n",
       "      )\n",
       "    )\n",
       "    (pooler): BertPooler(\n",
       "      (dense): Linear(in_features=768, out_features=768, bias=True)\n",
       "      (activation): Tanh()\n",
       "    )\n",
       "  )\n",
       "  (l2): Dropout(p=0.3, inplace=False)\n",
       "  (l3): Linear(in_features=768, out_features=5, bias=True)\n",
       ")"
      ]
     },
     "metadata": {},
     "execution_count": 30
    }
   ]
  },
  {
   "cell_type": "code",
   "source": [
    "def train(epoch, training_loader):\n",
    "    model.train()\n",
    "    for _, data in enumerate(training_loader, 0):\n",
    "        ids = data['ids'].to(device, dtype=torch.long)\n",
    "        mask = data['mask'].to(device, dtype=torch.long)\n",
    "        token_type_ids = data['token_type_ids'].to(device, dtype=torch.long)\n",
    "        targets = data['targets'].to(device, dtype=torch.float)\n",
    "\n",
    "        outputs = model(ids, mask, token_type_ids)\n",
    "\n",
    "        optimizer.zero_grad()\n",
    "        loss = loss_fn(outputs, targets)\n",
    "        if _ % 20 == 0:\n",
    "          torch.save(model.state_dict(), \"/content/drive/MyDrive/model.pth\")\n",
    "          print(\"Model saved\")\n",
    "        print(f'Epoch: {epoch}, Batch: {_}, Loss:  {loss.item()}')\n",
    "\n",
    "        optimizer.zero_grad()\n",
    "        loss.backward()\n",
    "        optimizer.step()"
   ],
   "metadata": {
    "id": "jFi6XI0yCZmb",
    "executionInfo": {
     "status": "ok",
     "timestamp": 1686601724475,
     "user_tz": -120,
     "elapsed": 7,
     "user": {
      "displayName": "Niklas Kormann",
      "userId": "03685805006922190005"
     }
    }
   },
   "execution_count": 31,
   "outputs": []
  },
  {
   "cell_type": "code",
   "execution_count": 32,
   "metadata": {
    "id": "_yvP_a_ynodk",
    "executionInfo": {
     "status": "ok",
     "timestamp": 1686601724476,
     "user_tz": -120,
     "elapsed": 6,
     "user": {
      "displayName": "Niklas Kormann",
      "userId": "03685805006922190005"
     }
    }
   },
   "outputs": [],
   "source": [
    "def loss_fn(outputs, targets):\n",
    "    return torch.nn.CrossEntropyLoss()(outputs, targets)"
   ]
  },
  {
   "cell_type": "code",
   "execution_count": 33,
   "metadata": {
    "id": "FdsnAVO2nodl",
    "executionInfo": {
     "status": "ok",
     "timestamp": 1686601724476,
     "user_tz": -120,
     "elapsed": 6,
     "user": {
      "displayName": "Niklas Kormann",
      "userId": "03685805006922190005"
     }
    }
   },
   "outputs": [],
   "source": [
    "optimizer = torch.optim.Adam(params =  model.parameters(), lr=LEARNING_RATE)"
   ]
  },
  {
   "cell_type": "code",
   "execution_count": 34,
   "metadata": {
    "colab": {
     "base_uri": "https://localhost:8080/"
    },
    "id": "2yHIIQDqnodl",
    "executionInfo": {
     "status": "ok",
     "timestamp": 1686601807762,
     "user_tz": -120,
     "elapsed": 83291,
     "user": {
      "displayName": "Niklas Kormann",
      "userId": "03685805006922190005"
     }
    },
    "outputId": "6332e36e-5392-4281-e88f-dcb91f0bca5a"
   },
   "outputs": [
    {
     "output_type": "stream",
     "name": "stdout",
     "text": [
      "FULL Dataset: (8529, 4)\n",
      "TRAIN Dataset: 4, Shape: (1066, 8)\n",
      "TEST Dataset: 7, Shape: (1066, 8)\n"
     ]
    },
    {
     "output_type": "stream",
     "name": "stderr",
     "text": [
      "/usr/local/lib/python3.10/dist-packages/transformers/tokenization_utils_base.py:2377: FutureWarning: The `pad_to_max_length` argument is deprecated and will be removed in a future version, use `padding=True` or `padding='longest'` to pad to the longest sequence in the batch, or use `padding='max_length'` to pad to a max length. In this case, you can give a specific length with `max_length` (e.g. `max_length=45`) or leave max_length to None to pad to the maximal input size of the model (e.g. 512 for Bert).\n",
      "  warnings.warn(\n"
     ]
    },
    {
     "output_type": "stream",
     "name": "stdout",
     "text": [
      "Model saved\n",
      "Epoch: 0, Batch: 0, Loss:  1.1724627017974854\n",
      "Epoch: 0, Batch: 1, Loss:  1.532577395439148\n",
      "Epoch: 0, Batch: 2, Loss:  1.0837234258651733\n",
      "Epoch: 0, Batch: 3, Loss:  1.1496617794036865\n",
      "Epoch: 0, Batch: 4, Loss:  1.051081657409668\n",
      "Epoch: 0, Batch: 5, Loss:  1.2894095182418823\n",
      "Epoch: 0, Batch: 6, Loss:  1.2638428211212158\n",
      "Epoch: 0, Batch: 7, Loss:  1.7747074365615845\n",
      "Epoch: 0, Batch: 8, Loss:  1.254724383354187\n",
      "Epoch: 0, Batch: 9, Loss:  1.3621232509613037\n",
      "Epoch: 0, Batch: 10, Loss:  1.2748864889144897\n",
      "Epoch: 0, Batch: 11, Loss:  0.924132764339447\n",
      "Epoch: 0, Batch: 12, Loss:  1.195492148399353\n",
      "Epoch: 0, Batch: 13, Loss:  1.1875011920928955\n",
      "Epoch: 0, Batch: 14, Loss:  1.018316626548767\n",
      "Epoch: 0, Batch: 15, Loss:  1.499009132385254\n",
      "Epoch: 0, Batch: 16, Loss:  1.2865041494369507\n",
      "Epoch: 0, Batch: 17, Loss:  1.1418707370758057\n",
      "Epoch: 0, Batch: 18, Loss:  1.2104225158691406\n",
      "Epoch: 0, Batch: 19, Loss:  1.2505778074264526\n",
      "Model saved\n",
      "Epoch: 0, Batch: 20, Loss:  1.4239076375961304\n",
      "Epoch: 0, Batch: 21, Loss:  1.2890957593917847\n",
      "Epoch: 0, Batch: 22, Loss:  1.6253530979156494\n",
      "Epoch: 0, Batch: 23, Loss:  1.1447962522506714\n",
      "Epoch: 0, Batch: 24, Loss:  1.2538340091705322\n",
      "Epoch: 0, Batch: 25, Loss:  1.0253384113311768\n",
      "Epoch: 0, Batch: 26, Loss:  1.0660086870193481\n",
      "Epoch: 0, Batch: 27, Loss:  1.2900279760360718\n",
      "Epoch: 0, Batch: 28, Loss:  1.2246121168136597\n",
      "Epoch: 0, Batch: 29, Loss:  1.3769596815109253\n",
      "Epoch: 0, Batch: 30, Loss:  1.2464089393615723\n",
      "Epoch: 0, Batch: 31, Loss:  1.312692642211914\n",
      "Epoch: 0, Batch: 32, Loss:  1.4784657955169678\n",
      "Epoch: 0, Batch: 33, Loss:  1.277109146118164\n",
      "Epoch: 0, Batch: 34, Loss:  1.2604633569717407\n",
      "Epoch: 0, Batch: 35, Loss:  1.0862231254577637\n",
      "Epoch: 0, Batch: 36, Loss:  1.046364188194275\n",
      "Epoch: 0, Batch: 37, Loss:  0.9896534085273743\n",
      "Epoch: 0, Batch: 38, Loss:  1.1811058521270752\n",
      "Epoch: 0, Batch: 39, Loss:  1.3790453672409058\n",
      "Model saved\n",
      "Epoch: 0, Batch: 40, Loss:  1.2958780527114868\n",
      "Epoch: 0, Batch: 41, Loss:  1.0315587520599365\n",
      "Epoch: 0, Batch: 42, Loss:  1.3141591548919678\n",
      "Epoch: 0, Batch: 43, Loss:  1.0854822397232056\n",
      "Epoch: 0, Batch: 44, Loss:  1.0927865505218506\n",
      "Epoch: 0, Batch: 45, Loss:  1.2395001649856567\n",
      "Epoch: 0, Batch: 46, Loss:  1.143899917602539\n",
      "Epoch: 0, Batch: 47, Loss:  1.305275559425354\n",
      "Epoch: 0, Batch: 48, Loss:  1.0965890884399414\n",
      "Epoch: 0, Batch: 49, Loss:  1.2475908994674683\n",
      "Epoch: 0, Batch: 50, Loss:  1.343194603919983\n",
      "Epoch: 0, Batch: 51, Loss:  1.1760554313659668\n",
      "Epoch: 0, Batch: 52, Loss:  1.1607402563095093\n",
      "Epoch: 0, Batch: 53, Loss:  1.0836821794509888\n",
      "FULL Dataset: (8529, 4)\n",
      "TRAIN Dataset: 5, Shape: (1066, 8)\n",
      "TEST Dataset: 7, Shape: (1066, 8)\n",
      "Model saved\n",
      "Epoch: 1, Batch: 0, Loss:  1.1779073476791382\n",
      "Epoch: 1, Batch: 1, Loss:  1.3577378988265991\n",
      "Epoch: 1, Batch: 2, Loss:  1.1461353302001953\n",
      "Epoch: 1, Batch: 3, Loss:  1.324654459953308\n",
      "Epoch: 1, Batch: 4, Loss:  1.334800362586975\n",
      "Epoch: 1, Batch: 5, Loss:  1.3786381483078003\n",
      "Epoch: 1, Batch: 6, Loss:  1.2725800275802612\n",
      "Epoch: 1, Batch: 7, Loss:  1.1305731534957886\n",
      "Epoch: 1, Batch: 8, Loss:  0.9875330924987793\n",
      "Epoch: 1, Batch: 9, Loss:  1.3346906900405884\n",
      "Epoch: 1, Batch: 10, Loss:  1.1995289325714111\n",
      "Epoch: 1, Batch: 11, Loss:  1.1921746730804443\n",
      "Epoch: 1, Batch: 12, Loss:  1.1882518529891968\n",
      "Epoch: 1, Batch: 13, Loss:  1.1306737661361694\n",
      "Epoch: 1, Batch: 14, Loss:  1.3915036916732788\n",
      "Epoch: 1, Batch: 15, Loss:  1.7246776819229126\n",
      "Epoch: 1, Batch: 16, Loss:  1.2210180759429932\n",
      "Epoch: 1, Batch: 17, Loss:  1.2040752172470093\n",
      "Epoch: 1, Batch: 18, Loss:  1.315834879875183\n",
      "Epoch: 1, Batch: 19, Loss:  1.394066333770752\n",
      "Model saved\n",
      "Epoch: 1, Batch: 20, Loss:  0.9944314956665039\n",
      "Epoch: 1, Batch: 21, Loss:  1.4136196374893188\n",
      "Epoch: 1, Batch: 22, Loss:  1.2773239612579346\n",
      "Epoch: 1, Batch: 23, Loss:  1.3895758390426636\n",
      "Epoch: 1, Batch: 24, Loss:  1.4847201108932495\n",
      "Epoch: 1, Batch: 25, Loss:  1.119590163230896\n",
      "Epoch: 1, Batch: 26, Loss:  1.2749110460281372\n",
      "Epoch: 1, Batch: 27, Loss:  1.1335852146148682\n",
      "Epoch: 1, Batch: 28, Loss:  1.156680941581726\n",
      "Epoch: 1, Batch: 29, Loss:  1.431500792503357\n",
      "Epoch: 1, Batch: 30, Loss:  1.146279215812683\n",
      "Epoch: 1, Batch: 31, Loss:  1.1346591711044312\n",
      "Epoch: 1, Batch: 32, Loss:  1.2902662754058838\n",
      "Epoch: 1, Batch: 33, Loss:  1.237998366355896\n",
      "Epoch: 1, Batch: 34, Loss:  1.615351676940918\n",
      "Epoch: 1, Batch: 35, Loss:  1.2536709308624268\n",
      "Epoch: 1, Batch: 36, Loss:  1.2920808792114258\n",
      "Epoch: 1, Batch: 37, Loss:  1.2646688222885132\n",
      "Epoch: 1, Batch: 38, Loss:  1.2459722757339478\n",
      "Epoch: 1, Batch: 39, Loss:  1.5733928680419922\n",
      "Model saved\n",
      "Epoch: 1, Batch: 40, Loss:  1.4379383325576782\n",
      "Epoch: 1, Batch: 41, Loss:  0.996734619140625\n",
      "Epoch: 1, Batch: 42, Loss:  1.2262014150619507\n",
      "Epoch: 1, Batch: 43, Loss:  1.300201654434204\n",
      "Epoch: 1, Batch: 44, Loss:  1.1487646102905273\n",
      "Epoch: 1, Batch: 45, Loss:  1.2717832326889038\n",
      "Epoch: 1, Batch: 46, Loss:  0.9922488331794739\n",
      "Epoch: 1, Batch: 47, Loss:  1.190769076347351\n",
      "Epoch: 1, Batch: 48, Loss:  1.0324913263320923\n",
      "Epoch: 1, Batch: 49, Loss:  1.098667025566101\n",
      "Epoch: 1, Batch: 50, Loss:  0.974552571773529\n",
      "Epoch: 1, Batch: 51, Loss:  1.0702370405197144\n",
      "Epoch: 1, Batch: 52, Loss:  1.2477434873580933\n",
      "Epoch: 1, Batch: 53, Loss:  1.783980369567871\n"
     ]
    }
   ],
   "source": [
    "train_params = {'batch_size': TRAIN_BATCH_SIZE,\n",
    "              'shuffle': True,\n",
    "              'num_workers': 0\n",
    "              }\n",
    "\n",
    "test_params = {'batch_size': VALID_BATCH_SIZE,\n",
    "              'shuffle': True,\n",
    "              'num_workers': 0\n",
    "              }\n",
    "\n",
    "start_index = 4\n",
    "\n",
    "for epoch in range(EPOCHS):\n",
    "  test_dataset = datasets[7]\n",
    "  train_dataset = datasets[start_index + epoch%7]\n",
    "\n",
    "  print(\"FULL Dataset: {}\".format(train_set_full_sentences.shape))\n",
    "  print(\"TRAIN Dataset: {}, Shape: {}\".format(int(train_dataset['SentenceId'].min()/setsize), train_dataset.shape))\n",
    "  print(\"TEST Dataset: {}, Shape: {}\".format(int(test_dataset['SentenceId'].min()/setsize), test_dataset.shape))\n",
    "\n",
    "  test_dataset = test_dataset.reset_index(drop=True)\n",
    "  train_dataset = train_dataset.reset_index(drop=True)\n",
    "\n",
    "  training_set = dataset(train_dataset['Phrase'], train_dataset.loc[:, 0:], tokenizer, MAX_LEN)\n",
    "  testing_set = dataset(test_dataset['Phrase'], test_dataset.loc[:, 0:], tokenizer, MAX_LEN)\n",
    "\n",
    "  training_loader = DataLoader(training_set, **train_params)\n",
    "  testing_loader = DataLoader(testing_set, **test_params)\n",
    "\n",
    "  train(epoch, training_loader)\n",
    "\n",
    "\n",
    "  torch.save(model.state_dict(), \"/content/drive/MyDrive/model.pth\")"
   ]
  },
  {
   "cell_type": "code",
   "execution_count": 35,
   "metadata": {
    "pycharm": {
     "is_executing": true
    },
    "id": "kWqk246bnodl",
    "executionInfo": {
     "status": "ok",
     "timestamp": 1686601807762,
     "user_tz": -120,
     "elapsed": 13,
     "user": {
      "displayName": "Niklas Kormann",
      "userId": "03685805006922190005"
     }
    }
   },
   "outputs": [],
   "source": [
    "def validation(epoch):\n",
    "    model.eval()\n",
    "    fin_targets = []\n",
    "    fin_outputs = []\n",
    "    with torch.no_grad():\n",
    "        for _, data in enumerate(testing_loader, 0):\n",
    "            ids = data['ids'].to(device, dtype=torch.long)\n",
    "            mask = data['mask'].to(device, dtype=torch.long)\n",
    "            token_type_ids = data['token_type_ids'].to(device, dtype=torch.long)\n",
    "            targets = data['targets'].to(device, dtype=torch.float)\n",
    "            outputs = model(ids, mask, token_type_ids)\n",
    "            fin_targets.extend(targets.cpu().detach().numpy().tolist())\n",
    "            fin_outputs.extend(torch.sigmoid(outputs).cpu().detach().numpy().tolist())\n",
    "    return fin_outputs, fin_targets"
   ]
  },
  {
   "cell_type": "code",
   "execution_count": 36,
   "metadata": {
    "colab": {
     "base_uri": "https://localhost:8080/"
    },
    "id": "plyRIXTtnodl",
    "executionInfo": {
     "status": "ok",
     "timestamp": 1686601833080,
     "user_tz": -120,
     "elapsed": 25330,
     "user": {
      "displayName": "Niklas Kormann",
      "userId": "03685805006922190005"
     }
    },
    "outputId": "bcf67980-acec-49f7-bc5b-77dbfb60bf22"
   },
   "outputs": [
    {
     "output_type": "stream",
     "name": "stdout",
     "text": [
      "Accuracy Score = 0.46810506566604126\n",
      "F1 Score (Micro) = 0.46810506566604126\n",
      "F1 Score (Macro) = 0.3264366796614784\n"
     ]
    },
    {
     "output_type": "stream",
     "name": "stderr",
     "text": [
      "/usr/local/lib/python3.10/dist-packages/transformers/tokenization_utils_base.py:2377: FutureWarning: The `pad_to_max_length` argument is deprecated and will be removed in a future version, use `padding=True` or `padding='longest'` to pad to the longest sequence in the batch, or use `padding='max_length'` to pad to a max length. In this case, you can give a specific length with `max_length` (e.g. `max_length=45`) or leave max_length to None to pad to the maximal input size of the model (e.g. 512 for Bert).\n",
      "  warnings.warn(\n"
     ]
    },
    {
     "output_type": "stream",
     "name": "stdout",
     "text": [
      "Accuracy Score = 0.46810506566604126\n",
      "F1 Score (Micro) = 0.46810506566604126\n",
      "F1 Score (Macro) = 0.3264366796614784\n"
     ]
    }
   ],
   "source": [
    "for epoch in range(EPOCHS):\n",
    "    outputs, targets = validation(epoch)\n",
    "    outputs = np.array(outputs).argmax(axis=1)\n",
    "    targets = np.array(targets).argmax(axis=1)\n",
    "    accuracy = metrics.accuracy_score(targets, outputs)\n",
    "    f1_score_micro = metrics.f1_score(targets, outputs, average='micro')\n",
    "    f1_score_macro = metrics.f1_score(targets, outputs, average='macro')\n",
    "    print(f\"Accuracy Score = {accuracy}\")\n",
    "    print(f\"F1 Score (Micro) = {f1_score_micro}\")\n",
    "    print(f\"F1 Score (Macro) = {f1_score_macro}\")"
   ]
  }
 ],
 "metadata": {
  "colab": {
   "provenance": [],
   "gpuType": "T4"
  },
  "kernelspec": {
   "display_name": "Python 3",
   "name": "python3"
  },
  "language_info": {
   "codemirror_mode": {
    "name": "ipython",
    "version": 3
   },
   "file_extension": ".py",
   "mimetype": "text/x-python",
   "name": "python",
   "nbconvert_exporter": "python",
   "pygments_lexer": "ipython3",
   "version": "3.9.16"
  },
  "accelerator": "GPU"
 },
 "nbformat": 4,
 "nbformat_minor": 0
}
