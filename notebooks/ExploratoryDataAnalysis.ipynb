{
 "cells": [
  {
   "cell_type": "markdown",
   "metadata": {
    "id": "view-in-github"
   },
   "source": [
    "<a href=\"https://colab.research.google.com/github/nklsKrmnn/LSC_Sentiment_Analysis/blob/main/Projekt_Colab.ipynb\" target=\"_parent\"><img src=\"https://colab.research.google.com/assets/colab-badge.svg\" alt=\"Open In Colab\"/></a>"
   ]
  },
  {
   "cell_type": "code",
   "execution_count": 64,
   "metadata": {
    "colab": {
     "base_uri": "https://localhost:8080/"
    },
    "executionInfo": {
     "elapsed": 2096,
     "status": "ok",
     "timestamp": 1688893805109,
     "user": {
      "displayName": "Niklas Kormann",
      "userId": "03685805006922190005"
     },
     "user_tz": -120
    },
    "id": "iJW4QklEpXV1",
    "outputId": "15a28992-3eb3-45ef-96fb-ac558d74af26"
   },
   "outputs": [
    {
     "output_type": "stream",
     "name": "stdout",
     "text": [
      "Drive already mounted at /content/drive; to attempt to forcibly remount, call drive.mount(\"/content/drive\", force_remount=True).\n",
      "/content/drive/MyDrive/LSC_Sentiment_Analysis/notebooks\n"
     ]
    }
   ],
   "source": [
    "from google.colab import drive\n",
    "drive.mount('/content/drive')\n",
    "%cd '/content/drive/MyDrive/LSC_Sentiment_Analysis/notebooks'"
   ]
  },
  {
   "cell_type": "markdown",
   "metadata": {
    "id": "gKC2oG5LuxUa"
   },
   "source": [
    "# 0. Imports"
   ]
  },
  {
   "cell_type": "code",
   "execution_count": 67,
   "metadata": {
    "id": "PTMNkLSmrmSQ",
    "executionInfo": {
     "status": "ok",
     "timestamp": 1688893805512,
     "user_tz": -120,
     "elapsed": 15,
     "user": {
      "displayName": "Niklas Kormann",
      "userId": "03685805006922190005"
     }
    }
   },
   "outputs": [],
   "source": [
    "import pandas as pd\n",
    "import numpy as np\n",
    "import matplotlib.pyplot as plt\n",
    "import seaborn as sns\n",
    "from sklearn import metrics\n",
    "import warnings\n",
    "\n",
    "warnings.filterwarnings(\"ignore\")\n"
   ]
  },
  {
   "cell_type": "code",
   "execution_count": 68,
   "outputs": [
    {
     "output_type": "stream",
     "name": "stdout",
     "text": [
      "[Errno 2] No such file or directory: 'DocumentsLSCLSC_Sentiment_AnalysisNotebooks'\n",
      "/content/drive/MyDrive/LSC_Sentiment_Analysis/notebooks\n"
     ]
    }
   ],
   "source": [
    "%cd Documents\\LSC\\LSC_Sentiment_Analysis\\Notebooks"
   ],
   "metadata": {
    "colab": {
     "base_uri": "https://localhost:8080/"
    },
    "id": "M4RuhtWJzAJ4",
    "executionInfo": {
     "status": "ok",
     "timestamp": 1688893805513,
     "user_tz": -120,
     "elapsed": 16,
     "user": {
      "displayName": "Niklas Kormann",
      "userId": "03685805006922190005"
     }
    },
    "outputId": "60d580cf-a89e-4c97-b462-83d1aa8e638a"
   }
  },
  {
   "cell_type": "markdown",
   "metadata": {
    "id": "9tJNevrJuxUb"
   },
   "source": [
    "# 1. Dataset: Movie Reviews\n",
    "\n",
    "Das erste Dataset, dass wir betrachten wollten ist ein Rotten Tomatoes Movie Review Dataset von Kaggle (https://www.kaggle.com/competitions/movie-review-sentiment-analysis-kernels-only/overview). Zu diesem Datensatz gab es im Jahr 2018 ein Kaggle Challange. Wir haben uns für diesen Datensatz entschieden, weil man hier mit der Challange eine Benchmark hat, gegen die man seine eigenen Ergebnisse messen kann. Leider ist aus Gründen, die wir weiter unten ausführen, nicht zum Ende des Projektes diese Vergleichbarkeit nicht mehr 100% gegeben."
   ]
  },
  {
   "cell_type": "markdown",
   "source": [
    "## 1.1 Technische Datenstruktur\n",
    "\n",
    "Der Datensatz besteht aus 156.060 Datensätzen, die jeweils aus einer Phrase, einem Sentiment Score sowie eine PhraseID und eine SentenceID bestehen. Bei einem Blick auf die Info-Ausgabe fällt auf, dass alle Sampels mit allen Attributen gepflegt sind, was erstmal vermuten lässt, dass man keine Datenaufbereitung hinsichtlich fehlen Daten durchführen muss. Auch sind die Feature in passenden Datentypen vorhanden. Die Ids sowie der Sentiment Score, welcher die Sentiment codiert abbildet, sind als Integer gegeben. Die Phrase, welches die zu klassifizierende Movie Review ist, ist ein String-Object."
   ],
   "metadata": {
    "collapsed": false,
    "id": "R_g2RU87zAJ6"
   }
  },
  {
   "cell_type": "code",
   "execution_count": 69,
   "outputs": [],
   "source": [
    "# TODO: Bedeutung Sentiment Score"
   ],
   "metadata": {
    "id": "e0OQD2qBzAJ6",
    "executionInfo": {
     "status": "ok",
     "timestamp": 1688893805513,
     "user_tz": -120,
     "elapsed": 15,
     "user": {
      "displayName": "Niklas Kormann",
      "userId": "03685805006922190005"
     }
    }
   }
  },
  {
   "cell_type": "code",
   "execution_count": 70,
   "metadata": {
    "id": "SJXimWannode",
    "executionInfo": {
     "status": "ok",
     "timestamp": 1688893805513,
     "user_tz": -120,
     "elapsed": 15,
     "user": {
      "displayName": "Niklas Kormann",
      "userId": "03685805006922190005"
     }
    }
   },
   "outputs": [],
   "source": [
    "dataset_mr = pd.read_csv(\"../data/train.tsv\", sep='\\t')"
   ]
  },
  {
   "cell_type": "code",
   "execution_count": 71,
   "metadata": {
    "colab": {
     "base_uri": "https://localhost:8080/"
    },
    "executionInfo": {
     "elapsed": 15,
     "status": "ok",
     "timestamp": 1688893805514,
     "user": {
      "displayName": "Niklas Kormann",
      "userId": "03685805006922190005"
     },
     "user_tz": -120
    },
    "id": "I1kWn_q9TCFX",
    "outputId": "5f8c8b12-1323-4b7c-b976-9168dcd41ae3"
   },
   "outputs": [
    {
     "output_type": "stream",
     "name": "stdout",
     "text": [
      "<class 'pandas.core.frame.DataFrame'>\n",
      "RangeIndex: 156060 entries, 0 to 156059\n",
      "Data columns (total 4 columns):\n",
      " #   Column      Non-Null Count   Dtype \n",
      "---  ------      --------------   ----- \n",
      " 0   PhraseId    156060 non-null  int64 \n",
      " 1   SentenceId  156060 non-null  int64 \n",
      " 2   Phrase      156060 non-null  object\n",
      " 3   Sentiment   156060 non-null  int64 \n",
      "dtypes: int64(3), object(1)\n",
      "memory usage: 4.8+ MB\n"
     ]
    }
   ],
   "source": [
    "dataset_mr.info()"
   ]
  },
  {
   "cell_type": "markdown",
   "source": [
    "## 1.2 Inhaltliche Struktur der Daten\n",
    "\n",
    "Zur inhaltliche Analyse der Daten haben wir uns zu nächst die ersten Zeilen Ausgeben lassen, um ein Gefühl für die Daten zu erlangen. Auf den ersten Blick sieht man, dass die Sätze in den ersten 10 Zeilen Bestandteile des ersten Satzes sind. Die Vermutung, dass es sich dabei um die selbe Review handelt wird dadurch gestätigt, dass sie die selbe SentenceId haben. Merkwürdigerweise ist der Sentiment Score für die verschiedenen Satzfragmente unterschiedliche. Beim Plotten der Daten nach Häufigkeit der Sentiment Scores fällt außerdem auf, dass diese sehr ungleich verteilt sind. Es sind deutlich mehr Samples mit mittlerem Score vorhanden, als mit positiven oder negativen Scores. Man kann hier also von unbalancierten Daten sprechen. Man spricht von unbalancierten Daten, wenn Daher haben wir zunächst einmal alle Fragmente aus unseren Daten aussortiert und nur noch die vollständigen Sätze im Datensatz behalten. Im darauf folgenden Plot erkennt man, dass die bereinigen Daten etwas stärker balanciert sind. Jedoch enthält der Datensatz nach dieser Filterung nur noch 8.529 Samples."
   ],
   "metadata": {
    "collapsed": false,
    "id": "FPwkJLy7zAJ7"
   }
  },
  {
   "cell_type": "code",
   "execution_count": 72,
   "outputs": [],
   "source": [
    "# TODO: Quelle unbalancierte DAten"
   ],
   "metadata": {
    "id": "26K_Wqu8zAJ8",
    "executionInfo": {
     "status": "ok",
     "timestamp": 1688893805514,
     "user_tz": -120,
     "elapsed": 13,
     "user": {
      "displayName": "Niklas Kormann",
      "userId": "03685805006922190005"
     }
    }
   }
  },
  {
   "cell_type": "code",
   "execution_count": 73,
   "metadata": {
    "colab": {
     "base_uri": "https://localhost:8080/",
     "height": 424
    },
    "executionInfo": {
     "elapsed": 13,
     "status": "ok",
     "timestamp": 1688893805514,
     "user": {
      "displayName": "Niklas Kormann",
      "userId": "03685805006922190005"
     },
     "user_tz": -120
    },
    "id": "rjuVeULLTCTK",
    "outputId": "5d26899d-14e1-4a0c-d5cc-fe098f94f71c"
   },
   "outputs": [
    {
     "output_type": "execute_result",
     "data": {
      "text/plain": [
       "   PhraseId  SentenceId  \\\n",
       "0         1           1   \n",
       "1         2           1   \n",
       "2         3           1   \n",
       "3         4           1   \n",
       "4         5           1   \n",
       "5         6           1   \n",
       "6         7           1   \n",
       "7         8           1   \n",
       "8         9           1   \n",
       "9        10           1   \n",
       "\n",
       "                                                                                                                                                                                         Phrase  \\\n",
       "0  A series of escapades demonstrating the adage that what is good for the goose is also good for the gander , some of which occasionally amuses but none of which amounts to much of a story .   \n",
       "1                                                                                                                 A series of escapades demonstrating the adage that what is good for the goose   \n",
       "2                                                                                                                                                                                      A series   \n",
       "3                                                                                                                                                                                             A   \n",
       "4                                                                                                                                                                                        series   \n",
       "5                                                                                                                          of escapades demonstrating the adage that what is good for the goose   \n",
       "6                                                                                                                                                                                            of   \n",
       "7                                                                                                                             escapades demonstrating the adage that what is good for the goose   \n",
       "8                                                                                                                                                                                     escapades   \n",
       "9                                                                                                                                       demonstrating the adage that what is good for the goose   \n",
       "\n",
       "   Sentiment  \n",
       "0          1  \n",
       "1          2  \n",
       "2          2  \n",
       "3          2  \n",
       "4          2  \n",
       "5          2  \n",
       "6          2  \n",
       "7          2  \n",
       "8          2  \n",
       "9          2  "
      ],
      "text/html": [
       "\n",
       "  <div id=\"df-9555c5f5-32ea-405b-a107-55df8b6825c4\">\n",
       "    <div class=\"colab-df-container\">\n",
       "      <div>\n",
       "<style scoped>\n",
       "    .dataframe tbody tr th:only-of-type {\n",
       "        vertical-align: middle;\n",
       "    }\n",
       "\n",
       "    .dataframe tbody tr th {\n",
       "        vertical-align: top;\n",
       "    }\n",
       "\n",
       "    .dataframe thead th {\n",
       "        text-align: right;\n",
       "    }\n",
       "</style>\n",
       "<table border=\"1\" class=\"dataframe\">\n",
       "  <thead>\n",
       "    <tr style=\"text-align: right;\">\n",
       "      <th></th>\n",
       "      <th>PhraseId</th>\n",
       "      <th>SentenceId</th>\n",
       "      <th>Phrase</th>\n",
       "      <th>Sentiment</th>\n",
       "    </tr>\n",
       "  </thead>\n",
       "  <tbody>\n",
       "    <tr>\n",
       "      <th>0</th>\n",
       "      <td>1</td>\n",
       "      <td>1</td>\n",
       "      <td>A series of escapades demonstrating the adage that what is good for the goose is also good for the gander , some of which occasionally amuses but none of which amounts to much of a story .</td>\n",
       "      <td>1</td>\n",
       "    </tr>\n",
       "    <tr>\n",
       "      <th>1</th>\n",
       "      <td>2</td>\n",
       "      <td>1</td>\n",
       "      <td>A series of escapades demonstrating the adage that what is good for the goose</td>\n",
       "      <td>2</td>\n",
       "    </tr>\n",
       "    <tr>\n",
       "      <th>2</th>\n",
       "      <td>3</td>\n",
       "      <td>1</td>\n",
       "      <td>A series</td>\n",
       "      <td>2</td>\n",
       "    </tr>\n",
       "    <tr>\n",
       "      <th>3</th>\n",
       "      <td>4</td>\n",
       "      <td>1</td>\n",
       "      <td>A</td>\n",
       "      <td>2</td>\n",
       "    </tr>\n",
       "    <tr>\n",
       "      <th>4</th>\n",
       "      <td>5</td>\n",
       "      <td>1</td>\n",
       "      <td>series</td>\n",
       "      <td>2</td>\n",
       "    </tr>\n",
       "    <tr>\n",
       "      <th>5</th>\n",
       "      <td>6</td>\n",
       "      <td>1</td>\n",
       "      <td>of escapades demonstrating the adage that what is good for the goose</td>\n",
       "      <td>2</td>\n",
       "    </tr>\n",
       "    <tr>\n",
       "      <th>6</th>\n",
       "      <td>7</td>\n",
       "      <td>1</td>\n",
       "      <td>of</td>\n",
       "      <td>2</td>\n",
       "    </tr>\n",
       "    <tr>\n",
       "      <th>7</th>\n",
       "      <td>8</td>\n",
       "      <td>1</td>\n",
       "      <td>escapades demonstrating the adage that what is good for the goose</td>\n",
       "      <td>2</td>\n",
       "    </tr>\n",
       "    <tr>\n",
       "      <th>8</th>\n",
       "      <td>9</td>\n",
       "      <td>1</td>\n",
       "      <td>escapades</td>\n",
       "      <td>2</td>\n",
       "    </tr>\n",
       "    <tr>\n",
       "      <th>9</th>\n",
       "      <td>10</td>\n",
       "      <td>1</td>\n",
       "      <td>demonstrating the adage that what is good for the goose</td>\n",
       "      <td>2</td>\n",
       "    </tr>\n",
       "  </tbody>\n",
       "</table>\n",
       "</div>\n",
       "      <button class=\"colab-df-convert\" onclick=\"convertToInteractive('df-9555c5f5-32ea-405b-a107-55df8b6825c4')\"\n",
       "              title=\"Convert this dataframe to an interactive table.\"\n",
       "              style=\"display:none;\">\n",
       "        \n",
       "  <svg xmlns=\"http://www.w3.org/2000/svg\" height=\"24px\"viewBox=\"0 0 24 24\"\n",
       "       width=\"24px\">\n",
       "    <path d=\"M0 0h24v24H0V0z\" fill=\"none\"/>\n",
       "    <path d=\"M18.56 5.44l.94 2.06.94-2.06 2.06-.94-2.06-.94-.94-2.06-.94 2.06-2.06.94zm-11 1L8.5 8.5l.94-2.06 2.06-.94-2.06-.94L8.5 2.5l-.94 2.06-2.06.94zm10 10l.94 2.06.94-2.06 2.06-.94-2.06-.94-.94-2.06-.94 2.06-2.06.94z\"/><path d=\"M17.41 7.96l-1.37-1.37c-.4-.4-.92-.59-1.43-.59-.52 0-1.04.2-1.43.59L10.3 9.45l-7.72 7.72c-.78.78-.78 2.05 0 2.83L4 21.41c.39.39.9.59 1.41.59.51 0 1.02-.2 1.41-.59l7.78-7.78 2.81-2.81c.8-.78.8-2.07 0-2.86zM5.41 20L4 18.59l7.72-7.72 1.47 1.35L5.41 20z\"/>\n",
       "  </svg>\n",
       "      </button>\n",
       "      \n",
       "  <style>\n",
       "    .colab-df-container {\n",
       "      display:flex;\n",
       "      flex-wrap:wrap;\n",
       "      gap: 12px;\n",
       "    }\n",
       "\n",
       "    .colab-df-convert {\n",
       "      background-color: #E8F0FE;\n",
       "      border: none;\n",
       "      border-radius: 50%;\n",
       "      cursor: pointer;\n",
       "      display: none;\n",
       "      fill: #1967D2;\n",
       "      height: 32px;\n",
       "      padding: 0 0 0 0;\n",
       "      width: 32px;\n",
       "    }\n",
       "\n",
       "    .colab-df-convert:hover {\n",
       "      background-color: #E2EBFA;\n",
       "      box-shadow: 0px 1px 2px rgba(60, 64, 67, 0.3), 0px 1px 3px 1px rgba(60, 64, 67, 0.15);\n",
       "      fill: #174EA6;\n",
       "    }\n",
       "\n",
       "    [theme=dark] .colab-df-convert {\n",
       "      background-color: #3B4455;\n",
       "      fill: #D2E3FC;\n",
       "    }\n",
       "\n",
       "    [theme=dark] .colab-df-convert:hover {\n",
       "      background-color: #434B5C;\n",
       "      box-shadow: 0px 1px 3px 1px rgba(0, 0, 0, 0.15);\n",
       "      filter: drop-shadow(0px 1px 2px rgba(0, 0, 0, 0.3));\n",
       "      fill: #FFFFFF;\n",
       "    }\n",
       "  </style>\n",
       "\n",
       "      <script>\n",
       "        const buttonEl =\n",
       "          document.querySelector('#df-9555c5f5-32ea-405b-a107-55df8b6825c4 button.colab-df-convert');\n",
       "        buttonEl.style.display =\n",
       "          google.colab.kernel.accessAllowed ? 'block' : 'none';\n",
       "\n",
       "        async function convertToInteractive(key) {\n",
       "          const element = document.querySelector('#df-9555c5f5-32ea-405b-a107-55df8b6825c4');\n",
       "          const dataTable =\n",
       "            await google.colab.kernel.invokeFunction('convertToInteractive',\n",
       "                                                     [key], {});\n",
       "          if (!dataTable) return;\n",
       "\n",
       "          const docLinkHtml = 'Like what you see? Visit the ' +\n",
       "            '<a target=\"_blank\" href=https://colab.research.google.com/notebooks/data_table.ipynb>data table notebook</a>'\n",
       "            + ' to learn more about interactive tables.';\n",
       "          element.innerHTML = '';\n",
       "          dataTable['output_type'] = 'display_data';\n",
       "          await google.colab.output.renderOutput(dataTable, element);\n",
       "          const docLink = document.createElement('div');\n",
       "          docLink.innerHTML = docLinkHtml;\n",
       "          element.appendChild(docLink);\n",
       "        }\n",
       "      </script>\n",
       "    </div>\n",
       "  </div>\n",
       "  "
      ]
     },
     "metadata": {},
     "execution_count": 73
    }
   ],
   "source": [
    "pd.set_option('display.max_colwidth', None)\n",
    "dataset_mr.head(10)"
   ]
  },
  {
   "cell_type": "code",
   "execution_count": 74,
   "metadata": {
    "colab": {
     "base_uri": "https://localhost:8080/",
     "height": 489
    },
    "executionInfo": {
     "elapsed": 412,
     "status": "ok",
     "timestamp": 1688893805914,
     "user": {
      "displayName": "Niklas Kormann",
      "userId": "03685805006922190005"
     },
     "user_tz": -120
    },
    "id": "m9zOH97Hnodh",
    "outputId": "e11db74d-a09e-43fa-c360-e0a114e5cfba"
   },
   "outputs": [
    {
     "output_type": "execute_result",
     "data": {
      "text/plain": [
       "Text(0, 0.5, 'Anzahl')"
      ]
     },
     "metadata": {},
     "execution_count": 74
    },
    {
     "output_type": "display_data",
     "data": {
      "text/plain": [
       "<Figure size 640x480 with 1 Axes>"
      ],
      "image/png": "[encoded data removed]"
     },
     "metadata": {}
    }
   ],
   "source": [
    "sns.countplot(x='Sentiment', data=dataset_mr)\n",
    "plt.title('Verteilung Sentiment Scores: Movie Reviews')\n",
    "plt.ylabel('Anzahl')"
   ]
  },
  {
   "cell_type": "code",
   "execution_count": 75,
   "metadata": {
    "colab": {
     "base_uri": "https://localhost:8080/",
     "height": 268
    },
    "executionInfo": {
     "elapsed": 10,
     "status": "ok",
     "timestamp": 1688893805915,
     "user": {
      "displayName": "Niklas Kormann",
      "userId": "03685805006922190005"
     },
     "user_tz": -120
    },
    "id": "vILO6dgInodh",
    "outputId": "3f600e2e-dcb8-4953-a3d0-6803a5fda154"
   },
   "outputs": [
    {
     "output_type": "execute_result",
     "data": {
      "text/plain": [
       "   SentenceId  PhraseId  \\\n",
       "0           1         1   \n",
       "1           2        64   \n",
       "2           3        82   \n",
       "3           4       117   \n",
       "4           5       157   \n",
       "\n",
       "                                                                                                                                                                                         Phrase  \\\n",
       "0  A series of escapades demonstrating the adage that what is good for the goose is also good for the gander , some of which occasionally amuses but none of which amounts to much of a story .   \n",
       "1                                                                                                                    This quiet , introspective and entertaining independent is worth seeking .   \n",
       "2                                                                                          Even fans of Ismail Merchant 's work , I suspect , would have a hard time sitting through this one .   \n",
       "3                                      A positively thrilling combination of ethnography and all the intrigue , betrayal , deceit and murder of a Shakespearean tragedy or a juicy soap opera .   \n",
       "4                                                                                                                                  Aggressive self-glorification and a manipulative whitewash .   \n",
       "\n",
       "   Sentiment  \n",
       "0          1  \n",
       "1          4  \n",
       "2          1  \n",
       "3          3  \n",
       "4          1  "
      ],
      "text/html": [
       "\n",
       "  <div id=\"df-661c6d35-08f3-4950-b61e-7800f3b88062\">\n",
       "    <div class=\"colab-df-container\">\n",
       "      <div>\n",
       "<style scoped>\n",
       "    .dataframe tbody tr th:only-of-type {\n",
       "        vertical-align: middle;\n",
       "    }\n",
       "\n",
       "    .dataframe tbody tr th {\n",
       "        vertical-align: top;\n",
       "    }\n",
       "\n",
       "    .dataframe thead th {\n",
       "        text-align: right;\n",
       "    }\n",
       "</style>\n",
       "<table border=\"1\" class=\"dataframe\">\n",
       "  <thead>\n",
       "    <tr style=\"text-align: right;\">\n",
       "      <th></th>\n",
       "      <th>SentenceId</th>\n",
       "      <th>PhraseId</th>\n",
       "      <th>Phrase</th>\n",
       "      <th>Sentiment</th>\n",
       "    </tr>\n",
       "  </thead>\n",
       "  <tbody>\n",
       "    <tr>\n",
       "      <th>0</th>\n",
       "      <td>1</td>\n",
       "      <td>1</td>\n",
       "      <td>A series of escapades demonstrating the adage that what is good for the goose is also good for the gander , some of which occasionally amuses but none of which amounts to much of a story .</td>\n",
       "      <td>1</td>\n",
       "    </tr>\n",
       "    <tr>\n",
       "      <th>1</th>\n",
       "      <td>2</td>\n",
       "      <td>64</td>\n",
       "      <td>This quiet , introspective and entertaining independent is worth seeking .</td>\n",
       "      <td>4</td>\n",
       "    </tr>\n",
       "    <tr>\n",
       "      <th>2</th>\n",
       "      <td>3</td>\n",
       "      <td>82</td>\n",
       "      <td>Even fans of Ismail Merchant 's work , I suspect , would have a hard time sitting through this one .</td>\n",
       "      <td>1</td>\n",
       "    </tr>\n",
       "    <tr>\n",
       "      <th>3</th>\n",
       "      <td>4</td>\n",
       "      <td>117</td>\n",
       "      <td>A positively thrilling combination of ethnography and all the intrigue , betrayal , deceit and murder of a Shakespearean tragedy or a juicy soap opera .</td>\n",
       "      <td>3</td>\n",
       "    </tr>\n",
       "    <tr>\n",
       "      <th>4</th>\n",
       "      <td>5</td>\n",
       "      <td>157</td>\n",
       "      <td>Aggressive self-glorification and a manipulative whitewash .</td>\n",
       "      <td>1</td>\n",
       "    </tr>\n",
       "  </tbody>\n",
       "</table>\n",
       "</div>\n",
       "      <button class=\"colab-df-convert\" onclick=\"convertToInteractive('df-661c6d35-08f3-4950-b61e-7800f3b88062')\"\n",
       "              title=\"Convert this dataframe to an interactive table.\"\n",
       "              style=\"display:none;\">\n",
       "        \n",
       "  <svg xmlns=\"http://www.w3.org/2000/svg\" height=\"24px\"viewBox=\"0 0 24 24\"\n",
       "       width=\"24px\">\n",
       "    <path d=\"M0 0h24v24H0V0z\" fill=\"none\"/>\n",
       "    <path d=\"M18.56 5.44l.94 2.06.94-2.06 2.06-.94-2.06-.94-.94-2.06-.94 2.06-2.06.94zm-11 1L8.5 8.5l.94-2.06 2.06-.94-2.06-.94L8.5 2.5l-.94 2.06-2.06.94zm10 10l.94 2.06.94-2.06 2.06-.94-2.06-.94-.94-2.06-.94 2.06-2.06.94z\"/><path d=\"M17.41 7.96l-1.37-1.37c-.4-.4-.92-.59-1.43-.59-.52 0-1.04.2-1.43.59L10.3 9.45l-7.72 7.72c-.78.78-.78 2.05 0 2.83L4 21.41c.39.39.9.59 1.41.59.51 0 1.02-.2 1.41-.59l7.78-7.78 2.81-2.81c.8-.78.8-2.07 0-2.86zM5.41 20L4 18.59l7.72-7.72 1.47 1.35L5.41 20z\"/>\n",
       "  </svg>\n",
       "      </button>\n",
       "      \n",
       "  <style>\n",
       "    .colab-df-container {\n",
       "      display:flex;\n",
       "      flex-wrap:wrap;\n",
       "      gap: 12px;\n",
       "    }\n",
       "\n",
       "    .colab-df-convert {\n",
       "      background-color: #E8F0FE;\n",
       "      border: none;\n",
       "      border-radius: 50%;\n",
       "      cursor: pointer;\n",
       "      display: none;\n",
       "      fill: #1967D2;\n",
       "      height: 32px;\n",
       "      padding: 0 0 0 0;\n",
       "      width: 32px;\n",
       "    }\n",
       "\n",
       "    .colab-df-convert:hover {\n",
       "      background-color: #E2EBFA;\n",
       "      box-shadow: 0px 1px 2px rgba(60, 64, 67, 0.3), 0px 1px 3px 1px rgba(60, 64, 67, 0.15);\n",
       "      fill: #174EA6;\n",
       "    }\n",
       "\n",
       "    [theme=dark] .colab-df-convert {\n",
       "      background-color: #3B4455;\n",
       "      fill: #D2E3FC;\n",
       "    }\n",
       "\n",
       "    [theme=dark] .colab-df-convert:hover {\n",
       "      background-color: #434B5C;\n",
       "      box-shadow: 0px 1px 3px 1px rgba(0, 0, 0, 0.15);\n",
       "      filter: drop-shadow(0px 1px 2px rgba(0, 0, 0, 0.3));\n",
       "      fill: #FFFFFF;\n",
       "    }\n",
       "  </style>\n",
       "\n",
       "      <script>\n",
       "        const buttonEl =\n",
       "          document.querySelector('#df-661c6d35-08f3-4950-b61e-7800f3b88062 button.colab-df-convert');\n",
       "        buttonEl.style.display =\n",
       "          google.colab.kernel.accessAllowed ? 'block' : 'none';\n",
       "\n",
       "        async function convertToInteractive(key) {\n",
       "          const element = document.querySelector('#df-661c6d35-08f3-4950-b61e-7800f3b88062');\n",
       "          const dataTable =\n",
       "            await google.colab.kernel.invokeFunction('convertToInteractive',\n",
       "                                                     [key], {});\n",
       "          if (!dataTable) return;\n",
       "\n",
       "          const docLinkHtml = 'Like what you see? Visit the ' +\n",
       "            '<a target=\"_blank\" href=https://colab.research.google.com/notebooks/data_table.ipynb>data table notebook</a>'\n",
       "            + ' to learn more about interactive tables.';\n",
       "          element.innerHTML = '';\n",
       "          dataTable['output_type'] = 'display_data';\n",
       "          await google.colab.output.renderOutput(dataTable, element);\n",
       "          const docLink = document.createElement('div');\n",
       "          docLink.innerHTML = docLinkHtml;\n",
       "          element.appendChild(docLink);\n",
       "        }\n",
       "      </script>\n",
       "    </div>\n",
       "  </div>\n",
       "  "
      ]
     },
     "metadata": {},
     "execution_count": 75
    }
   ],
   "source": [
    "dataset_mr_full_senences = dataset_mr.groupby('SentenceId').first().reset_index()\n",
    "dataset_mr_full_senences.head(5)"
   ]
  },
  {
   "cell_type": "code",
   "execution_count": 76,
   "metadata": {
    "colab": {
     "base_uri": "https://localhost:8080/",
     "height": 489
    },
    "executionInfo": {
     "elapsed": 9,
     "status": "ok",
     "timestamp": 1688893806304,
     "user": {
      "displayName": "Niklas Kormann",
      "userId": "03685805006922190005"
     },
     "user_tz": -120
    },
    "id": "PChSrNF5nodi",
    "outputId": "c08180b9-d876-458a-aaed-38c20e3b1d42",
    "scrolled": false
   },
   "outputs": [
    {
     "output_type": "execute_result",
     "data": {
      "text/plain": [
       "Text(0, 0.5, 'Anzahl')"
      ]
     },
     "metadata": {},
     "execution_count": 76
    },
    {
     "output_type": "display_data",
     "data": {
      "text/plain": [
       "<Figure size 640x480 with 1 Axes>"
      ],
      "image/png": "[encoded data removed]"
     },
     "metadata": {}
    }
   ],
   "source": [
    "sns.countplot(x='Sentiment', data=dataset_mr_full_senences)\n",
    "plt.title('Verteilung Sentiment Scores: Movie Reviews (nur volle Sätze)')\n",
    "plt.ylabel('Anzahl')"
   ]
  },
  {
   "cell_type": "code",
   "source": [
    "print(f'Länge Datensatz nach Kürzung: {len(dataset_mr_full_senences)}')"
   ],
   "metadata": {
    "colab": {
     "base_uri": "https://localhost:8080/"
    },
    "id": "S-6YW_jt-3gu",
    "executionInfo": {
     "status": "ok",
     "timestamp": 1688894999451,
     "user_tz": -120,
     "elapsed": 372,
     "user": {
      "displayName": "Niklas Kormann",
      "userId": "03685805006922190005"
     }
    },
    "outputId": "ca2eac2f-bb8c-4037-938b-c514393cf04d"
   },
   "execution_count": 105,
   "outputs": [
    {
     "output_type": "stream",
     "name": "stdout",
     "text": [
      "Länge Datensatz nach Kürzung: 8529\n"
     ]
    }
   ]
  },
  {
   "cell_type": "markdown",
   "source": [
    "## 1.3 Vereinheitlichung und Aufbereitung\n",
    "\n",
    "Da wir die Trainingsmethoden auf verschiedenen Datensätzen aus unterschiedlichen Domänen vergleichen wollten, mussten wir das Format der Daten vereinheitlichen. Da die meisten anderen Datensätze zum Thema Sentiment Analysis meinst nur positiv und negativ oder positiv, negativ und neutral als Labels aufwiesen, haben wir uns dazu entschieden die Sentiment Scores auf 3 Klassen zu vereinhtlichen: positiv, negativ und neutral. Zudem haben wir uns dazu entschieden die Daten bipolar zu skalieren. Dies ergibt inhaltlich Sinn, weil die inhaltliche Bedeutung der Labels (positiv und negativ) auch bipolar ist. Daraus haben wir für diesen Datensatz folgendes Mapping entwickelt: 0, 1 -> -1 (negativ) 2 -> 0 (neutral) 3, 4 -> 1 (positiv)\n",
    "\n",
    "Zudem haben wir die Daten in 8 gleichgroße Datensätze aufgeteilt. Grund dafür ist, dass wir bei den ersten Versuchen ein Neuronales Netz mit den Daten zu trainieren, der RAM nicht ausgereicht hat, um alle Daten gleichzeitig zu verarbeiten. 6 der 8 Datensätze haben wir als Trainings-Sets, einen als Validation- und einen als Test-Set definiert. Unsere Idee war im Training durch die Trainings-Sets zu rotieren und die Datensätz so immer reihum zu berücksichtigen.\n",
    "\n",
    "Da die Verteilung der 3 Klassen in den 8 Datensätzen zunächst nicht homogen ist, wie unten zu sehen ist, haben wir nach dem Aufteilen der Daten jeden Datensatz neu 'gesampelt'. Wir haben dazu jedem Datensatz so oft zufällige Sampels aus einer Klasse aus dem selben Datensatz neu hinzugefügt, also Doppelungen erzeugt, bis alle Klassen so viele Sampels hatten, wie die Klasse mit den meisten Sampels in dem Datensatz. Dieses 'Balacing' musste nach dem Aufteilen der Datensätze geschehen, weil sonst eine Durchmischung der Daten zwischen den Datensätzen stattgefunden hätte. Eine solche Durchmischung zwischen den Trainings-Sets wäre unproblematisch gewesen. Eine Durchmischung mit dem Validation und Testset hätte jedoch dazu geführt, dass man Overfitting schlechter erkennt, weil der Klassifizierer die Daten zur Validierung und zum Test dann schon gesehen hat."
   ],
   "metadata": {
    "collapsed": false,
    "id": "o3xW7gDmzAJ9"
   }
  },
  {
   "cell_type": "code",
   "execution_count": 77,
   "metadata": {
    "id": "mV6ohJZAuxUe",
    "outputId": "64487e27-6d21-4219-f68f-023c3847963f",
    "colab": {
     "base_uri": "https://localhost:8080/",
     "height": 268
    },
    "executionInfo": {
     "status": "ok",
     "timestamp": 1688893806305,
     "user_tz": -120,
     "elapsed": 8,
     "user": {
      "displayName": "Niklas Kormann",
      "userId": "03685805006922190005"
     }
    }
   },
   "outputs": [
    {
     "output_type": "execute_result",
     "data": {
      "text/plain": [
       "   SentenceId  PhraseId  \\\n",
       "0           1         1   \n",
       "1           2        64   \n",
       "2           3        82   \n",
       "3           4       117   \n",
       "4           5       157   \n",
       "\n",
       "                                                                                                                                                                                         Phrase  \\\n",
       "0  A series of escapades demonstrating the adage that what is good for the goose is also good for the gander , some of which occasionally amuses but none of which amounts to much of a story .   \n",
       "1                                                                                                                    This quiet , introspective and entertaining independent is worth seeking .   \n",
       "2                                                                                          Even fans of Ismail Merchant 's work , I suspect , would have a hard time sitting through this one .   \n",
       "3                                      A positively thrilling combination of ethnography and all the intrigue , betrayal , deceit and murder of a Shakespearean tragedy or a juicy soap opera .   \n",
       "4                                                                                                                                  Aggressive self-glorification and a manipulative whitewash .   \n",
       "\n",
       "   Sentiment  \n",
       "0         -1  \n",
       "1          1  \n",
       "2         -1  \n",
       "3          1  \n",
       "4         -1  "
      ],
      "text/html": [
       "\n",
       "  <div id=\"df-706fc3aa-ef5c-4600-8e8f-5906288d24dd\">\n",
       "    <div class=\"colab-df-container\">\n",
       "      <div>\n",
       "<style scoped>\n",
       "    .dataframe tbody tr th:only-of-type {\n",
       "        vertical-align: middle;\n",
       "    }\n",
       "\n",
       "    .dataframe tbody tr th {\n",
       "        vertical-align: top;\n",
       "    }\n",
       "\n",
       "    .dataframe thead th {\n",
       "        text-align: right;\n",
       "    }\n",
       "</style>\n",
       "<table border=\"1\" class=\"dataframe\">\n",
       "  <thead>\n",
       "    <tr style=\"text-align: right;\">\n",
       "      <th></th>\n",
       "      <th>SentenceId</th>\n",
       "      <th>PhraseId</th>\n",
       "      <th>Phrase</th>\n",
       "      <th>Sentiment</th>\n",
       "    </tr>\n",
       "  </thead>\n",
       "  <tbody>\n",
       "    <tr>\n",
       "      <th>0</th>\n",
       "      <td>1</td>\n",
       "      <td>1</td>\n",
       "      <td>A series of escapades demonstrating the adage that what is good for the goose is also good for the gander , some of which occasionally amuses but none of which amounts to much of a story .</td>\n",
       "      <td>-1</td>\n",
       "    </tr>\n",
       "    <tr>\n",
       "      <th>1</th>\n",
       "      <td>2</td>\n",
       "      <td>64</td>\n",
       "      <td>This quiet , introspective and entertaining independent is worth seeking .</td>\n",
       "      <td>1</td>\n",
       "    </tr>\n",
       "    <tr>\n",
       "      <th>2</th>\n",
       "      <td>3</td>\n",
       "      <td>82</td>\n",
       "      <td>Even fans of Ismail Merchant 's work , I suspect , would have a hard time sitting through this one .</td>\n",
       "      <td>-1</td>\n",
       "    </tr>\n",
       "    <tr>\n",
       "      <th>3</th>\n",
       "      <td>4</td>\n",
       "      <td>117</td>\n",
       "      <td>A positively thrilling combination of ethnography and all the intrigue , betrayal , deceit and murder of a Shakespearean tragedy or a juicy soap opera .</td>\n",
       "      <td>1</td>\n",
       "    </tr>\n",
       "    <tr>\n",
       "      <th>4</th>\n",
       "      <td>5</td>\n",
       "      <td>157</td>\n",
       "      <td>Aggressive self-glorification and a manipulative whitewash .</td>\n",
       "      <td>-1</td>\n",
       "    </tr>\n",
       "  </tbody>\n",
       "</table>\n",
       "</div>\n",
       "      <button class=\"colab-df-convert\" onclick=\"convertToInteractive('df-706fc3aa-ef5c-4600-8e8f-5906288d24dd')\"\n",
       "              title=\"Convert this dataframe to an interactive table.\"\n",
       "              style=\"display:none;\">\n",
       "        \n",
       "  <svg xmlns=\"http://www.w3.org/2000/svg\" height=\"24px\"viewBox=\"0 0 24 24\"\n",
       "       width=\"24px\">\n",
       "    <path d=\"M0 0h24v24H0V0z\" fill=\"none\"/>\n",
       "    <path d=\"M18.56 5.44l.94 2.06.94-2.06 2.06-.94-2.06-.94-.94-2.06-.94 2.06-2.06.94zm-11 1L8.5 8.5l.94-2.06 2.06-.94-2.06-.94L8.5 2.5l-.94 2.06-2.06.94zm10 10l.94 2.06.94-2.06 2.06-.94-2.06-.94-.94-2.06-.94 2.06-2.06.94z\"/><path d=\"M17.41 7.96l-1.37-1.37c-.4-.4-.92-.59-1.43-.59-.52 0-1.04.2-1.43.59L10.3 9.45l-7.72 7.72c-.78.78-.78 2.05 0 2.83L4 21.41c.39.39.9.59 1.41.59.51 0 1.02-.2 1.41-.59l7.78-7.78 2.81-2.81c.8-.78.8-2.07 0-2.86zM5.41 20L4 18.59l7.72-7.72 1.47 1.35L5.41 20z\"/>\n",
       "  </svg>\n",
       "      </button>\n",
       "      \n",
       "  <style>\n",
       "    .colab-df-container {\n",
       "      display:flex;\n",
       "      flex-wrap:wrap;\n",
       "      gap: 12px;\n",
       "    }\n",
       "\n",
       "    .colab-df-convert {\n",
       "      background-color: #E8F0FE;\n",
       "      border: none;\n",
       "      border-radius: 50%;\n",
       "      cursor: pointer;\n",
       "      display: none;\n",
       "      fill: #1967D2;\n",
       "      height: 32px;\n",
       "      padding: 0 0 0 0;\n",
       "      width: 32px;\n",
       "    }\n",
       "\n",
       "    .colab-df-convert:hover {\n",
       "      background-color: #E2EBFA;\n",
       "      box-shadow: 0px 1px 2px rgba(60, 64, 67, 0.3), 0px 1px 3px 1px rgba(60, 64, 67, 0.15);\n",
       "      fill: #174EA6;\n",
       "    }\n",
       "\n",
       "    [theme=dark] .colab-df-convert {\n",
       "      background-color: #3B4455;\n",
       "      fill: #D2E3FC;\n",
       "    }\n",
       "\n",
       "    [theme=dark] .colab-df-convert:hover {\n",
       "      background-color: #434B5C;\n",
       "      box-shadow: 0px 1px 3px 1px rgba(0, 0, 0, 0.15);\n",
       "      filter: drop-shadow(0px 1px 2px rgba(0, 0, 0, 0.3));\n",
       "      fill: #FFFFFF;\n",
       "    }\n",
       "  </style>\n",
       "\n",
       "      <script>\n",
       "        const buttonEl =\n",
       "          document.querySelector('#df-706fc3aa-ef5c-4600-8e8f-5906288d24dd button.colab-df-convert');\n",
       "        buttonEl.style.display =\n",
       "          google.colab.kernel.accessAllowed ? 'block' : 'none';\n",
       "\n",
       "        async function convertToInteractive(key) {\n",
       "          const element = document.querySelector('#df-706fc3aa-ef5c-4600-8e8f-5906288d24dd');\n",
       "          const dataTable =\n",
       "            await google.colab.kernel.invokeFunction('convertToInteractive',\n",
       "                                                     [key], {});\n",
       "          if (!dataTable) return;\n",
       "\n",
       "          const docLinkHtml = 'Like what you see? Visit the ' +\n",
       "            '<a target=\"_blank\" href=https://colab.research.google.com/notebooks/data_table.ipynb>data table notebook</a>'\n",
       "            + ' to learn more about interactive tables.';\n",
       "          element.innerHTML = '';\n",
       "          dataTable['output_type'] = 'display_data';\n",
       "          await google.colab.output.renderOutput(dataTable, element);\n",
       "          const docLink = document.createElement('div');\n",
       "          docLink.innerHTML = docLinkHtml;\n",
       "          element.appendChild(docLink);\n",
       "        }\n",
       "      </script>\n",
       "    </div>\n",
       "  </div>\n",
       "  "
      ]
     },
     "metadata": {},
     "execution_count": 77
    }
   ],
   "source": [
    "value_mapping = {0: -1, 1: -1, 2: 0, 3: 1, 4: 1}\n",
    "dataset_mr_relabled = dataset_mr_full_senences\n",
    "dataset_mr_relabled['Sentiment'] = dataset_mr_relabled['Sentiment'].map(value_mapping)\n",
    "dataset_mr_relabled.head()"
   ]
  },
  {
   "cell_type": "code",
   "execution_count": 78,
   "metadata": {
    "id": "GC0nZQYpuxUe",
    "executionInfo": {
     "status": "ok",
     "timestamp": 1688893806305,
     "user_tz": -120,
     "elapsed": 7,
     "user": {
      "displayName": "Niklas Kormann",
      "userId": "03685805006922190005"
     }
    }
   },
   "outputs": [],
   "source": [
    "def dataset_split(dataset: pd.DataFrame, n: int):\n",
    "    \"\"\"\n",
    "    Funktion, um ein dataset in mehrere gleichgroße Datasets zu splitte\n",
    "    :param dataset: dataset, das gesplittet werden soll\n",
    "    :param n: Anzahl der Subset, in die gesplittet werden soll\n",
    "    :return: Subsets\n",
    "    \"\"\"\n",
    "    set_size = dataset.shape[0]/n\n",
    "    subsets = []\n",
    "    for _ in range(n):\n",
    "        subsets.append(dataset.loc[_*set_size:(_+1)*set_size, :])\n",
    "    return subsets\n"
   ]
  },
  {
   "cell_type": "code",
   "execution_count": 79,
   "metadata": {
    "id": "srcqhk_BuxUe",
    "executionInfo": {
     "status": "ok",
     "timestamp": 1688893806305,
     "user_tz": -120,
     "elapsed": 7,
     "user": {
      "displayName": "Niklas Kormann",
      "userId": "03685805006922190005"
     }
    }
   },
   "outputs": [],
   "source": [
    "def balancing(dataset: pd.DataFrame, column_label: str):\n",
    "    \"\"\"\n",
    "    Funktion um einen Datensatz nach enthaltenen Labels zu balancen.\n",
    "    :param dataset: Dataset, das balanced werden soll.\n",
    "    :param column_label: Spalte in der sich die Labels befinden.\n",
    "    :return: Balanced dataset\n",
    "    \"\"\"\n",
    "    balanced_set = dataset\n",
    "    sentiment_groups = dataset[column_label].value_counts()\n",
    "    max_size = sentiment_groups.max()\n",
    "\n",
    "    for i in sentiment_groups.index.values:\n",
    "        ratio = int(max_size / sentiment_groups[i])\n",
    "\n",
    "        for j in range(int(ratio)+1):\n",
    "            current_size = balanced_set[column_label].value_counts()[i]\n",
    "            n = min([(max_size-current_size), sentiment_groups[i]])\n",
    "            balanced_set = pd.concat([balanced_set, dataset.loc[dataset[column_label] == i].sample(n=n)])\n",
    "\n",
    "    return balanced_set.sample(frac=1)"
   ]
  },
  {
   "cell_type": "code",
   "execution_count": 80,
   "metadata": {
    "id": "2Q9DKpHcuxUf",
    "executionInfo": {
     "status": "ok",
     "timestamp": 1688893806305,
     "user_tz": -120,
     "elapsed": 7,
     "user": {
      "displayName": "Niklas Kormann",
      "userId": "03685805006922190005"
     }
    }
   },
   "outputs": [],
   "source": [
    "def save_dataset(dataset, name, path):\n",
    "    \"\"\"\n",
    "    Speichert ein pandas DataFrame als csv\n",
    "    :param dataset: pandas DataFrame\n",
    "    :param name: Name des csv-files\n",
    "    :param path: Pfand zum Ordner, wo das csv-file gespeichert werden soll\n",
    "    :return: None\n",
    "    \"\"\"\n",
    "    file_path = path + \"/\"+ name\n",
    "    dataset.to_csv(path_or_buf=file_path, sep=\";\")"
   ]
  },
  {
   "cell_type": "code",
   "execution_count": 81,
   "metadata": {
    "id": "Yd2EScpVuxUf",
    "outputId": "913c5443-ed12-45d4-f78e-3148b4bc4b0c",
    "scrolled": true,
    "colab": {
     "base_uri": "https://localhost:8080/",
     "height": 316
    },
    "executionInfo": {
     "status": "ok",
     "timestamp": 1688893807138,
     "user_tz": -120,
     "elapsed": 840,
     "user": {
      "displayName": "Niklas Kormann",
      "userId": "03685805006922190005"
     }
    }
   },
   "outputs": [
    {
     "output_type": "display_data",
     "data": {
      "text/plain": [
       "<Figure size 1200x300 with 8 Axes>"
      ],
      "image/png": "[encoded data removed]"
     },
     "metadata": {}
    }
   ],
   "source": [
    "subsets = dataset_split(dataset_mr_relabled, 8)\n",
    "\n",
    "fig, axes = plt.subplots(1, len(subsets), figsize=(12,3))\\\n",
    "#TODO: Titel\n",
    "for _, ax in enumerate(axes):\n",
    "    sns.countplot(x='Sentiment', data=subsets[_], ax=ax)\n",
    "    ax.set_ylabel('Anzahl')\n",
    "    ax.set_ylim(top=500)\n",
    "    if (_ > 0):\n",
    "        ax.get_yaxis().set_visible(False)"
   ]
  },
  {
   "cell_type": "code",
   "execution_count": 82,
   "metadata": {
    "id": "7KvMZfiHuxUf",
    "outputId": "bf7269c4-fb93-4dce-b6c0-d7086b8a7ffb",
    "colab": {
     "base_uri": "https://localhost:8080/",
     "height": 316
    },
    "executionInfo": {
     "status": "ok",
     "timestamp": 1688893807986,
     "user_tz": -120,
     "elapsed": 851,
     "user": {
      "displayName": "Niklas Kormann",
      "userId": "03685805006922190005"
     }
    }
   },
   "outputs": [
    {
     "output_type": "display_data",
     "data": {
      "text/plain": [
       "<Figure size 1200x300 with 8 Axes>"
      ],
      "image/png": "[encoded data removed]"
     },
     "metadata": {}
    }
   ],
   "source": [
    "for i in range(len(subsets)):\n",
    "    subsets[i] = balancing(subsets[i], \"Sentiment\")\n",
    "\n",
    "fig, axes = plt.subplots(1, len(subsets), figsize=(12,3))\n",
    "for _, ax in enumerate(axes):\n",
    "    sns.countplot(x='Sentiment', data=subsets[_], ax=ax)\n",
    "    ax.set_ylim(top=500)\n",
    "    if (_ > 0):\n",
    "        ax.get_yaxis().set_visible(False)"
   ]
  },
  {
   "cell_type": "code",
   "execution_count": 83,
   "metadata": {
    "id": "3zRHINWCuxUf",
    "executionInfo": {
     "status": "ok",
     "timestamp": 1688893807986,
     "user_tz": -120,
     "elapsed": 244,
     "user": {
      "displayName": "Niklas Kormann",
      "userId": "03685805006922190005"
     }
    }
   },
   "outputs": [],
   "source": [
    "SAVE_FILES = False\n",
    "\n",
    "# Zusammenfügen gesamttrainingsset\n",
    "\n",
    "trainset_complete = pd.concat(subsets[:6])\n",
    "\n",
    "dir_path = \"../data/datasets_mr\"\n",
    "\n",
    "if SAVE_FILES:\n",
    "  save_dataset(subsets[0], \"Trainset_1.csv\", dir_path)\n",
    "  save_dataset(subsets[1], \"Trainset_2.csv\", dir_path)\n",
    "  save_dataset(subsets[2], \"Trainset_3.csv\", dir_path)\n",
    "  save_dataset(subsets[3], \"Trainset_4.csv\", dir_path)\n",
    "  save_dataset(subsets[4], \"Trainset_5.csv\", dir_path)\n",
    "  save_dataset(subsets[5], \"Trainset_6.csv\", dir_path)\n",
    "  save_dataset(trainset_complete, \"Trainset_complete.csv\", dir_path)\n",
    "  save_dataset(subsets[6], \"Evaluationset.csv\", dir_path)\n",
    "  save_dataset(subsets[7], \"Testset.csv\", dir_path)"
   ]
  },
  {
   "cell_type": "markdown",
   "metadata": {
    "id": "1xkpUWGauxUg"
   },
   "source": [
    "# 2. Dataset: Tweets\n",
    "\n",
    "Der zweite Datensatz enthält 1.6 Millionen Tweets und stammt ebenfalls von Kaggle (https://www.kaggle.com/datasets/kazanova/sentiment140). Für diesen Datensatz haben wir uns auf Grund der Länge entschieden. Wie wir später im Notebook zu unseren Versuchen mit dem Larga Language Modell ausführen, reichte der Datensatz nicht aus, um dieses große Modell zu trainieren. Daher haben wir uns für diesen deutlich umfangreicheren Datensatz entschieden, auch wenn diese auch Nachteile mit sich bringt, wie wir weiter unten ausführen."
   ]
  },
  {
   "cell_type": "markdown",
   "source": [
    "## 2.1 Technische Datenstruktur\n",
    "\n",
    "Der Datensatz besteht aus 1599999 Sampeln, die jeweils einen Sentiment Score, eine ID, ein Datum, ein Flag, einen User und die Phrase enthalten. Die für uns relevanten Attribute Sentiment Score und Phrase sind vom Datentyp Integer und String-Object."
   ],
   "metadata": {
    "id": "cTaRFnEP3EMc"
   }
  },
  {
   "cell_type": "code",
   "execution_count": 97,
   "metadata": {
    "executionInfo": {
     "elapsed": 12232,
     "status": "ok",
     "timestamp": 1688893903618,
     "user": {
      "displayName": "Niklas Kormann",
      "userId": "03685805006922190005"
     },
     "user_tz": -120
    },
    "id": "uKibXMIouxUg"
   },
   "outputs": [],
   "source": [
    "with open(\"../data/tweets.csv\", 'r', encoding='latin-1') as csvdatei:\n",
    "    dataset_tw = pd.read_csv(csvdatei, delimiter=',')\n",
    "dataset_tw.columns = ['Sentiment','ID','date','flag','user','Phrase']"
   ]
  },
  {
   "cell_type": "code",
   "execution_count": 98,
   "metadata": {
    "colab": {
     "base_uri": "https://localhost:8080/"
    },
    "executionInfo": {
     "elapsed": 1002,
     "status": "ok",
     "timestamp": 1688893904618,
     "user": {
      "displayName": "Niklas Kormann",
      "userId": "03685805006922190005"
     },
     "user_tz": -120
    },
    "id": "bzH-BL_TuxUg",
    "outputId": "b3f6dd07-ad2e-4a0a-af6b-73abac8ffe0a"
   },
   "outputs": [
    {
     "output_type": "stream",
     "name": "stdout",
     "text": [
      "<class 'pandas.core.frame.DataFrame'>\n",
      "RangeIndex: 1599999 entries, 0 to 1599998\n",
      "Data columns (total 6 columns):\n",
      " #   Column     Non-Null Count    Dtype \n",
      "---  ------     --------------    ----- \n",
      " 0   Sentiment  1599999 non-null  int64 \n",
      " 1   ID         1599999 non-null  int64 \n",
      " 2   date       1599999 non-null  object\n",
      " 3   flag       1599999 non-null  object\n",
      " 4   user       1599999 non-null  object\n",
      " 5   Phrase     1599999 non-null  object\n",
      "dtypes: int64(2), object(4)\n",
      "memory usage: 73.2+ MB\n"
     ]
    }
   ],
   "source": [
    "dataset_tw.info()"
   ]
  },
  {
   "cell_type": "code",
   "execution_count": 87,
   "metadata": {
    "colab": {
     "base_uri": "https://localhost:8080/",
     "height": 300
    },
    "executionInfo": {
     "elapsed": 222,
     "status": "ok",
     "timestamp": 1688893815408,
     "user": {
      "displayName": "Niklas Kormann",
      "userId": "03685805006922190005"
     },
     "user_tz": -120
    },
    "id": "UHBULL09uxUg",
    "outputId": "acfb91fd-4031-4deb-9cad-d26b8ed4c089"
   },
   "outputs": [
    {
     "output_type": "execute_result",
     "data": {
      "text/plain": [
       "          Sentiment            ID\n",
       "count  1.599999e+06  1.599999e+06\n",
       "mean   2.000001e+00  1.998818e+09\n",
       "std    2.000001e+00  1.935757e+08\n",
       "min    0.000000e+00  1.467811e+09\n",
       "25%    0.000000e+00  1.956916e+09\n",
       "50%    4.000000e+00  2.002102e+09\n",
       "75%    4.000000e+00  2.177059e+09\n",
       "max    4.000000e+00  2.329206e+09"
      ],
      "text/html": [
       "\n",
       "  <div id=\"df-0ae8acd8-7faa-4ed9-9d5e-c1c88c7cb52a\">\n",
       "    <div class=\"colab-df-container\">\n",
       "      <div>\n",
       "<style scoped>\n",
       "    .dataframe tbody tr th:only-of-type {\n",
       "        vertical-align: middle;\n",
       "    }\n",
       "\n",
       "    .dataframe tbody tr th {\n",
       "        vertical-align: top;\n",
       "    }\n",
       "\n",
       "    .dataframe thead th {\n",
       "        text-align: right;\n",
       "    }\n",
       "</style>\n",
       "<table border=\"1\" class=\"dataframe\">\n",
       "  <thead>\n",
       "    <tr style=\"text-align: right;\">\n",
       "      <th></th>\n",
       "      <th>Sentiment</th>\n",
       "      <th>ID</th>\n",
       "    </tr>\n",
       "  </thead>\n",
       "  <tbody>\n",
       "    <tr>\n",
       "      <th>count</th>\n",
       "      <td>1.599999e+06</td>\n",
       "      <td>1.599999e+06</td>\n",
       "    </tr>\n",
       "    <tr>\n",
       "      <th>mean</th>\n",
       "      <td>2.000001e+00</td>\n",
       "      <td>1.998818e+09</td>\n",
       "    </tr>\n",
       "    <tr>\n",
       "      <th>std</th>\n",
       "      <td>2.000001e+00</td>\n",
       "      <td>1.935757e+08</td>\n",
       "    </tr>\n",
       "    <tr>\n",
       "      <th>min</th>\n",
       "      <td>0.000000e+00</td>\n",
       "      <td>1.467811e+09</td>\n",
       "    </tr>\n",
       "    <tr>\n",
       "      <th>25%</th>\n",
       "      <td>0.000000e+00</td>\n",
       "      <td>1.956916e+09</td>\n",
       "    </tr>\n",
       "    <tr>\n",
       "      <th>50%</th>\n",
       "      <td>4.000000e+00</td>\n",
       "      <td>2.002102e+09</td>\n",
       "    </tr>\n",
       "    <tr>\n",
       "      <th>75%</th>\n",
       "      <td>4.000000e+00</td>\n",
       "      <td>2.177059e+09</td>\n",
       "    </tr>\n",
       "    <tr>\n",
       "      <th>max</th>\n",
       "      <td>4.000000e+00</td>\n",
       "      <td>2.329206e+09</td>\n",
       "    </tr>\n",
       "  </tbody>\n",
       "</table>\n",
       "</div>\n",
       "      <button class=\"colab-df-convert\" onclick=\"convertToInteractive('df-0ae8acd8-7faa-4ed9-9d5e-c1c88c7cb52a')\"\n",
       "              title=\"Convert this dataframe to an interactive table.\"\n",
       "              style=\"display:none;\">\n",
       "        \n",
       "  <svg xmlns=\"http://www.w3.org/2000/svg\" height=\"24px\"viewBox=\"0 0 24 24\"\n",
       "       width=\"24px\">\n",
       "    <path d=\"M0 0h24v24H0V0z\" fill=\"none\"/>\n",
       "    <path d=\"M18.56 5.44l.94 2.06.94-2.06 2.06-.94-2.06-.94-.94-2.06-.94 2.06-2.06.94zm-11 1L8.5 8.5l.94-2.06 2.06-.94-2.06-.94L8.5 2.5l-.94 2.06-2.06.94zm10 10l.94 2.06.94-2.06 2.06-.94-2.06-.94-.94-2.06-.94 2.06-2.06.94z\"/><path d=\"M17.41 7.96l-1.37-1.37c-.4-.4-.92-.59-1.43-.59-.52 0-1.04.2-1.43.59L10.3 9.45l-7.72 7.72c-.78.78-.78 2.05 0 2.83L4 21.41c.39.39.9.59 1.41.59.51 0 1.02-.2 1.41-.59l7.78-7.78 2.81-2.81c.8-.78.8-2.07 0-2.86zM5.41 20L4 18.59l7.72-7.72 1.47 1.35L5.41 20z\"/>\n",
       "  </svg>\n",
       "      </button>\n",
       "      \n",
       "  <style>\n",
       "    .colab-df-container {\n",
       "      display:flex;\n",
       "      flex-wrap:wrap;\n",
       "      gap: 12px;\n",
       "    }\n",
       "\n",
       "    .colab-df-convert {\n",
       "      background-color: #E8F0FE;\n",
       "      border: none;\n",
       "      border-radius: 50%;\n",
       "      cursor: pointer;\n",
       "      display: none;\n",
       "      fill: #1967D2;\n",
       "      height: 32px;\n",
       "      padding: 0 0 0 0;\n",
       "      width: 32px;\n",
       "    }\n",
       "\n",
       "    .colab-df-convert:hover {\n",
       "      background-color: #E2EBFA;\n",
       "      box-shadow: 0px 1px 2px rgba(60, 64, 67, 0.3), 0px 1px 3px 1px rgba(60, 64, 67, 0.15);\n",
       "      fill: #174EA6;\n",
       "    }\n",
       "\n",
       "    [theme=dark] .colab-df-convert {\n",
       "      background-color: #3B4455;\n",
       "      fill: #D2E3FC;\n",
       "    }\n",
       "\n",
       "    [theme=dark] .colab-df-convert:hover {\n",
       "      background-color: #434B5C;\n",
       "      box-shadow: 0px 1px 3px 1px rgba(0, 0, 0, 0.15);\n",
       "      filter: drop-shadow(0px 1px 2px rgba(0, 0, 0, 0.3));\n",
       "      fill: #FFFFFF;\n",
       "    }\n",
       "  </style>\n",
       "\n",
       "      <script>\n",
       "        const buttonEl =\n",
       "          document.querySelector('#df-0ae8acd8-7faa-4ed9-9d5e-c1c88c7cb52a button.colab-df-convert');\n",
       "        buttonEl.style.display =\n",
       "          google.colab.kernel.accessAllowed ? 'block' : 'none';\n",
       "\n",
       "        async function convertToInteractive(key) {\n",
       "          const element = document.querySelector('#df-0ae8acd8-7faa-4ed9-9d5e-c1c88c7cb52a');\n",
       "          const dataTable =\n",
       "            await google.colab.kernel.invokeFunction('convertToInteractive',\n",
       "                                                     [key], {});\n",
       "          if (!dataTable) return;\n",
       "\n",
       "          const docLinkHtml = 'Like what you see? Visit the ' +\n",
       "            '<a target=\"_blank\" href=https://colab.research.google.com/notebooks/data_table.ipynb>data table notebook</a>'\n",
       "            + ' to learn more about interactive tables.';\n",
       "          element.innerHTML = '';\n",
       "          dataTable['output_type'] = 'display_data';\n",
       "          await google.colab.output.renderOutput(dataTable, element);\n",
       "          const docLink = document.createElement('div');\n",
       "          docLink.innerHTML = docLinkHtml;\n",
       "          element.appendChild(docLink);\n",
       "        }\n",
       "      </script>\n",
       "    </div>\n",
       "  </div>\n",
       "  "
      ]
     },
     "metadata": {},
     "execution_count": 87
    }
   ],
   "source": [
    "dataset_tw.describe()"
   ]
  },
  {
   "cell_type": "markdown",
   "source": [
    "## 2.2 Inhaltliche Struktur der Daten & Aufbereitung\n",
    "\n",
    "Da wir die Spalten date, flag und user nicht benötigen, haben wir diese hier für die weitere Arbeit aus dem Datensatz entfernt. Bei einem Blick auf die ersten Sampels sieht man, dass im Gegensatz zum ersten Datensatz hier offensichtlich jedes Sample einen anderen Tweet enthält und diese scheinbar vollständig ist. Jedoch sind die Samples nach Sentiment sortiert. Um später beim Aufspalten das Datensatzes alle Sentiment Klassen in allen Subsets zu repräsentieren und unsere Split-Funktion die Samples nicht zufällig aufteilt, haben wir die Daten an dieser Stelle zunächst geshuffled. Zudem haben wir auch hier die Klassen-Labels auf -1 bis 0 gesetzt. Bei einem Blick auf das Histogramm unten erkennt man, welchen Vorteil und welchen Nachteil dieser Datensatz für unser Projekt hat. Der Nachteil ist, dass es nur zwei Sentiment-Klassen gibt (positiv und negativ). Der Vorteil ist, dass die Daten bereits balanciert sind."
   ],
   "metadata": {
    "id": "hdRcv-6y5Hud"
   }
  },
  {
   "cell_type": "code",
   "execution_count": 99,
   "metadata": {
    "colab": {
     "base_uri": "https://localhost:8080/",
     "height": 364
    },
    "executionInfo": {
     "elapsed": 7,
     "status": "ok",
     "timestamp": 1688893904618,
     "user": {
      "displayName": "Niklas Kormann",
      "userId": "03685805006922190005"
     },
     "user_tz": -120
    },
    "id": "sTN8RjZ_uxUh",
    "outputId": "96bf43e2-13f7-487f-f1c4-7060e04b55d9"
   },
   "outputs": [
    {
     "output_type": "execute_result",
     "data": {
      "text/plain": [
       "    Sentiment          ID  \\\n",
       "0           0  1467810672   \n",
       "1           0  1467810917   \n",
       "2           0  1467811184   \n",
       "3           0  1467811193   \n",
       "4           0  1467811372   \n",
       "..        ...         ...   \n",
       "95          0  1467836500   \n",
       "96          0  1467836576   \n",
       "97          0  1467836583   \n",
       "98          0  1467836859   \n",
       "99          0  1467836873   \n",
       "\n",
       "                                                                                                                                   Phrase  \n",
       "0                         is upset that he can't update his Facebook by texting it... and might cry as a result  School today also. Blah!  \n",
       "1                                               @Kenichan I dived many times for the ball. Managed to save 50%  The rest go out of bounds  \n",
       "2                                                                                         my whole body feels itchy and like its on fire   \n",
       "3                         @nationwideclass no, it's not behaving at all. i'm mad. why am i here? because I can't see you all over there.   \n",
       "4                                                                                                           @Kwesidei not the whole crew   \n",
       "..                                                                                                                                    ...  \n",
       "95                       so rylee,grace...wana go steve's party or not?? SADLY SINCE ITS EASTER I WNT B ABLE 2 DO MUCH  BUT OHH WELL.....  \n",
       "96                                                      hey, I actually won one of my bracket pools! Too bad it wasn't the one for money   \n",
       "97                                                                                @stark YOU don't follow me, either  and i work for you!  \n",
       "98                                         A bad nite for the favorite teams: Astros and Spartans lose.  The nite out with T.W. was good.  \n",
       "99   Body Of Missing Northern Calif. Girl Found: Police have found the remains of a missing Northern California girl .. http://tr.im/imji  \n",
       "\n",
       "[100 rows x 3 columns]"
      ],
      "text/html": [
       "\n",
       "  <div id=\"df-5c2568a6-4e7b-44a0-ac71-7bbec304a2cd\">\n",
       "    <div class=\"colab-df-container\">\n",
       "      <div>\n",
       "<style scoped>\n",
       "    .dataframe tbody tr th:only-of-type {\n",
       "        vertical-align: middle;\n",
       "    }\n",
       "\n",
       "    .dataframe tbody tr th {\n",
       "        vertical-align: top;\n",
       "    }\n",
       "\n",
       "    .dataframe thead th {\n",
       "        text-align: right;\n",
       "    }\n",
       "</style>\n",
       "<table border=\"1\" class=\"dataframe\">\n",
       "  <thead>\n",
       "    <tr style=\"text-align: right;\">\n",
       "      <th></th>\n",
       "      <th>Sentiment</th>\n",
       "      <th>ID</th>\n",
       "      <th>Phrase</th>\n",
       "    </tr>\n",
       "  </thead>\n",
       "  <tbody>\n",
       "    <tr>\n",
       "      <th>0</th>\n",
       "      <td>0</td>\n",
       "      <td>1467810672</td>\n",
       "      <td>is upset that he can't update his Facebook by texting it... and might cry as a result  School today also. Blah!</td>\n",
       "    </tr>\n",
       "    <tr>\n",
       "      <th>1</th>\n",
       "      <td>0</td>\n",
       "      <td>1467810917</td>\n",
       "      <td>@Kenichan I dived many times for the ball. Managed to save 50%  The rest go out of bounds</td>\n",
       "    </tr>\n",
       "    <tr>\n",
       "      <th>2</th>\n",
       "      <td>0</td>\n",
       "      <td>1467811184</td>\n",
       "      <td>my whole body feels itchy and like its on fire</td>\n",
       "    </tr>\n",
       "    <tr>\n",
       "      <th>3</th>\n",
       "      <td>0</td>\n",
       "      <td>1467811193</td>\n",
       "      <td>@nationwideclass no, it's not behaving at all. i'm mad. why am i here? because I can't see you all over there.</td>\n",
       "    </tr>\n",
       "    <tr>\n",
       "      <th>4</th>\n",
       "      <td>0</td>\n",
       "      <td>1467811372</td>\n",
       "      <td>@Kwesidei not the whole crew</td>\n",
       "    </tr>\n",
       "    <tr>\n",
       "      <th>...</th>\n",
       "      <td>...</td>\n",
       "      <td>...</td>\n",
       "      <td>...</td>\n",
       "    </tr>\n",
       "    <tr>\n",
       "      <th>95</th>\n",
       "      <td>0</td>\n",
       "      <td>1467836500</td>\n",
       "      <td>so rylee,grace...wana go steve's party or not?? SADLY SINCE ITS EASTER I WNT B ABLE 2 DO MUCH  BUT OHH WELL.....</td>\n",
       "    </tr>\n",
       "    <tr>\n",
       "      <th>96</th>\n",
       "      <td>0</td>\n",
       "      <td>1467836576</td>\n",
       "      <td>hey, I actually won one of my bracket pools! Too bad it wasn't the one for money</td>\n",
       "    </tr>\n",
       "    <tr>\n",
       "      <th>97</th>\n",
       "      <td>0</td>\n",
       "      <td>1467836583</td>\n",
       "      <td>@stark YOU don't follow me, either  and i work for you!</td>\n",
       "    </tr>\n",
       "    <tr>\n",
       "      <th>98</th>\n",
       "      <td>0</td>\n",
       "      <td>1467836859</td>\n",
       "      <td>A bad nite for the favorite teams: Astros and Spartans lose.  The nite out with T.W. was good.</td>\n",
       "    </tr>\n",
       "    <tr>\n",
       "      <th>99</th>\n",
       "      <td>0</td>\n",
       "      <td>1467836873</td>\n",
       "      <td>Body Of Missing Northern Calif. Girl Found: Police have found the remains of a missing Northern California girl .. http://tr.im/imji</td>\n",
       "    </tr>\n",
       "  </tbody>\n",
       "</table>\n",
       "<p>100 rows × 3 columns</p>\n",
       "</div>\n",
       "      <button class=\"colab-df-convert\" onclick=\"convertToInteractive('df-5c2568a6-4e7b-44a0-ac71-7bbec304a2cd')\"\n",
       "              title=\"Convert this dataframe to an interactive table.\"\n",
       "              style=\"display:none;\">\n",
       "        \n",
       "  <svg xmlns=\"http://www.w3.org/2000/svg\" height=\"24px\"viewBox=\"0 0 24 24\"\n",
       "       width=\"24px\">\n",
       "    <path d=\"M0 0h24v24H0V0z\" fill=\"none\"/>\n",
       "    <path d=\"M18.56 5.44l.94 2.06.94-2.06 2.06-.94-2.06-.94-.94-2.06-.94 2.06-2.06.94zm-11 1L8.5 8.5l.94-2.06 2.06-.94-2.06-.94L8.5 2.5l-.94 2.06-2.06.94zm10 10l.94 2.06.94-2.06 2.06-.94-2.06-.94-.94-2.06-.94 2.06-2.06.94z\"/><path d=\"M17.41 7.96l-1.37-1.37c-.4-.4-.92-.59-1.43-.59-.52 0-1.04.2-1.43.59L10.3 9.45l-7.72 7.72c-.78.78-.78 2.05 0 2.83L4 21.41c.39.39.9.59 1.41.59.51 0 1.02-.2 1.41-.59l7.78-7.78 2.81-2.81c.8-.78.8-2.07 0-2.86zM5.41 20L4 18.59l7.72-7.72 1.47 1.35L5.41 20z\"/>\n",
       "  </svg>\n",
       "      </button>\n",
       "      \n",
       "  <style>\n",
       "    .colab-df-container {\n",
       "      display:flex;\n",
       "      flex-wrap:wrap;\n",
       "      gap: 12px;\n",
       "    }\n",
       "\n",
       "    .colab-df-convert {\n",
       "      background-color: #E8F0FE;\n",
       "      border: none;\n",
       "      border-radius: 50%;\n",
       "      cursor: pointer;\n",
       "      display: none;\n",
       "      fill: #1967D2;\n",
       "      height: 32px;\n",
       "      padding: 0 0 0 0;\n",
       "      width: 32px;\n",
       "    }\n",
       "\n",
       "    .colab-df-convert:hover {\n",
       "      background-color: #E2EBFA;\n",
       "      box-shadow: 0px 1px 2px rgba(60, 64, 67, 0.3), 0px 1px 3px 1px rgba(60, 64, 67, 0.15);\n",
       "      fill: #174EA6;\n",
       "    }\n",
       "\n",
       "    [theme=dark] .colab-df-convert {\n",
       "      background-color: #3B4455;\n",
       "      fill: #D2E3FC;\n",
       "    }\n",
       "\n",
       "    [theme=dark] .colab-df-convert:hover {\n",
       "      background-color: #434B5C;\n",
       "      box-shadow: 0px 1px 3px 1px rgba(0, 0, 0, 0.15);\n",
       "      filter: drop-shadow(0px 1px 2px rgba(0, 0, 0, 0.3));\n",
       "      fill: #FFFFFF;\n",
       "    }\n",
       "  </style>\n",
       "\n",
       "      <script>\n",
       "        const buttonEl =\n",
       "          document.querySelector('#df-5c2568a6-4e7b-44a0-ac71-7bbec304a2cd button.colab-df-convert');\n",
       "        buttonEl.style.display =\n",
       "          google.colab.kernel.accessAllowed ? 'block' : 'none';\n",
       "\n",
       "        async function convertToInteractive(key) {\n",
       "          const element = document.querySelector('#df-5c2568a6-4e7b-44a0-ac71-7bbec304a2cd');\n",
       "          const dataTable =\n",
       "            await google.colab.kernel.invokeFunction('convertToInteractive',\n",
       "                                                     [key], {});\n",
       "          if (!dataTable) return;\n",
       "\n",
       "          const docLinkHtml = 'Like what you see? Visit the ' +\n",
       "            '<a target=\"_blank\" href=https://colab.research.google.com/notebooks/data_table.ipynb>data table notebook</a>'\n",
       "            + ' to learn more about interactive tables.';\n",
       "          element.innerHTML = '';\n",
       "          dataTable['output_type'] = 'display_data';\n",
       "          await google.colab.output.renderOutput(dataTable, element);\n",
       "          const docLink = document.createElement('div');\n",
       "          docLink.innerHTML = docLinkHtml;\n",
       "          element.appendChild(docLink);\n",
       "        }\n",
       "      </script>\n",
       "    </div>\n",
       "  </div>\n",
       "  "
      ]
     },
     "metadata": {},
     "execution_count": 99
    }
   ],
   "source": [
    "# Cleaning: nicht benötigte Spalten löschen, Spalten umbenennen\n",
    "dataset_tw.drop(['date','flag','user'], axis=1, inplace=True)\n",
    "dataset_tw.head(10)"
   ]
  },
  {
   "cell_type": "code",
   "source": [
    "dataset_tw = sklearn.utils.shuffle(dataset_tw, random_state=42).reset_index(drop=True)\n",
    "value_mapping = {0: -1, 1: -1, 2: 0, 3: 1, 4: 1}\n",
    "dataset_tw_relabled = dataset_tw\n",
    "dataset_tw_relabled['Sentiment'] = dataset_tw_relabled['Sentiment'].map(value_mapping)\n",
    "dataset_tw_relabled.head(10)"
   ],
   "metadata": {
    "colab": {
     "base_uri": "https://localhost:8080/",
     "height": 363
    },
    "id": "-2qMLxX56g19",
    "executionInfo": {
     "status": "ok",
     "timestamp": 1688894160442,
     "user_tz": -120,
     "elapsed": 917,
     "user": {
      "displayName": "Niklas Kormann",
      "userId": "03685805006922190005"
     }
    },
    "outputId": "bba1b1fc-2b77-4b3b-f9ec-10c7fa356a31"
   },
   "execution_count": 100,
   "outputs": [
    {
     "output_type": "execute_result",
     "data": {
      "text/plain": [
       "   Sentiment          ID  \\\n",
       "0         -1  2200003313   \n",
       "1         -1  1467998601   \n",
       "2         -1  2300049112   \n",
       "3         -1  1993474319   \n",
       "4         -1  2256551006   \n",
       "5         -1  2052381070   \n",
       "6          1  1983449090   \n",
       "7         -1  2245480599   \n",
       "8         -1  1770706008   \n",
       "9          1  2050057894   \n",
       "\n",
       "                                                                                                                      Phrase  \n",
       "0            @Nkluvr4eva My poor little dumpling  In Holmdel vids he was really trying...Hope he dont try to hard tonight xx  \n",
       "1                                                            I'm off too bed. I gotta wake up hella early tomorrow morning.   \n",
       "2                                                             I havent been able to listen to it yet  My speakers are busted  \n",
       "3                         now remembers why solving a relatively big equation with two unknowns is a total pain in the butt   \n",
       "4                                                                                                   Ate too much, feel sick   \n",
       "5                            Tried to purchase a parked domain through GoDaddy. $70 down the drain  kind of like gambling...  \n",
       "6                                                                                    on lunch....dj should come eat with me   \n",
       "7       Just got back from VA Tech Equine Medical Center...my poor Lilly has to be on stall rest for at least another month   \n",
       "8                                                                    can't log in to my other twitter account. super bummed   \n",
       "9  @TamaraSchilling Adventure - That's what we all need in our life. I am glad you had a great week. Thanks for yr response   "
      ],
      "text/html": [
       "\n",
       "  <div id=\"df-2c232dd5-3de5-41c6-82a0-26e92ab27f4d\">\n",
       "    <div class=\"colab-df-container\">\n",
       "      <div>\n",
       "<style scoped>\n",
       "    .dataframe tbody tr th:only-of-type {\n",
       "        vertical-align: middle;\n",
       "    }\n",
       "\n",
       "    .dataframe tbody tr th {\n",
       "        vertical-align: top;\n",
       "    }\n",
       "\n",
       "    .dataframe thead th {\n",
       "        text-align: right;\n",
       "    }\n",
       "</style>\n",
       "<table border=\"1\" class=\"dataframe\">\n",
       "  <thead>\n",
       "    <tr style=\"text-align: right;\">\n",
       "      <th></th>\n",
       "      <th>Sentiment</th>\n",
       "      <th>ID</th>\n",
       "      <th>Phrase</th>\n",
       "    </tr>\n",
       "  </thead>\n",
       "  <tbody>\n",
       "    <tr>\n",
       "      <th>0</th>\n",
       "      <td>-1</td>\n",
       "      <td>2200003313</td>\n",
       "      <td>@Nkluvr4eva My poor little dumpling  In Holmdel vids he was really trying...Hope he dont try to hard tonight xx</td>\n",
       "    </tr>\n",
       "    <tr>\n",
       "      <th>1</th>\n",
       "      <td>-1</td>\n",
       "      <td>1467998601</td>\n",
       "      <td>I'm off too bed. I gotta wake up hella early tomorrow morning.</td>\n",
       "    </tr>\n",
       "    <tr>\n",
       "      <th>2</th>\n",
       "      <td>-1</td>\n",
       "      <td>2300049112</td>\n",
       "      <td>I havent been able to listen to it yet  My speakers are busted</td>\n",
       "    </tr>\n",
       "    <tr>\n",
       "      <th>3</th>\n",
       "      <td>-1</td>\n",
       "      <td>1993474319</td>\n",
       "      <td>now remembers why solving a relatively big equation with two unknowns is a total pain in the butt</td>\n",
       "    </tr>\n",
       "    <tr>\n",
       "      <th>4</th>\n",
       "      <td>-1</td>\n",
       "      <td>2256551006</td>\n",
       "      <td>Ate too much, feel sick</td>\n",
       "    </tr>\n",
       "    <tr>\n",
       "      <th>5</th>\n",
       "      <td>-1</td>\n",
       "      <td>2052381070</td>\n",
       "      <td>Tried to purchase a parked domain through GoDaddy. $70 down the drain  kind of like gambling...</td>\n",
       "    </tr>\n",
       "    <tr>\n",
       "      <th>6</th>\n",
       "      <td>1</td>\n",
       "      <td>1983449090</td>\n",
       "      <td>on lunch....dj should come eat with me</td>\n",
       "    </tr>\n",
       "    <tr>\n",
       "      <th>7</th>\n",
       "      <td>-1</td>\n",
       "      <td>2245480599</td>\n",
       "      <td>Just got back from VA Tech Equine Medical Center...my poor Lilly has to be on stall rest for at least another month</td>\n",
       "    </tr>\n",
       "    <tr>\n",
       "      <th>8</th>\n",
       "      <td>-1</td>\n",
       "      <td>1770706008</td>\n",
       "      <td>can't log in to my other twitter account. super bummed</td>\n",
       "    </tr>\n",
       "    <tr>\n",
       "      <th>9</th>\n",
       "      <td>1</td>\n",
       "      <td>2050057894</td>\n",
       "      <td>@TamaraSchilling Adventure - That's what we all need in our life. I am glad you had a great week. Thanks for yr response</td>\n",
       "    </tr>\n",
       "  </tbody>\n",
       "</table>\n",
       "</div>\n",
       "      <button class=\"colab-df-convert\" onclick=\"convertToInteractive('df-2c232dd5-3de5-41c6-82a0-26e92ab27f4d')\"\n",
       "              title=\"Convert this dataframe to an interactive table.\"\n",
       "              style=\"display:none;\">\n",
       "        \n",
       "  <svg xmlns=\"http://www.w3.org/2000/svg\" height=\"24px\"viewBox=\"0 0 24 24\"\n",
       "       width=\"24px\">\n",
       "    <path d=\"M0 0h24v24H0V0z\" fill=\"none\"/>\n",
       "    <path d=\"M18.56 5.44l.94 2.06.94-2.06 2.06-.94-2.06-.94-.94-2.06-.94 2.06-2.06.94zm-11 1L8.5 8.5l.94-2.06 2.06-.94-2.06-.94L8.5 2.5l-.94 2.06-2.06.94zm10 10l.94 2.06.94-2.06 2.06-.94-2.06-.94-.94-2.06-.94 2.06-2.06.94z\"/><path d=\"M17.41 7.96l-1.37-1.37c-.4-.4-.92-.59-1.43-.59-.52 0-1.04.2-1.43.59L10.3 9.45l-7.72 7.72c-.78.78-.78 2.05 0 2.83L4 21.41c.39.39.9.59 1.41.59.51 0 1.02-.2 1.41-.59l7.78-7.78 2.81-2.81c.8-.78.8-2.07 0-2.86zM5.41 20L4 18.59l7.72-7.72 1.47 1.35L5.41 20z\"/>\n",
       "  </svg>\n",
       "      </button>\n",
       "      \n",
       "  <style>\n",
       "    .colab-df-container {\n",
       "      display:flex;\n",
       "      flex-wrap:wrap;\n",
       "      gap: 12px;\n",
       "    }\n",
       "\n",
       "    .colab-df-convert {\n",
       "      background-color: #E8F0FE;\n",
       "      border: none;\n",
       "      border-radius: 50%;\n",
       "      cursor: pointer;\n",
       "      display: none;\n",
       "      fill: #1967D2;\n",
       "      height: 32px;\n",
       "      padding: 0 0 0 0;\n",
       "      width: 32px;\n",
       "    }\n",
       "\n",
       "    .colab-df-convert:hover {\n",
       "      background-color: #E2EBFA;\n",
       "      box-shadow: 0px 1px 2px rgba(60, 64, 67, 0.3), 0px 1px 3px 1px rgba(60, 64, 67, 0.15);\n",
       "      fill: #174EA6;\n",
       "    }\n",
       "\n",
       "    [theme=dark] .colab-df-convert {\n",
       "      background-color: #3B4455;\n",
       "      fill: #D2E3FC;\n",
       "    }\n",
       "\n",
       "    [theme=dark] .colab-df-convert:hover {\n",
       "      background-color: #434B5C;\n",
       "      box-shadow: 0px 1px 3px 1px rgba(0, 0, 0, 0.15);\n",
       "      filter: drop-shadow(0px 1px 2px rgba(0, 0, 0, 0.3));\n",
       "      fill: #FFFFFF;\n",
       "    }\n",
       "  </style>\n",
       "\n",
       "      <script>\n",
       "        const buttonEl =\n",
       "          document.querySelector('#df-2c232dd5-3de5-41c6-82a0-26e92ab27f4d button.colab-df-convert');\n",
       "        buttonEl.style.display =\n",
       "          google.colab.kernel.accessAllowed ? 'block' : 'none';\n",
       "\n",
       "        async function convertToInteractive(key) {\n",
       "          const element = document.querySelector('#df-2c232dd5-3de5-41c6-82a0-26e92ab27f4d');\n",
       "          const dataTable =\n",
       "            await google.colab.kernel.invokeFunction('convertToInteractive',\n",
       "                                                     [key], {});\n",
       "          if (!dataTable) return;\n",
       "\n",
       "          const docLinkHtml = 'Like what you see? Visit the ' +\n",
       "            '<a target=\"_blank\" href=https://colab.research.google.com/notebooks/data_table.ipynb>data table notebook</a>'\n",
       "            + ' to learn more about interactive tables.';\n",
       "          element.innerHTML = '';\n",
       "          dataTable['output_type'] = 'display_data';\n",
       "          await google.colab.output.renderOutput(dataTable, element);\n",
       "          const docLink = document.createElement('div');\n",
       "          docLink.innerHTML = docLinkHtml;\n",
       "          element.appendChild(docLink);\n",
       "        }\n",
       "      </script>\n",
       "    </div>\n",
       "  </div>\n",
       "  "
      ]
     },
     "metadata": {},
     "execution_count": 100
    }
   ]
  },
  {
   "cell_type": "code",
   "execution_count": 102,
   "metadata": {
    "colab": {
     "base_uri": "https://localhost:8080/",
     "height": 489
    },
    "executionInfo": {
     "elapsed": 930,
     "status": "ok",
     "timestamp": 1688894491623,
     "user": {
      "displayName": "Niklas Kormann",
      "userId": "03685805006922190005"
     },
     "user_tz": -120
    },
    "id": "Sn0YnxznuxUh",
    "outputId": "5e46db60-e9b4-4117-8511-1e8fdc7f0680"
   },
   "outputs": [
    {
     "output_type": "execute_result",
     "data": {
      "text/plain": [
       "Text(0, 0.5, 'Anzahl')"
      ]
     },
     "metadata": {},
     "execution_count": 102
    },
    {
     "output_type": "display_data",
     "data": {
      "text/plain": [
       "<Figure size 640x480 with 1 Axes>"
      ],
      "image/png": "[encoded data removed]"
     },
     "metadata": {}
    }
   ],
   "source": [
    "sns.countplot(x='Sentiment', data=dataset_tw)\n",
    "plt.title('Verteilung Sentiment Scores: Tweets')\n",
    "plt.ylabel('Anzahl')"
   ]
  },
  {
   "cell_type": "code",
   "execution_count": 93,
   "metadata": {
    "colab": {
     "base_uri": "https://localhost:8080/",
     "height": 311
    },
    "executionInfo": {
     "elapsed": 387,
     "status": "ok",
     "timestamp": 1688893817935,
     "user": {
      "displayName": "Niklas Kormann",
      "userId": "03685805006922190005"
     },
     "user_tz": -120
    },
    "id": "lMKl5FZHuxUh",
    "outputId": "edda013d-4939-4ef1-f5ad-34fe8be7a71c"
   },
   "outputs": [
    {
     "output_type": "display_data",
     "data": {
      "text/plain": [
       "<Figure size 1200x300 with 8 Axes>"
      ],
      "image/png": "[encoded data removed]"
     },
     "metadata": {}
    }
   ],
   "source": [
    "subsets_tw = dataset_split(dataset_tw_relabled, 8)\n",
    "\n",
    "fig, axes = plt.subplots(1, len(subsets_tw), figsize=(12,3))\n",
    "for _, ax in enumerate(axes):\n",
    "    sns.countplot(x='Sentiment', data=subsets_tw[_], ax=ax)\n",
    "    if (_ > 0):\n",
    "        ax.get_yaxis().set_visible(False)"
   ]
  },
  {
   "cell_type": "code",
   "execution_count": 94,
   "metadata": {
    "id": "DqJ8ojkEuxUi",
    "executionInfo": {
     "status": "ok",
     "timestamp": 1688893818188,
     "user_tz": -120,
     "elapsed": 258,
     "user": {
      "displayName": "Niklas Kormann",
      "userId": "03685805006922190005"
     }
    }
   },
   "outputs": [],
   "source": [
    "SAVE_FILES = False\n",
    "\n",
    "# Zusammenfügen gesamt trainingsset\n",
    "trainset_complete_tw = pd.concat(subsets_tw[:6])\n",
    "\n",
    "dir_path = \"../data/dataset_tw\"\n",
    "\n",
    "if SAVE_FILES:\n",
    "  save_dataset(subsets_tw[0], \"Trainset_1.csv\", dir_path)\n",
    "  save_dataset(subsets_tw[1], \"Trainset_2.csv\", dir_path)\n",
    "  save_dataset(subsets_tw[2], \"Trainset_3.csv\", dir_path)\n",
    "  save_dataset(subsets_tw[3], \"Trainset_4.csv\", dir_path)\n",
    "  save_dataset(subsets_tw[4], \"Trainset_5.csv\", dir_path)\n",
    "  save_dataset(subsets_tw[5], \"Trainset_6.csv\", dir_path)\n",
    "  save_dataset(trainset_complete_tw, \"Trainset_complete.csv\", dir_path)\n",
    "  save_dataset(subsets_tw[6], \"Validationset.csv\", dir_path)\n",
    "  save_dataset(subsets_tw[7], \"Testset.csv\", dir_path)"
   ]
  },
  {
   "cell_type": "markdown",
   "metadata": {
    "id": "RbCHUWFruxUi"
   },
   "source": [
    "# Dataset: Amazon"
   ]
  },
  {
   "cell_type": "code",
   "execution_count": 95,
   "metadata": {
    "id": "CrryeKXJuxUi",
    "colab": {
     "base_uri": "https://localhost:8080/",
     "height": 184
    },
    "executionInfo": {
     "status": "error",
     "timestamp": 1688893818189,
     "user_tz": -120,
     "elapsed": 10,
     "user": {
      "displayName": "Niklas Kormann",
      "userId": "03685805006922190005"
     }
    },
    "outputId": "b2addc45-c475-4f6d-89a7-c1584623e55a"
   },
   "outputs": [
    {
     "output_type": "error",
     "ename": "FileNotFoundError",
     "evalue": "ignored",
     "traceback": [
      "\u001B[0;31m---------------------------------------------------------------------------\u001B[0m",
      "\u001B[0;31mFileNotFoundError\u001B[0m                         Traceback (most recent call last)",
      "\u001B[0;32m<ipython-input-95-4f21c3a627da>\u001B[0m in \u001B[0;36m<cell line: 1>\u001B[0;34m()\u001B[0m\n\u001B[0;32m----> 1\u001B[0;31m \u001B[0;32mwith\u001B[0m \u001B[0mopen\u001B[0m\u001B[0;34m(\u001B[0m\u001B[0;34m\"../data/amazon.csv\"\u001B[0m\u001B[0;34m)\u001B[0m \u001B[0;32mas\u001B[0m \u001B[0mcsvdatei\u001B[0m\u001B[0;34m:\u001B[0m\u001B[0;34m\u001B[0m\u001B[0;34m\u001B[0m\u001B[0m\n\u001B[0m\u001B[1;32m      2\u001B[0m     \u001B[0mdataset_am\u001B[0m \u001B[0;34m=\u001B[0m \u001B[0mpd\u001B[0m\u001B[0;34m.\u001B[0m\u001B[0mread_csv\u001B[0m\u001B[0;34m(\u001B[0m\u001B[0mcsvdatei\u001B[0m\u001B[0;34m,\u001B[0m \u001B[0mdelimiter\u001B[0m\u001B[0;34m=\u001B[0m\u001B[0;34m','\u001B[0m\u001B[0;34m)\u001B[0m\u001B[0;34m\u001B[0m\u001B[0;34m\u001B[0m\u001B[0m\n",
      "\u001B[0;31mFileNotFoundError\u001B[0m: [Errno 2] No such file or directory: '../data/amazon.csv'"
     ]
    }
   ],
   "source": [
    "with open(\"../data/amazon.csv\") as csvdatei:\n",
    "    dataset_am = pd.read_csv(csvdatei, delimiter=',')"
   ]
  },
  {
   "cell_type": "code",
   "execution_count": null,
   "metadata": {
    "id": "mbPtEeBxuxUi",
    "executionInfo": {
     "status": "aborted",
     "timestamp": 1688893818190,
     "user_tz": -120,
     "elapsed": 10,
     "user": {
      "displayName": "Niklas Kormann",
      "userId": "03685805006922190005"
     }
    }
   },
   "outputs": [],
   "source": [
    "dataset_am.info()"
   ]
  },
  {
   "cell_type": "code",
   "execution_count": null,
   "metadata": {
    "id": "hdOQrgP5uxUm",
    "executionInfo": {
     "status": "aborted",
     "timestamp": 1688893818190,
     "user_tz": -120,
     "elapsed": 10,
     "user": {
      "displayName": "Niklas Kormann",
      "userId": "03685805006922190005"
     }
    }
   },
   "outputs": [],
   "source": [
    "pd.set_option('display.max_colwidth', None)\n",
    "dataset_am.columns = ['Unnamed','Phrase','Polarity','Sentiment']\n",
    "dataset_am.head(10)"
   ]
  },
  {
   "cell_type": "code",
   "execution_count": null,
   "metadata": {
    "id": "e36Yh59quxUm",
    "executionInfo": {
     "status": "aborted",
     "timestamp": 1688893818191,
     "user_tz": -120,
     "elapsed": 11,
     "user": {
      "displayName": "Niklas Kormann",
      "userId": "03685805006922190005"
     }
    }
   },
   "outputs": [],
   "source": [
    "dataset_am['Sentiment'].value_counts()"
   ]
  },
  {
   "cell_type": "code",
   "execution_count": null,
   "metadata": {
    "id": "rB65OElDuxUn",
    "executionInfo": {
     "status": "aborted",
     "timestamp": 1688893818191,
     "user_tz": -120,
     "elapsed": 11,
     "user": {
      "displayName": "Niklas Kormann",
      "userId": "03685805006922190005"
     }
    }
   },
   "outputs": [],
   "source": [
    "value_mapping = {'positive': 1, 'neutral': 0, 'negative': -1}\n",
    "dataset_am_relabled = dataset_am\n",
    "dataset_am_relabled['Sentiment'] = dataset_am_relabled['Sentiment'].map(value_mapping)\n",
    "dataset_am_relabled.head(10)"
   ]
  },
  {
   "cell_type": "code",
   "execution_count": null,
   "metadata": {
    "id": "7uCBcQsouxUn",
    "executionInfo": {
     "status": "aborted",
     "timestamp": 1688893818191,
     "user_tz": -120,
     "elapsed": 11,
     "user": {
      "displayName": "Niklas Kormann",
      "userId": "03685805006922190005"
     }
    }
   },
   "outputs": [],
   "source": [
    "def dataset_split(dataset: pd.DataFrame, n: int):\n",
    "    \"\"\"\n",
    "    Funktion, um ein dataset in mehrere gleichgroße Datasets zu splitte\n",
    "    :param dataset: dataset, das gesplittet werden soll\n",
    "    :param n: Anzahl der Subset, in die gesplittet werden soll\n",
    "    :return: Subsets\n",
    "    \"\"\"\n",
    "    set_size = int(dataset.shape[0]/n)\n",
    "    subsets = []\n",
    "    for _ in range(n):\n",
    "        subsets.append(dataset.loc[_*set_size:(_+1)*set_size, :])\n",
    "    return subsets"
   ]
  },
  {
   "cell_type": "code",
   "execution_count": null,
   "metadata": {
    "id": "0bIqBiafuxUn",
    "executionInfo": {
     "status": "aborted",
     "timestamp": 1688893818191,
     "user_tz": -120,
     "elapsed": 11,
     "user": {
      "displayName": "Niklas Kormann",
      "userId": "03685805006922190005"
     }
    }
   },
   "outputs": [],
   "source": [
    "def save_dataset(dataset, name, path):\n",
    "    \"\"\"\n",
    "    Speichert ein pandas DataFrame als csv\n",
    "    :param dataset: pandas DataFrame\n",
    "    :param name: Name des csv-files\n",
    "    :param path: Pfand zum Ordner, wo das csv-file gespeichert werden soll\n",
    "    :return: None\n",
    "    \"\"\"\n",
    "    file_path = path + \"/\"+ name\n",
    "    dataset.to_csv(path_or_buf=file_path, sep=\";\")"
   ]
  },
  {
   "cell_type": "code",
   "execution_count": null,
   "metadata": {
    "id": "s-dl6zmVuxUn",
    "executionInfo": {
     "status": "aborted",
     "timestamp": 1688893818191,
     "user_tz": -120,
     "elapsed": 11,
     "user": {
      "displayName": "Niklas Kormann",
      "userId": "03685805006922190005"
     }
    }
   },
   "outputs": [],
   "source": [
    "subsets = dataset_split(dataset_am, 8)\n",
    "\n",
    "fig, axes = plt.subplots(1, len(subsets), figsize=(12,3))\n",
    "for _, ax in enumerate(axes):\n",
    "    sns.countplot(x='Sentiment', data=subsets[_], ax=ax)\n",
    "    if (_ > 0):\n",
    "        ax.get_yaxis().set_visible(False)"
   ]
  },
  {
   "cell_type": "code",
   "execution_count": null,
   "metadata": {
    "id": "kkcnul4CuxUn",
    "executionInfo": {
     "status": "aborted",
     "timestamp": 1688893818191,
     "user_tz": -120,
     "elapsed": 10,
     "user": {
      "displayName": "Niklas Kormann",
      "userId": "03685805006922190005"
     }
    }
   },
   "outputs": [],
   "source": [
    "def balancing(dataset: pd.DataFrame, column_label: str):\n",
    "    \"\"\"\n",
    "    Funktion um einen Datensatz nach enthaltenen Labels zu balancen.\n",
    "    :param dataset: Dataset, das balanced werden soll.\n",
    "    :param column_label: Spalte in der sich die Labels befinden.\n",
    "    :return: Balanced dataset\n",
    "    \"\"\"\n",
    "    balanced_set = dataset\n",
    "    sentiment_groups = dataset[column_label].value_counts()\n",
    "    max_size = sentiment_groups.max()\n",
    "\n",
    "    for i in sentiment_groups.index.values:\n",
    "        ratio = int(max_size / sentiment_groups[i])\n",
    "\n",
    "        for j in range(int(ratio)+1):\n",
    "            current_size = balanced_set[column_label].value_counts()[i]\n",
    "            n = min([(max_size-current_size), sentiment_groups[i]])\n",
    "            balanced_set = pd.concat([balanced_set, dataset.loc[dataset[column_label] == i].sample(n=n)])\n",
    "\n",
    "    return balanced_set.sample(frac=1)"
   ]
  },
  {
   "cell_type": "code",
   "execution_count": null,
   "metadata": {
    "id": "XC_rCP0ruxUn",
    "executionInfo": {
     "status": "aborted",
     "timestamp": 1688893818192,
     "user_tz": -120,
     "elapsed": 10,
     "user": {
      "displayName": "Niklas Kormann",
      "userId": "03685805006922190005"
     }
    }
   },
   "outputs": [],
   "source": [
    "for i in range(len(subsets)):\n",
    "    subsets[i] = balancing(subsets[i], \"Sentiment\")\n",
    "\n",
    "fig, axes = plt.subplots(1, len(subsets), figsize=(12,3))\n",
    "for _, ax in enumerate(axes):\n",
    "    sns.countplot(x='Sentiment', data=subsets[_], ax=ax)\n",
    "    if (_ > 0):\n",
    "        ax.get_yaxis().set_visible(False)"
   ]
  },
  {
   "cell_type": "code",
   "execution_count": null,
   "metadata": {
    "id": "B6-6_mB2uxUo",
    "executionInfo": {
     "status": "aborted",
     "timestamp": 1688893818192,
     "user_tz": -120,
     "elapsed": 10,
     "user": {
      "displayName": "Niklas Kormann",
      "userId": "03685805006922190005"
     }
    }
   },
   "outputs": [],
   "source": [
    "SAVE_FILES = False\n",
    "\n",
    "# Zusammenfügen gesamttrainingsset\n",
    "trainset_complete = pd.concat(subsets[:6])\n",
    "\n",
    "dir_path = \"../data/dataset_am\"\n",
    "\n",
    "if SAVE_FILES:\n",
    "  save_dataset(subsets[0], \"Trainset_1.csv\", dir_path)\n",
    "  save_dataset(subsets[1], \"Trainset_2.csv\", dir_path)\n",
    "  save_dataset(subsets[2], \"Trainset_3.csv\", dir_path)\n",
    "  save_dataset(subsets[3], \"Trainset_4.csv\", dir_path)\n",
    "  save_dataset(subsets[4], \"Trainset_5.csv\", dir_path)\n",
    "  save_dataset(subsets[5], \"Trainset_6.csv\", dir_path)\n",
    "  save_dataset(trainset_complete, \"Trainset_complete.csv\", dir_path)\n",
    "  save_dataset(subsets[6], \"Evaluationset.csv\", dir_path)\n",
    "  save_dataset(subsets[7], \"Testset.csv\", dir_path)"
   ]
  }
 ],
 "metadata": {
  "colab": {
   "gpuType": "T4",
   "provenance": []
  },
  "kernelspec": {
   "display_name": "Python 3 (ipykernel)",
   "language": "python",
   "name": "python3"
  },
  "language_info": {
   "codemirror_mode": {
    "name": "ipython",
    "version": 3
   },
   "file_extension": ".py",
   "mimetype": "text/x-python",
   "name": "python",
   "nbconvert_exporter": "python",
   "pygments_lexer": "ipython3",
   "version": "3.10.11"
  }
 },
 "nbformat": 4,
 "nbformat_minor": 0
}
