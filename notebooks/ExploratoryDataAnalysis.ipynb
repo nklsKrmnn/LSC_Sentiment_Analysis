{
 "cells": [
  {
   "attachments": {},
   "cell_type": "markdown",
   "metadata": {
    "id": "view-in-github"
   },
   "source": [
    "<a href=\"https://colab.research.google.com/github/nklsKrmnn/LSC_Sentiment_Analysis/blob/main/Projekt_Colab.ipynb\" target=\"_parent\"><img src=\"https://colab.research.google.com/assets/colab-badge.svg\" alt=\"Open In Colab\"/></a>"
   ]
  },
  {
   "cell_type": "code",
   "execution_count": 65,
   "metadata": {
    "colab": {
     "base_uri": "https://localhost:8080/"
    },
    "executionInfo": {
     "elapsed": 15520,
     "status": "ok",
     "timestamp": 1686903785365,
     "user": {
      "displayName": "Niklas Kormann",
      "userId": "03685805006922190005"
     },
     "user_tz": -120
    },
    "id": "iJW4QklEpXV1",
    "outputId": "4095e3f7-4ce1-4290-b85d-d286679829b2"
   },
   "outputs": [],
   "source": [
    "#from google.colab import drive\n",
    "#drive.mount('/content/drive')"
   ]
  },
  {
   "cell_type": "code",
   "execution_count": 12,
   "metadata": {},
   "outputs": [
    {
     "name": "stderr",
     "output_type": "stream",
     "text": [
      "Der Befehl \"jt\" ist entweder falsch geschrieben oder\n",
      "konnte nicht gefunden werden.\n"
     ]
    }
   ],
   "source": [
    "!jt -l"
   ]
  },
  {
   "cell_type": "code",
   "execution_count": 13,
   "metadata": {},
   "outputs": [
    {
     "name": "stderr",
     "output_type": "stream",
     "text": [
      "Der Befehl \"jt\" ist entweder falsch geschrieben oder\n",
      "konnte nicht gefunden werden.\n"
     ]
    }
   ],
   "source": [
    "!jt -r"
   ]
  },
  {
   "attachments": {},
   "cell_type": "markdown",
   "metadata": {},
   "source": [
    "# 0. Imports"
   ]
  },
  {
   "cell_type": "code",
   "execution_count": 14,
   "metadata": {
    "colab": {
     "base_uri": "https://localhost:8080/",
     "height": 36
    },
    "executionInfo": {
     "elapsed": 6990,
     "status": "ok",
     "timestamp": 1686903759753,
     "user": {
      "displayName": "Niklas Kormann",
      "userId": "03685805006922190005"
     },
     "user_tz": -120
    },
    "id": "PTMNkLSmrmSQ",
    "outputId": "6e6f5518-6fbb-40a9-e1e8-3eb70ddddacb",
    "pycharm": {
     "is_executing": true
    }
   },
   "outputs": [],
   "source": [
    "import pandas as pd\n",
    "import numpy as np\n",
    "import matplotlib.pyplot as plt\n",
    "import seaborn as sns\n",
    "from sklearn import metrics\n",
    "import warnings\n",
    "\n",
    "warnings.filterwarnings(\"ignore\")\n"
   ]
  },
  {
   "attachments": {},
   "cell_type": "markdown",
   "metadata": {},
   "source": [
    "# 1. Dataset: Movie Reviews"
   ]
  },
  {
   "attachments": {},
   "cell_type": "markdown",
   "metadata": {},
   "source": []
  },
  {
   "cell_type": "code",
   "execution_count": 15,
   "metadata": {
    "executionInfo": {
     "elapsed": 568,
     "status": "ok",
     "timestamp": 1686903785930,
     "user": {
      "displayName": "Niklas Kormann",
      "userId": "03685805006922190005"
     },
     "user_tz": -120
    },
    "id": "SJXimWannode"
   },
   "outputs": [],
   "source": [
    "dataset_mr = pd.read_csv(\"../data/train.tsv\", sep='\\t')\n"
   ]
  },
  {
   "cell_type": "code",
   "execution_count": 16,
   "metadata": {
    "colab": {
     "base_uri": "https://localhost:8080/"
    },
    "executionInfo": {
     "elapsed": 300,
     "status": "ok",
     "timestamp": 1686903786226,
     "user": {
      "displayName": "Niklas Kormann",
      "userId": "03685805006922190005"
     },
     "user_tz": -120
    },
    "id": "I1kWn_q9TCFX",
    "outputId": "465cf25a-dd74-45ad-96ba-7f368eb82fd4"
   },
   "outputs": [
    {
     "name": "stdout",
     "output_type": "stream",
     "text": [
      "<class 'pandas.core.frame.DataFrame'>\n",
      "RangeIndex: 156060 entries, 0 to 156059\n",
      "Data columns (total 4 columns):\n",
      " #   Column      Non-Null Count   Dtype \n",
      "---  ------      --------------   ----- \n",
      " 0   PhraseId    156060 non-null  int64 \n",
      " 1   SentenceId  156060 non-null  int64 \n",
      " 2   Phrase      156060 non-null  object\n",
      " 3   Sentiment   156060 non-null  int64 \n",
      "dtypes: int64(3), object(1)\n",
      "memory usage: 4.8+ MB\n"
     ]
    }
   ],
   "source": [
    "dataset_mr.info()"
   ]
  },
  {
   "cell_type": "code",
   "execution_count": 17,
   "metadata": {
    "colab": {
     "base_uri": "https://localhost:8080/",
     "height": 300
    },
    "executionInfo": {
     "elapsed": 204,
     "status": "ok",
     "timestamp": 1686903935486,
     "user": {
      "displayName": "Niklas Kormann",
      "userId": "03685805006922190005"
     },
     "user_tz": -120
    },
    "id": "8QCP9DAuTw8d",
    "outputId": "82d04f6c-f98a-4521-9398-818307f6423c"
   },
   "outputs": [
    {
     "data": {
      "text/html": [
       "<div>\n",
       "<style scoped>\n",
       "    .dataframe tbody tr th:only-of-type {\n",
       "        vertical-align: middle;\n",
       "    }\n",
       "\n",
       "    .dataframe tbody tr th {\n",
       "        vertical-align: top;\n",
       "    }\n",
       "\n",
       "    .dataframe thead th {\n",
       "        text-align: right;\n",
       "    }\n",
       "</style>\n",
       "<table border=\"1\" class=\"dataframe\">\n",
       "  <thead>\n",
       "    <tr style=\"text-align: right;\">\n",
       "      <th></th>\n",
       "      <th>PhraseId</th>\n",
       "      <th>SentenceId</th>\n",
       "      <th>Sentiment</th>\n",
       "    </tr>\n",
       "  </thead>\n",
       "  <tbody>\n",
       "    <tr>\n",
       "      <th>count</th>\n",
       "      <td>156060.000000</td>\n",
       "      <td>156060.000000</td>\n",
       "      <td>156060.000000</td>\n",
       "    </tr>\n",
       "    <tr>\n",
       "      <th>mean</th>\n",
       "      <td>78030.500000</td>\n",
       "      <td>4079.732744</td>\n",
       "      <td>2.063578</td>\n",
       "    </tr>\n",
       "    <tr>\n",
       "      <th>std</th>\n",
       "      <td>45050.785842</td>\n",
       "      <td>2502.764394</td>\n",
       "      <td>0.893832</td>\n",
       "    </tr>\n",
       "    <tr>\n",
       "      <th>min</th>\n",
       "      <td>1.000000</td>\n",
       "      <td>1.000000</td>\n",
       "      <td>0.000000</td>\n",
       "    </tr>\n",
       "    <tr>\n",
       "      <th>25%</th>\n",
       "      <td>39015.750000</td>\n",
       "      <td>1861.750000</td>\n",
       "      <td>2.000000</td>\n",
       "    </tr>\n",
       "    <tr>\n",
       "      <th>50%</th>\n",
       "      <td>78030.500000</td>\n",
       "      <td>4017.000000</td>\n",
       "      <td>2.000000</td>\n",
       "    </tr>\n",
       "    <tr>\n",
       "      <th>75%</th>\n",
       "      <td>117045.250000</td>\n",
       "      <td>6244.000000</td>\n",
       "      <td>3.000000</td>\n",
       "    </tr>\n",
       "    <tr>\n",
       "      <th>max</th>\n",
       "      <td>156060.000000</td>\n",
       "      <td>8544.000000</td>\n",
       "      <td>4.000000</td>\n",
       "    </tr>\n",
       "  </tbody>\n",
       "</table>\n",
       "</div>"
      ],
      "text/plain": [
       "            PhraseId     SentenceId      Sentiment\n",
       "count  156060.000000  156060.000000  156060.000000\n",
       "mean    78030.500000    4079.732744       2.063578\n",
       "std     45050.785842    2502.764394       0.893832\n",
       "min         1.000000       1.000000       0.000000\n",
       "25%     39015.750000    1861.750000       2.000000\n",
       "50%     78030.500000    4017.000000       2.000000\n",
       "75%    117045.250000    6244.000000       3.000000\n",
       "max    156060.000000    8544.000000       4.000000"
      ]
     },
     "execution_count": 17,
     "metadata": {},
     "output_type": "execute_result"
    }
   ],
   "source": [
    "dataset_mr.describe()"
   ]
  },
  {
   "cell_type": "code",
   "execution_count": 18,
   "metadata": {
    "colab": {
     "base_uri": "https://localhost:8080/",
     "height": 363
    },
    "executionInfo": {
     "elapsed": 226,
     "status": "ok",
     "timestamp": 1686904659368,
     "user": {
      "displayName": "Niklas Kormann",
      "userId": "03685805006922190005"
     },
     "user_tz": -120
    },
    "id": "rjuVeULLTCTK",
    "outputId": "05aef360-3e37-4dbb-8108-b2fe26760583"
   },
   "outputs": [
    {
     "data": {
      "text/html": [
       "<div>\n",
       "<style scoped>\n",
       "    .dataframe tbody tr th:only-of-type {\n",
       "        vertical-align: middle;\n",
       "    }\n",
       "\n",
       "    .dataframe tbody tr th {\n",
       "        vertical-align: top;\n",
       "    }\n",
       "\n",
       "    .dataframe thead th {\n",
       "        text-align: right;\n",
       "    }\n",
       "</style>\n",
       "<table border=\"1\" class=\"dataframe\">\n",
       "  <thead>\n",
       "    <tr style=\"text-align: right;\">\n",
       "      <th></th>\n",
       "      <th>PhraseId</th>\n",
       "      <th>SentenceId</th>\n",
       "      <th>Phrase</th>\n",
       "      <th>Sentiment</th>\n",
       "    </tr>\n",
       "  </thead>\n",
       "  <tbody>\n",
       "    <tr>\n",
       "      <th>0</th>\n",
       "      <td>1</td>\n",
       "      <td>1</td>\n",
       "      <td>A series of escapades demonstrating the adage that what is good for the goose is also good for the gander , some of which occasionally amuses but none of which amounts to much of a story .</td>\n",
       "      <td>1</td>\n",
       "    </tr>\n",
       "    <tr>\n",
       "      <th>1</th>\n",
       "      <td>2</td>\n",
       "      <td>1</td>\n",
       "      <td>A series of escapades demonstrating the adage that what is good for the goose</td>\n",
       "      <td>2</td>\n",
       "    </tr>\n",
       "    <tr>\n",
       "      <th>2</th>\n",
       "      <td>3</td>\n",
       "      <td>1</td>\n",
       "      <td>A series</td>\n",
       "      <td>2</td>\n",
       "    </tr>\n",
       "    <tr>\n",
       "      <th>3</th>\n",
       "      <td>4</td>\n",
       "      <td>1</td>\n",
       "      <td>A</td>\n",
       "      <td>2</td>\n",
       "    </tr>\n",
       "    <tr>\n",
       "      <th>4</th>\n",
       "      <td>5</td>\n",
       "      <td>1</td>\n",
       "      <td>series</td>\n",
       "      <td>2</td>\n",
       "    </tr>\n",
       "    <tr>\n",
       "      <th>5</th>\n",
       "      <td>6</td>\n",
       "      <td>1</td>\n",
       "      <td>of escapades demonstrating the adage that what is good for the goose</td>\n",
       "      <td>2</td>\n",
       "    </tr>\n",
       "    <tr>\n",
       "      <th>6</th>\n",
       "      <td>7</td>\n",
       "      <td>1</td>\n",
       "      <td>of</td>\n",
       "      <td>2</td>\n",
       "    </tr>\n",
       "    <tr>\n",
       "      <th>7</th>\n",
       "      <td>8</td>\n",
       "      <td>1</td>\n",
       "      <td>escapades demonstrating the adage that what is good for the goose</td>\n",
       "      <td>2</td>\n",
       "    </tr>\n",
       "    <tr>\n",
       "      <th>8</th>\n",
       "      <td>9</td>\n",
       "      <td>1</td>\n",
       "      <td>escapades</td>\n",
       "      <td>2</td>\n",
       "    </tr>\n",
       "    <tr>\n",
       "      <th>9</th>\n",
       "      <td>10</td>\n",
       "      <td>1</td>\n",
       "      <td>demonstrating the adage that what is good for the goose</td>\n",
       "      <td>2</td>\n",
       "    </tr>\n",
       "  </tbody>\n",
       "</table>\n",
       "</div>"
      ],
      "text/plain": [
       "   PhraseId  SentenceId  \\\n",
       "0         1           1   \n",
       "1         2           1   \n",
       "2         3           1   \n",
       "3         4           1   \n",
       "4         5           1   \n",
       "5         6           1   \n",
       "6         7           1   \n",
       "7         8           1   \n",
       "8         9           1   \n",
       "9        10           1   \n",
       "\n",
       "                                                                                                                                                                                         Phrase  \\\n",
       "0  A series of escapades demonstrating the adage that what is good for the goose is also good for the gander , some of which occasionally amuses but none of which amounts to much of a story .   \n",
       "1                                                                                                                 A series of escapades demonstrating the adage that what is good for the goose   \n",
       "2                                                                                                                                                                                      A series   \n",
       "3                                                                                                                                                                                             A   \n",
       "4                                                                                                                                                                                        series   \n",
       "5                                                                                                                          of escapades demonstrating the adage that what is good for the goose   \n",
       "6                                                                                                                                                                                            of   \n",
       "7                                                                                                                             escapades demonstrating the adage that what is good for the goose   \n",
       "8                                                                                                                                                                                     escapades   \n",
       "9                                                                                                                                       demonstrating the adage that what is good for the goose   \n",
       "\n",
       "   Sentiment  \n",
       "0          1  \n",
       "1          2  \n",
       "2          2  \n",
       "3          2  \n",
       "4          2  \n",
       "5          2  \n",
       "6          2  \n",
       "7          2  \n",
       "8          2  \n",
       "9          2  "
      ]
     },
     "execution_count": 18,
     "metadata": {},
     "output_type": "execute_result"
    }
   ],
   "source": [
    "pd.set_option('display.max_colwidth', None)\n",
    "dataset_mr.head(10)"
   ]
  },
  {
   "cell_type": "code",
   "execution_count": 19,
   "metadata": {
    "colab": {
     "base_uri": "https://localhost:8080/",
     "height": 467
    },
    "executionInfo": {
     "elapsed": 1200,
     "status": "ok",
     "timestamp": 1686601720649,
     "user": {
      "displayName": "Niklas Kormann",
      "userId": "03685805006922190005"
     },
     "user_tz": -120
    },
    "id": "m9zOH97Hnodh",
    "outputId": "a1e37d6e-f62b-4686-db0e-6dd23dd59cef"
   },
   "outputs": [
    {
     "data": {
      "text/plain": [
       "<Axes: xlabel='Sentiment', ylabel='count'>"
      ]
     },
     "execution_count": 19,
     "metadata": {},
     "output_type": "execute_result"
    },
    {
     "data": {
      "image/png": "[encoded data removed]",
      "text/plain": [
       "<Figure size 640x480 with 1 Axes>"
      ]
     },
     "metadata": {},
     "output_type": "display_data"
    }
   ],
   "source": [
    "sns.countplot(x='Sentiment', data=dataset_mr)\n",
    "# TODO: Beschriftungen & Schlussfolgerung"
   ]
  },
  {
   "cell_type": "code",
   "execution_count": 20,
   "metadata": {
    "colab": {
     "base_uri": "https://localhost:8080/",
     "height": 206
    },
    "executionInfo": {
     "elapsed": 5,
     "status": "ok",
     "timestamp": 1686601720650,
     "user": {
      "displayName": "Niklas Kormann",
      "userId": "03685805006922190005"
     },
     "user_tz": -120
    },
    "id": "vILO6dgInodh",
    "outputId": "3d83acfb-55a7-4397-b692-0c7eec39316a"
   },
   "outputs": [
    {
     "data": {
      "text/html": [
       "<div>\n",
       "<style scoped>\n",
       "    .dataframe tbody tr th:only-of-type {\n",
       "        vertical-align: middle;\n",
       "    }\n",
       "\n",
       "    .dataframe tbody tr th {\n",
       "        vertical-align: top;\n",
       "    }\n",
       "\n",
       "    .dataframe thead th {\n",
       "        text-align: right;\n",
       "    }\n",
       "</style>\n",
       "<table border=\"1\" class=\"dataframe\">\n",
       "  <thead>\n",
       "    <tr style=\"text-align: right;\">\n",
       "      <th></th>\n",
       "      <th>SentenceId</th>\n",
       "      <th>PhraseId</th>\n",
       "      <th>Phrase</th>\n",
       "      <th>Sentiment</th>\n",
       "    </tr>\n",
       "  </thead>\n",
       "  <tbody>\n",
       "    <tr>\n",
       "      <th>0</th>\n",
       "      <td>1</td>\n",
       "      <td>1</td>\n",
       "      <td>A series of escapades demonstrating the adage that what is good for the goose is also good for the gander , some of which occasionally amuses but none of which amounts to much of a story .</td>\n",
       "      <td>1</td>\n",
       "    </tr>\n",
       "    <tr>\n",
       "      <th>1</th>\n",
       "      <td>2</td>\n",
       "      <td>64</td>\n",
       "      <td>This quiet , introspective and entertaining independent is worth seeking .</td>\n",
       "      <td>4</td>\n",
       "    </tr>\n",
       "    <tr>\n",
       "      <th>2</th>\n",
       "      <td>3</td>\n",
       "      <td>82</td>\n",
       "      <td>Even fans of Ismail Merchant 's work , I suspect , would have a hard time sitting through this one .</td>\n",
       "      <td>1</td>\n",
       "    </tr>\n",
       "    <tr>\n",
       "      <th>3</th>\n",
       "      <td>4</td>\n",
       "      <td>117</td>\n",
       "      <td>A positively thrilling combination of ethnography and all the intrigue , betrayal , deceit and murder of a Shakespearean tragedy or a juicy soap opera .</td>\n",
       "      <td>3</td>\n",
       "    </tr>\n",
       "    <tr>\n",
       "      <th>4</th>\n",
       "      <td>5</td>\n",
       "      <td>157</td>\n",
       "      <td>Aggressive self-glorification and a manipulative whitewash .</td>\n",
       "      <td>1</td>\n",
       "    </tr>\n",
       "  </tbody>\n",
       "</table>\n",
       "</div>"
      ],
      "text/plain": [
       "   SentenceId  PhraseId  \\\n",
       "0           1         1   \n",
       "1           2        64   \n",
       "2           3        82   \n",
       "3           4       117   \n",
       "4           5       157   \n",
       "\n",
       "                                                                                                                                                                                         Phrase  \\\n",
       "0  A series of escapades demonstrating the adage that what is good for the goose is also good for the gander , some of which occasionally amuses but none of which amounts to much of a story .   \n",
       "1                                                                                                                    This quiet , introspective and entertaining independent is worth seeking .   \n",
       "2                                                                                          Even fans of Ismail Merchant 's work , I suspect , would have a hard time sitting through this one .   \n",
       "3                                      A positively thrilling combination of ethnography and all the intrigue , betrayal , deceit and murder of a Shakespearean tragedy or a juicy soap opera .   \n",
       "4                                                                                                                                  Aggressive self-glorification and a manipulative whitewash .   \n",
       "\n",
       "   Sentiment  \n",
       "0          1  \n",
       "1          4  \n",
       "2          1  \n",
       "3          3  \n",
       "4          1  "
      ]
     },
     "execution_count": 20,
     "metadata": {},
     "output_type": "execute_result"
    }
   ],
   "source": [
    "dataset_mr_full_senences = dataset_mr.groupby('SentenceId').first().reset_index()\n",
    "dataset_mr_full_senences.head(5)"
   ]
  },
  {
   "cell_type": "code",
   "execution_count": 21,
   "metadata": {
    "colab": {
     "base_uri": "https://localhost:8080/",
     "height": 467
    },
    "executionInfo": {
     "elapsed": 952,
     "status": "ok",
     "timestamp": 1686601721597,
     "user": {
      "displayName": "Niklas Kormann",
      "userId": "03685805006922190005"
     },
     "user_tz": -120
    },
    "id": "PChSrNF5nodi",
    "outputId": "41f1fdf1-8342-4edf-d34c-9c4045db8077",
    "scrolled": false
   },
   "outputs": [
    {
     "data": {
      "text/plain": [
       "<Axes: xlabel='Sentiment', ylabel='count'>"
      ]
     },
     "execution_count": 21,
     "metadata": {},
     "output_type": "execute_result"
    },
    {
     "data": {
      "image/png": "[encoded data removed]",
      "text/plain": [
       "<Figure size 640x480 with 1 Axes>"
      ]
     },
     "metadata": {},
     "output_type": "display_data"
    }
   ],
   "source": [
    "sns.countplot(x='Sentiment', data=dataset_mr_full_senences)\n",
    "# --> besser"
   ]
  },
  {
   "cell_type": "code",
   "execution_count": 22,
   "metadata": {},
   "outputs": [
    {
     "data": {
      "text/html": [
       "<div>\n",
       "<style scoped>\n",
       "    .dataframe tbody tr th:only-of-type {\n",
       "        vertical-align: middle;\n",
       "    }\n",
       "\n",
       "    .dataframe tbody tr th {\n",
       "        vertical-align: top;\n",
       "    }\n",
       "\n",
       "    .dataframe thead th {\n",
       "        text-align: right;\n",
       "    }\n",
       "</style>\n",
       "<table border=\"1\" class=\"dataframe\">\n",
       "  <thead>\n",
       "    <tr style=\"text-align: right;\">\n",
       "      <th></th>\n",
       "      <th>SentenceId</th>\n",
       "      <th>PhraseId</th>\n",
       "      <th>Phrase</th>\n",
       "      <th>Sentiment</th>\n",
       "    </tr>\n",
       "  </thead>\n",
       "  <tbody>\n",
       "    <tr>\n",
       "      <th>0</th>\n",
       "      <td>1</td>\n",
       "      <td>1</td>\n",
       "      <td>A series of escapades demonstrating the adage that what is good for the goose is also good for the gander , some of which occasionally amuses but none of which amounts to much of a story .</td>\n",
       "      <td>-1</td>\n",
       "    </tr>\n",
       "    <tr>\n",
       "      <th>1</th>\n",
       "      <td>2</td>\n",
       "      <td>64</td>\n",
       "      <td>This quiet , introspective and entertaining independent is worth seeking .</td>\n",
       "      <td>1</td>\n",
       "    </tr>\n",
       "    <tr>\n",
       "      <th>2</th>\n",
       "      <td>3</td>\n",
       "      <td>82</td>\n",
       "      <td>Even fans of Ismail Merchant 's work , I suspect , would have a hard time sitting through this one .</td>\n",
       "      <td>-1</td>\n",
       "    </tr>\n",
       "    <tr>\n",
       "      <th>3</th>\n",
       "      <td>4</td>\n",
       "      <td>117</td>\n",
       "      <td>A positively thrilling combination of ethnography and all the intrigue , betrayal , deceit and murder of a Shakespearean tragedy or a juicy soap opera .</td>\n",
       "      <td>1</td>\n",
       "    </tr>\n",
       "    <tr>\n",
       "      <th>4</th>\n",
       "      <td>5</td>\n",
       "      <td>157</td>\n",
       "      <td>Aggressive self-glorification and a manipulative whitewash .</td>\n",
       "      <td>-1</td>\n",
       "    </tr>\n",
       "  </tbody>\n",
       "</table>\n",
       "</div>"
      ],
      "text/plain": [
       "   SentenceId  PhraseId  \\\n",
       "0           1         1   \n",
       "1           2        64   \n",
       "2           3        82   \n",
       "3           4       117   \n",
       "4           5       157   \n",
       "\n",
       "                                                                                                                                                                                         Phrase  \\\n",
       "0  A series of escapades demonstrating the adage that what is good for the goose is also good for the gander , some of which occasionally amuses but none of which amounts to much of a story .   \n",
       "1                                                                                                                    This quiet , introspective and entertaining independent is worth seeking .   \n",
       "2                                                                                          Even fans of Ismail Merchant 's work , I suspect , would have a hard time sitting through this one .   \n",
       "3                                      A positively thrilling combination of ethnography and all the intrigue , betrayal , deceit and murder of a Shakespearean tragedy or a juicy soap opera .   \n",
       "4                                                                                                                                  Aggressive self-glorification and a manipulative whitewash .   \n",
       "\n",
       "   Sentiment  \n",
       "0         -1  \n",
       "1          1  \n",
       "2         -1  \n",
       "3          1  \n",
       "4         -1  "
      ]
     },
     "execution_count": 22,
     "metadata": {},
     "output_type": "execute_result"
    }
   ],
   "source": [
    "value_mapping = {0: -1, 1: -1, 2: 0, 3: 1, 4: 1}\n",
    "dataset_mr_relabled = dataset_mr_full_senences\n",
    "dataset_mr_relabled['Sentiment'] = dataset_mr_relabled['Sentiment'].map(value_mapping)\n",
    "dataset_mr_relabled.head()"
   ]
  },
  {
   "cell_type": "code",
   "execution_count": 23,
   "metadata": {},
   "outputs": [],
   "source": [
    "def dataset_split(dataset: pd.DataFrame, n: int):\n",
    "    \"\"\"\n",
    "    Funktion, um ein dataset in mehrere gleichgroße Datasets zu splitte\n",
    "    :param dataset: dataset, das gesplittet werden soll\n",
    "    :param n: Anzahl der Subset, in die gesplittet werden soll\n",
    "    :return: Subsets\n",
    "    \"\"\"\n",
    "    set_size = dataset.shape[0]/n\n",
    "    subsets = []\n",
    "    for _ in range(8):\n",
    "        subsets.append(dataset.loc[_*set_size:(_+1)*set_size, :])\n",
    "    return subsets\n"
   ]
  },
  {
   "cell_type": "code",
   "execution_count": 24,
   "metadata": {},
   "outputs": [],
   "source": [
    "def balancing(dataset: pd.DataFrame, column_label: str):\n",
    "    \"\"\"\n",
    "    Funktion um einen Datensatz nach enthaltenen Labels zu balancen.\n",
    "    :param dataset: Dataset, das balanced werden soll.\n",
    "    :param column_label: Spalte in der sich die Labels befinden.\n",
    "    :return: Balanced dataset\n",
    "    \"\"\"\n",
    "    balanced_set = dataset\n",
    "    sentiment_groups = dataset[column_label].value_counts()\n",
    "    max_size = sentiment_groups.max()\n",
    "\n",
    "    for i in sentiment_groups.index.values:\n",
    "        ratio = int(max_size / sentiment_groups[i])\n",
    "        \n",
    "        for j in range(int(ratio)+1):\n",
    "            current_size = balanced_set[column_label].value_counts()[i]\n",
    "            n = min([(max_size-current_size), sentiment_groups[i]])\n",
    "            balanced_set = pd.concat([balanced_set, dataset.loc[dataset[column_label] == i].sample(n=n)])\n",
    "    \n",
    "    return balanced_set.sample(frac=1)"
   ]
  },
  {
   "cell_type": "code",
   "execution_count": 25,
   "metadata": {
    "pycharm": {
     "is_executing": true
    }
   },
   "outputs": [],
   "source": [
    "def save_dataset(dataset, name, path):\n",
    "    \"\"\"\n",
    "    Speichert ein pandas DataFrame als csv\n",
    "    :param dataset: pandas DataFrame\n",
    "    :param name: Name des csv-files\n",
    "    :param path: Pfand zum Ordner, wo das csv-file gespeichert werden soll\n",
    "    :return: None\n",
    "    \"\"\"\n",
    "    file_path = path + \"/\"+ name\n",
    "    dataset.to_csv(path_or_buf=file_path, sep=\";\")"
   ]
  },
  {
   "cell_type": "code",
   "execution_count": 26,
   "metadata": {
    "scrolled": true
   },
   "outputs": [
    {
     "data": {
      "image/png": "[encoded data removed]",
      "text/plain": [
       "<Figure size 1200x300 with 8 Axes>"
      ]
     },
     "metadata": {},
     "output_type": "display_data"
    }
   ],
   "source": [
    "subsets = dataset_split(dataset_mr_relabled, 8)\n",
    "\n",
    "fig, axes = plt.subplots(1, len(subsets), figsize=(12,3))\n",
    "for _, ax in enumerate(axes):\n",
    "    sns.countplot(x='Sentiment', data=subsets[_], ax=ax)\n",
    "    if (_ > 0):\n",
    "        ax.get_yaxis().set_visible(False)"
   ]
  },
  {
   "cell_type": "code",
   "execution_count": 27,
   "metadata": {},
   "outputs": [
    {
     "data": {
      "image/png": "[encoded data removed]",
      "text/plain": [
       "<Figure size 1200x300 with 8 Axes>"
      ]
     },
     "metadata": {},
     "output_type": "display_data"
    }
   ],
   "source": [
    "for i in range(len(subsets)):\n",
    "    subsets[i] = balancing(subsets[i], \"Sentiment\")\n",
    "    \n",
    "fig, axes = plt.subplots(1, len(subsets), figsize=(12,3))\n",
    "for _, ax in enumerate(axes):\n",
    "    sns.countplot(x='Sentiment', data=subsets[_], ax=ax)\n",
    "    if (_ > 0):\n",
    "        ax.get_yaxis().set_visible(False)"
   ]
  },
  {
   "cell_type": "code",
   "execution_count": 28,
   "metadata": {},
   "outputs": [],
   "source": [
    "# Zusammenfügen gesamttrainingsset\n",
    "trainset_complete = pd.concat(subsets[:6])\n",
    "\n",
    "dir_path = \"../data/datasets_mr\"\n",
    "\n",
    "save_dataset(subsets[0], \"Trainset_1.csv\", dir_path)\n",
    "save_dataset(subsets[1], \"Trainset_2.csv\", dir_path)\n",
    "save_dataset(subsets[2], \"Trainset_3.csv\", dir_path)\n",
    "save_dataset(subsets[3], \"Trainset_4.csv\", dir_path)\n",
    "save_dataset(subsets[4], \"Trainset_5.csv\", dir_path)\n",
    "save_dataset(subsets[5], \"Trainset_6.csv\", dir_path)\n",
    "save_dataset(trainset_complete, \"Trainset_complete.csv\", dir_path)\n",
    "save_dataset(subsets[6], \"Evaluationset.csv\", dir_path)\n",
    "save_dataset(subsets[7], \"Testset.csv\", dir_path)"
   ]
  },
  {
   "cell_type": "code",
   "execution_count": null,
   "metadata": {},
   "outputs": [],
   "source": [
    "# TODO: (Niklas): Amazon dataset https://www.kaggle.com/datasets/751487ccef508fca5ede15ba1cf2b7e44edbc763fb91cb5d26fd6c28ddd87d91"
   ]
  },
  {
   "cell_type": "code",
   "execution_count": null,
   "metadata": {},
   "outputs": [],
   "source": [
    "# TODO: (Eira): Tweets dataset https://www.kaggle.com/datasets/kazanova/sentiment140 (done)"
   ]
  },
  {
   "attachments": {},
   "cell_type": "markdown",
   "metadata": {},
   "source": [
    "# 1. Dataset: Tweets"
   ]
  },
  {
   "cell_type": "code",
   "execution_count": 26,
   "metadata": {},
   "outputs": [],
   "source": [
    "import sklearn\n",
    "import pandas as pd\n",
    "import seaborn as sns\n",
    "import matplotlib.pyplot as plt"
   ]
  },
  {
   "cell_type": "code",
   "execution_count": 27,
   "metadata": {},
   "outputs": [],
   "source": [
    "with open(\"../data/tweets.csv\") as csvdatei:\n",
    "    dataset_tw = pd.read_csv(csvdatei, delimiter=',')"
   ]
  },
  {
   "cell_type": "code",
   "execution_count": 28,
   "metadata": {},
   "outputs": [
    {
     "name": "stdout",
     "output_type": "stream",
     "text": [
      "<class 'pandas.core.frame.DataFrame'>\n",
      "RangeIndex: 1599999 entries, 0 to 1599998\n",
      "Data columns (total 6 columns):\n",
      " #   Column                                                                                                               Non-Null Count    Dtype \n",
      "---  ------                                                                                                               --------------    ----- \n",
      " 0   0                                                                                                                    1599999 non-null  int64 \n",
      " 1   1467810369                                                                                                           1599999 non-null  int64 \n",
      " 2   Mon Apr 06 22:19:45 PDT 2009                                                                                         1599999 non-null  object\n",
      " 3   NO_QUERY                                                                                                             1599999 non-null  object\n",
      " 4   _TheSpecialOne_                                                                                                      1599999 non-null  object\n",
      " 5   @switchfoot http://twitpic.com/2y1zl - Awww, that's a bummer.  You shoulda got David Carr of Third Day to do it. ;D  1599999 non-null  object\n",
      "dtypes: int64(2), object(4)\n",
      "memory usage: 73.2+ MB\n"
     ]
    }
   ],
   "source": [
    "dataset_tw.info()"
   ]
  },
  {
   "cell_type": "code",
   "execution_count": 29,
   "metadata": {},
   "outputs": [
    {
     "data": {
      "text/html": [
       "<div>\n",
       "<style scoped>\n",
       "    .dataframe tbody tr th:only-of-type {\n",
       "        vertical-align: middle;\n",
       "    }\n",
       "\n",
       "    .dataframe tbody tr th {\n",
       "        vertical-align: top;\n",
       "    }\n",
       "\n",
       "    .dataframe thead th {\n",
       "        text-align: right;\n",
       "    }\n",
       "</style>\n",
       "<table border=\"1\" class=\"dataframe\">\n",
       "  <thead>\n",
       "    <tr style=\"text-align: right;\">\n",
       "      <th></th>\n",
       "      <th>0</th>\n",
       "      <th>1467810369</th>\n",
       "    </tr>\n",
       "  </thead>\n",
       "  <tbody>\n",
       "    <tr>\n",
       "      <th>count</th>\n",
       "      <td>1.599999e+06</td>\n",
       "      <td>1.599999e+06</td>\n",
       "    </tr>\n",
       "    <tr>\n",
       "      <th>mean</th>\n",
       "      <td>2.000001e+00</td>\n",
       "      <td>1.998818e+09</td>\n",
       "    </tr>\n",
       "    <tr>\n",
       "      <th>std</th>\n",
       "      <td>2.000001e+00</td>\n",
       "      <td>1.935757e+08</td>\n",
       "    </tr>\n",
       "    <tr>\n",
       "      <th>min</th>\n",
       "      <td>0.000000e+00</td>\n",
       "      <td>1.467811e+09</td>\n",
       "    </tr>\n",
       "    <tr>\n",
       "      <th>25%</th>\n",
       "      <td>0.000000e+00</td>\n",
       "      <td>1.956916e+09</td>\n",
       "    </tr>\n",
       "    <tr>\n",
       "      <th>50%</th>\n",
       "      <td>4.000000e+00</td>\n",
       "      <td>2.002102e+09</td>\n",
       "    </tr>\n",
       "    <tr>\n",
       "      <th>75%</th>\n",
       "      <td>4.000000e+00</td>\n",
       "      <td>2.177059e+09</td>\n",
       "    </tr>\n",
       "    <tr>\n",
       "      <th>max</th>\n",
       "      <td>4.000000e+00</td>\n",
       "      <td>2.329206e+09</td>\n",
       "    </tr>\n",
       "  </tbody>\n",
       "</table>\n",
       "</div>"
      ],
      "text/plain": [
       "                  0    1467810369\n",
       "count  1.599999e+06  1.599999e+06\n",
       "mean   2.000001e+00  1.998818e+09\n",
       "std    2.000001e+00  1.935757e+08\n",
       "min    0.000000e+00  1.467811e+09\n",
       "25%    0.000000e+00  1.956916e+09\n",
       "50%    4.000000e+00  2.002102e+09\n",
       "75%    4.000000e+00  2.177059e+09\n",
       "max    4.000000e+00  2.329206e+09"
      ]
     },
     "execution_count": 29,
     "metadata": {},
     "output_type": "execute_result"
    }
   ],
   "source": [
    "dataset_tw.describe()"
   ]
  },
  {
   "cell_type": "code",
   "execution_count": 30,
   "metadata": {},
   "outputs": [
    {
     "data": {
      "text/html": [
       "<div>\n",
       "<style scoped>\n",
       "    .dataframe tbody tr th:only-of-type {\n",
       "        vertical-align: middle;\n",
       "    }\n",
       "\n",
       "    .dataframe tbody tr th {\n",
       "        vertical-align: top;\n",
       "    }\n",
       "\n",
       "    .dataframe thead th {\n",
       "        text-align: right;\n",
       "    }\n",
       "</style>\n",
       "<table border=\"1\" class=\"dataframe\">\n",
       "  <thead>\n",
       "    <tr style=\"text-align: right;\">\n",
       "      <th></th>\n",
       "      <th>0</th>\n",
       "      <th>1467810369</th>\n",
       "      <th>Mon Apr 06 22:19:45 PDT 2009</th>\n",
       "      <th>NO_QUERY</th>\n",
       "      <th>_TheSpecialOne_</th>\n",
       "      <th>@switchfoot http://twitpic.com/2y1zl - Awww, that's a bummer.  You shoulda got David Carr of Third Day to do it. ;D</th>\n",
       "    </tr>\n",
       "  </thead>\n",
       "  <tbody>\n",
       "    <tr>\n",
       "      <th>0</th>\n",
       "      <td>0</td>\n",
       "      <td>1467810672</td>\n",
       "      <td>Mon Apr 06 22:19:49 PDT 2009</td>\n",
       "      <td>NO_QUERY</td>\n",
       "      <td>scotthamilton</td>\n",
       "      <td>is upset that he can't update his Facebook by texting it... and might cry as a result  School today also. Blah!</td>\n",
       "    </tr>\n",
       "    <tr>\n",
       "      <th>1</th>\n",
       "      <td>0</td>\n",
       "      <td>1467810917</td>\n",
       "      <td>Mon Apr 06 22:19:53 PDT 2009</td>\n",
       "      <td>NO_QUERY</td>\n",
       "      <td>mattycus</td>\n",
       "      <td>@Kenichan I dived many times for the ball. Managed to save 50%  The rest go out of bounds</td>\n",
       "    </tr>\n",
       "    <tr>\n",
       "      <th>2</th>\n",
       "      <td>0</td>\n",
       "      <td>1467811184</td>\n",
       "      <td>Mon Apr 06 22:19:57 PDT 2009</td>\n",
       "      <td>NO_QUERY</td>\n",
       "      <td>ElleCTF</td>\n",
       "      <td>my whole body feels itchy and like its on fire</td>\n",
       "    </tr>\n",
       "    <tr>\n",
       "      <th>3</th>\n",
       "      <td>0</td>\n",
       "      <td>1467811193</td>\n",
       "      <td>Mon Apr 06 22:19:57 PDT 2009</td>\n",
       "      <td>NO_QUERY</td>\n",
       "      <td>Karoli</td>\n",
       "      <td>@nationwideclass no, it's not behaving at all. i'm mad. why am i here? because I can't see you all over there.</td>\n",
       "    </tr>\n",
       "    <tr>\n",
       "      <th>4</th>\n",
       "      <td>0</td>\n",
       "      <td>1467811372</td>\n",
       "      <td>Mon Apr 06 22:20:00 PDT 2009</td>\n",
       "      <td>NO_QUERY</td>\n",
       "      <td>joy_wolf</td>\n",
       "      <td>@Kwesidei not the whole crew</td>\n",
       "    </tr>\n",
       "    <tr>\n",
       "      <th>5</th>\n",
       "      <td>0</td>\n",
       "      <td>1467811592</td>\n",
       "      <td>Mon Apr 06 22:20:03 PDT 2009</td>\n",
       "      <td>NO_QUERY</td>\n",
       "      <td>mybirch</td>\n",
       "      <td>Need a hug</td>\n",
       "    </tr>\n",
       "    <tr>\n",
       "      <th>6</th>\n",
       "      <td>0</td>\n",
       "      <td>1467811594</td>\n",
       "      <td>Mon Apr 06 22:20:03 PDT 2009</td>\n",
       "      <td>NO_QUERY</td>\n",
       "      <td>coZZ</td>\n",
       "      <td>@LOLTrish hey  long time no see! Yes.. Rains a bit ,only a bit  LOL , I'm fine thanks , how's you ?</td>\n",
       "    </tr>\n",
       "    <tr>\n",
       "      <th>7</th>\n",
       "      <td>0</td>\n",
       "      <td>1467811795</td>\n",
       "      <td>Mon Apr 06 22:20:05 PDT 2009</td>\n",
       "      <td>NO_QUERY</td>\n",
       "      <td>2Hood4Hollywood</td>\n",
       "      <td>@Tatiana_K nope they didn't have it</td>\n",
       "    </tr>\n",
       "    <tr>\n",
       "      <th>8</th>\n",
       "      <td>0</td>\n",
       "      <td>1467812025</td>\n",
       "      <td>Mon Apr 06 22:20:09 PDT 2009</td>\n",
       "      <td>NO_QUERY</td>\n",
       "      <td>mimismo</td>\n",
       "      <td>@twittera que me muera ?</td>\n",
       "    </tr>\n",
       "    <tr>\n",
       "      <th>9</th>\n",
       "      <td>0</td>\n",
       "      <td>1467812416</td>\n",
       "      <td>Mon Apr 06 22:20:16 PDT 2009</td>\n",
       "      <td>NO_QUERY</td>\n",
       "      <td>erinx3leannexo</td>\n",
       "      <td>spring break in plain city... it's snowing</td>\n",
       "    </tr>\n",
       "  </tbody>\n",
       "</table>\n",
       "</div>"
      ],
      "text/plain": [
       "   0  1467810369  Mon Apr 06 22:19:45 PDT 2009  NO_QUERY  _TheSpecialOne_  \\\n",
       "0  0  1467810672  Mon Apr 06 22:19:49 PDT 2009  NO_QUERY    scotthamilton   \n",
       "1  0  1467810917  Mon Apr 06 22:19:53 PDT 2009  NO_QUERY         mattycus   \n",
       "2  0  1467811184  Mon Apr 06 22:19:57 PDT 2009  NO_QUERY          ElleCTF   \n",
       "3  0  1467811193  Mon Apr 06 22:19:57 PDT 2009  NO_QUERY           Karoli   \n",
       "4  0  1467811372  Mon Apr 06 22:20:00 PDT 2009  NO_QUERY         joy_wolf   \n",
       "5  0  1467811592  Mon Apr 06 22:20:03 PDT 2009  NO_QUERY          mybirch   \n",
       "6  0  1467811594  Mon Apr 06 22:20:03 PDT 2009  NO_QUERY             coZZ   \n",
       "7  0  1467811795  Mon Apr 06 22:20:05 PDT 2009  NO_QUERY  2Hood4Hollywood   \n",
       "8  0  1467812025  Mon Apr 06 22:20:09 PDT 2009  NO_QUERY          mimismo   \n",
       "9  0  1467812416  Mon Apr 06 22:20:16 PDT 2009  NO_QUERY   erinx3leannexo   \n",
       "\n",
       "  @switchfoot http://twitpic.com/2y1zl - Awww, that's a bummer.  You shoulda got David Carr of Third Day to do it. ;D  \n",
       "0     is upset that he can't update his Facebook by texting it... and might cry as a result  School today also. Blah!  \n",
       "1                           @Kenichan I dived many times for the ball. Managed to save 50%  The rest go out of bounds  \n",
       "2                                                                     my whole body feels itchy and like its on fire   \n",
       "3     @nationwideclass no, it's not behaving at all. i'm mad. why am i here? because I can't see you all over there.   \n",
       "4                                                                                       @Kwesidei not the whole crew   \n",
       "5                                                                                                         Need a hug   \n",
       "6                 @LOLTrish hey  long time no see! Yes.. Rains a bit ,only a bit  LOL , I'm fine thanks , how's you ?  \n",
       "7                                                                                @Tatiana_K nope they didn't have it   \n",
       "8                                                                                           @twittera que me muera ?   \n",
       "9                                                                         spring break in plain city... it's snowing   "
      ]
     },
     "execution_count": 30,
     "metadata": {},
     "output_type": "execute_result"
    }
   ],
   "source": [
    "pd.set_option('display.max_colwidth', None)\n",
    "dataset_tw.head(10)"
   ]
  },
  {
   "cell_type": "code",
   "execution_count": 31,
   "metadata": {},
   "outputs": [
    {
     "data": {
      "text/html": [
       "<div>\n",
       "<style scoped>\n",
       "    .dataframe tbody tr th:only-of-type {\n",
       "        vertical-align: middle;\n",
       "    }\n",
       "\n",
       "    .dataframe tbody tr th {\n",
       "        vertical-align: top;\n",
       "    }\n",
       "\n",
       "    .dataframe thead th {\n",
       "        text-align: right;\n",
       "    }\n",
       "</style>\n",
       "<table border=\"1\" class=\"dataframe\">\n",
       "  <thead>\n",
       "    <tr style=\"text-align: right;\">\n",
       "      <th></th>\n",
       "      <th>Sentiment</th>\n",
       "      <th>ID</th>\n",
       "      <th>Phrase</th>\n",
       "    </tr>\n",
       "  </thead>\n",
       "  <tbody>\n",
       "    <tr>\n",
       "      <th>874068</th>\n",
       "      <td>4</td>\n",
       "      <td>1679876499</td>\n",
       "      <td>good to be home</td>\n",
       "    </tr>\n",
       "    <tr>\n",
       "      <th>192324</th>\n",
       "      <td>0</td>\n",
       "      <td>1969827925</td>\n",
       "      <td>In fiction...sitting down..my feet hurt!</td>\n",
       "    </tr>\n",
       "    <tr>\n",
       "      <th>537291</th>\n",
       "      <td>0</td>\n",
       "      <td>2198718442</td>\n",
       "      <td>tell u why later.  the lumps, its related 2 them. and that. I have this 16yo daughter. Its...weird.</td>\n",
       "    </tr>\n",
       "    <tr>\n",
       "      <th>1591396</th>\n",
       "      <td>4</td>\n",
       "      <td>2191563695</td>\n",
       "      <td>@Vannaboink yaye haha. thank you!!  &amp;lt;3</td>\n",
       "    </tr>\n",
       "    <tr>\n",
       "      <th>462633</th>\n",
       "      <td>0</td>\n",
       "      <td>2174741208</td>\n",
       "      <td>@feybee Ohhhhh I am SO sorry!!</td>\n",
       "    </tr>\n",
       "    <tr>\n",
       "      <th>1039900</th>\n",
       "      <td>4</td>\n",
       "      <td>1956875030</td>\n",
       "      <td>@brileigh85 no need, I remained stoic.  I know what it is too, I don't need an image</td>\n",
       "    </tr>\n",
       "    <tr>\n",
       "      <th>1106816</th>\n",
       "      <td>4</td>\n",
       "      <td>1971482222</td>\n",
       "      <td>@SteveHealy i DID say intelligent too. i mean are you shallow or something??</td>\n",
       "    </tr>\n",
       "    <tr>\n",
       "      <th>535806</th>\n",
       "      <td>0</td>\n",
       "      <td>2198126556</td>\n",
       "      <td>This will be the first year since Lord knows when, that I will not be attending the BET awards</td>\n",
       "    </tr>\n",
       "    <tr>\n",
       "      <th>558744</th>\n",
       "      <td>0</td>\n",
       "      <td>2204823132</td>\n",
       "      <td>@Soomka I'm not here  Can do tomorrow, though?</td>\n",
       "    </tr>\n",
       "    <tr>\n",
       "      <th>1419629</th>\n",
       "      <td>4</td>\n",
       "      <td>2057993974</td>\n",
       "      <td>@3thbi you gotta love it, its a classic</td>\n",
       "    </tr>\n",
       "  </tbody>\n",
       "</table>\n",
       "</div>"
      ],
      "text/plain": [
       "         Sentiment          ID  \\\n",
       "874068           4  1679876499   \n",
       "192324           0  1969827925   \n",
       "537291           0  2198718442   \n",
       "1591396          4  2191563695   \n",
       "462633           0  2174741208   \n",
       "1039900          4  1956875030   \n",
       "1106816          4  1971482222   \n",
       "535806           0  2198126556   \n",
       "558744           0  2204823132   \n",
       "1419629          4  2057993974   \n",
       "\n",
       "                                                                                                      Phrase  \n",
       "874068                                                                                      good to be home   \n",
       "192324                                                             In fiction...sitting down..my feet hurt!   \n",
       "537291   tell u why later.  the lumps, its related 2 them. and that. I have this 16yo daughter. Its...weird.  \n",
       "1591396                                                            @Vannaboink yaye haha. thank you!!  &lt;3  \n",
       "462633                                                                       @feybee Ohhhhh I am SO sorry!!   \n",
       "1039900                @brileigh85 no need, I remained stoic.  I know what it is too, I don't need an image   \n",
       "1106816                        @SteveHealy i DID say intelligent too. i mean are you shallow or something??   \n",
       "535806       This will be the first year since Lord knows when, that I will not be attending the BET awards   \n",
       "558744                                                        @Soomka I'm not here  Can do tomorrow, though?  \n",
       "1419629                                                             @3thbi you gotta love it, its a classic   "
      ]
     },
     "execution_count": 31,
     "metadata": {},
     "output_type": "execute_result"
    }
   ],
   "source": [
    "# Cleaning: nicht benötigte Spalten löschen, Spalten umbenennen\n",
    "\n",
    "dataset_tw.columns = ['Sentiment','ID','date','flag','user','Phrase']\n",
    "dataset_tw.drop(['date','flag','user'], axis=1, inplace=True)\n",
    "dataset_tw = sklearn.utils.shuffle(dataset_tw)\n",
    "\n",
    "dataset_tw.head(10)\n"
   ]
  },
  {
   "cell_type": "code",
   "execution_count": 32,
   "metadata": {},
   "outputs": [
    {
     "data": {
      "text/plain": [
       "<Axes: xlabel='Sentiment', ylabel='count'>"
      ]
     },
     "execution_count": 32,
     "metadata": {},
     "output_type": "execute_result"
    },
    {
     "data": {
      "image/png": "[encoded data removed]",
      "text/plain": [
       "<Figure size 640x480 with 1 Axes>"
      ]
     },
     "metadata": {},
     "output_type": "display_data"
    }
   ],
   "source": [
    "import seaborn as sns\n",
    "sns.countplot(x='Sentiment', data=dataset_tw)\n",
    "# TODO: Beschriftungen & Schlussfolgerung"
   ]
  },
  {
   "cell_type": "code",
   "execution_count": 36,
   "metadata": {},
   "outputs": [],
   "source": [
    "def dataset_split(dataset: pd.DataFrame, n: int):\n",
    "    \"\"\"\n",
    "    Funktion, um ein dataset in mehrere gleichgroße Datasets zu splitte\n",
    "    :param dataset: dataset, das gesplittet werden soll\n",
    "    :param n: Anzahl der Subset, in die gesplittet werden soll\n",
    "    :return: Subsets\n",
    "    \"\"\"\n",
    "    set_size = int(dataset.shape[0]/n)\n",
    "    subsets = []\n",
    "    for _ in range(n):\n",
    "        subsets.append(dataset.loc[_*set_size:(_+1)*set_size, :])\n",
    "    return subsets"
   ]
  },
  {
   "cell_type": "code",
   "execution_count": 37,
   "metadata": {},
   "outputs": [],
   "source": [
    "def save_dataset(dataset, name, path):\n",
    "    \"\"\"\n",
    "    Speichert ein pandas DataFrame als csv\n",
    "    :param dataset: pandas DataFrame\n",
    "    :param name: Name des csv-files\n",
    "    :param path: Pfand zum Ordner, wo das csv-file gespeichert werden soll\n",
    "    :return: None\n",
    "    \"\"\"\n",
    "    file_path = path + \"/\"+ name\n",
    "    dataset.to_csv(path_or_buf=file_path, sep=\";\")"
   ]
  },
  {
   "cell_type": "code",
   "execution_count": 40,
   "metadata": {},
   "outputs": [
    {
     "ename": "ValueError",
     "evalue": "min() arg is an empty sequence",
     "output_type": "error",
     "traceback": [
      "\u001B[1;31m---------------------------------------------------------------------------\u001B[0m",
      "\u001B[1;31mValueError\u001B[0m                                Traceback (most recent call last)",
      "Cell \u001B[1;32mIn[40], line 7\u001B[0m\n\u001B[0;32m      5\u001B[0m fig, axes \u001B[39m=\u001B[39m plt\u001B[39m.\u001B[39msubplots(\u001B[39m1\u001B[39m, \u001B[39mlen\u001B[39m(subsets_tw), figsize\u001B[39m=\u001B[39m(\u001B[39m12\u001B[39m,\u001B[39m2\u001B[39m))\n\u001B[0;32m      6\u001B[0m \u001B[39mfor\u001B[39;00m _, ax \u001B[39min\u001B[39;00m \u001B[39menumerate\u001B[39m(axes):\n\u001B[1;32m----> 7\u001B[0m     sns\u001B[39m.\u001B[39;49mcountplot(x\u001B[39m=\u001B[39;49m\u001B[39m'\u001B[39;49m\u001B[39mSentiment\u001B[39;49m\u001B[39m'\u001B[39;49m, data\u001B[39m=\u001B[39;49msubsets_tw[_], ax\u001B[39m=\u001B[39;49max)\n\u001B[0;32m      8\u001B[0m     \u001B[39mif\u001B[39;00m (_ \u001B[39m>\u001B[39m \u001B[39m0\u001B[39m):\n\u001B[0;32m      9\u001B[0m         ax\u001B[39m.\u001B[39mget_yaxis()\u001B[39m.\u001B[39mset_visible(\u001B[39mFalse\u001B[39;00m)\n",
      "File \u001B[1;32m~\\AppData\\Local\\Packages\\PythonSoftwareFoundation.Python.3.10_qbz5n2kfra8p0\\LocalCache\\local-packages\\Python310\\site-packages\\seaborn\\categorical.py:2943\u001B[0m, in \u001B[0;36mcountplot\u001B[1;34m(data, x, y, hue, order, hue_order, orient, color, palette, saturation, width, dodge, ax, **kwargs)\u001B[0m\n\u001B[0;32m   2940\u001B[0m \u001B[39melif\u001B[39;00m x \u001B[39mis\u001B[39;00m \u001B[39mnot\u001B[39;00m \u001B[39mNone\u001B[39;00m \u001B[39mand\u001B[39;00m y \u001B[39mis\u001B[39;00m \u001B[39mnot\u001B[39;00m \u001B[39mNone\u001B[39;00m:\n\u001B[0;32m   2941\u001B[0m     \u001B[39mraise\u001B[39;00m \u001B[39mValueError\u001B[39;00m(\u001B[39m\"\u001B[39m\u001B[39mCannot pass values for both `x` and `y`\u001B[39m\u001B[39m\"\u001B[39m)\n\u001B[1;32m-> 2943\u001B[0m plotter \u001B[39m=\u001B[39m _CountPlotter(\n\u001B[0;32m   2944\u001B[0m     x, y, hue, data, order, hue_order,\n\u001B[0;32m   2945\u001B[0m     estimator, errorbar, n_boot, units, seed,\n\u001B[0;32m   2946\u001B[0m     orient, color, palette, saturation,\n\u001B[0;32m   2947\u001B[0m     width, errcolor, errwidth, capsize, dodge\n\u001B[0;32m   2948\u001B[0m )\n\u001B[0;32m   2950\u001B[0m plotter\u001B[39m.\u001B[39mvalue_label \u001B[39m=\u001B[39m \u001B[39m\"\u001B[39m\u001B[39mcount\u001B[39m\u001B[39m\"\u001B[39m\n\u001B[0;32m   2952\u001B[0m \u001B[39mif\u001B[39;00m ax \u001B[39mis\u001B[39;00m \u001B[39mNone\u001B[39;00m:\n",
      "File \u001B[1;32m~\\AppData\\Local\\Packages\\PythonSoftwareFoundation.Python.3.10_qbz5n2kfra8p0\\LocalCache\\local-packages\\Python310\\site-packages\\seaborn\\categorical.py:1532\u001B[0m, in \u001B[0;36m_BarPlotter.__init__\u001B[1;34m(self, x, y, hue, data, order, hue_order, estimator, errorbar, n_boot, units, seed, orient, color, palette, saturation, width, errcolor, errwidth, capsize, dodge)\u001B[0m\n\u001B[0;32m   1529\u001B[0m \u001B[39m\u001B[39m\u001B[39m\"\"\"Initialize the plotter.\"\"\"\u001B[39;00m\n\u001B[0;32m   1530\u001B[0m \u001B[39mself\u001B[39m\u001B[39m.\u001B[39mestablish_variables(x, y, hue, data, orient,\n\u001B[0;32m   1531\u001B[0m                          order, hue_order, units)\n\u001B[1;32m-> 1532\u001B[0m \u001B[39mself\u001B[39;49m\u001B[39m.\u001B[39;49mestablish_colors(color, palette, saturation)\n\u001B[0;32m   1533\u001B[0m \u001B[39mself\u001B[39m\u001B[39m.\u001B[39mestimate_statistic(estimator, errorbar, n_boot, seed)\n\u001B[0;32m   1535\u001B[0m \u001B[39mself\u001B[39m\u001B[39m.\u001B[39mdodge \u001B[39m=\u001B[39m dodge\n",
      "File \u001B[1;32m~\\AppData\\Local\\Packages\\PythonSoftwareFoundation.Python.3.10_qbz5n2kfra8p0\\LocalCache\\local-packages\\Python310\\site-packages\\seaborn\\categorical.py:707\u001B[0m, in \u001B[0;36m_CategoricalPlotter.establish_colors\u001B[1;34m(self, color, palette, saturation)\u001B[0m\n\u001B[0;32m    705\u001B[0m \u001B[39m# Determine the gray color to use for the lines framing the plot\u001B[39;00m\n\u001B[0;32m    706\u001B[0m light_vals \u001B[39m=\u001B[39m [rgb_to_hls(\u001B[39m*\u001B[39mc)[\u001B[39m1\u001B[39m] \u001B[39mfor\u001B[39;00m c \u001B[39min\u001B[39;00m rgb_colors]\n\u001B[1;32m--> 707\u001B[0m lum \u001B[39m=\u001B[39m \u001B[39mmin\u001B[39;49m(light_vals) \u001B[39m*\u001B[39m \u001B[39m.6\u001B[39m\n\u001B[0;32m    708\u001B[0m gray \u001B[39m=\u001B[39m mpl\u001B[39m.\u001B[39mcolors\u001B[39m.\u001B[39mrgb2hex((lum, lum, lum))\n\u001B[0;32m    710\u001B[0m \u001B[39m# Assign object attributes\u001B[39;00m\n",
      "\u001B[1;31mValueError\u001B[0m: min() arg is an empty sequence"
     ]
    },
    {
     "data": {
      "image/png": "[encoded data removed]",
      "text/plain": [
       "<Figure size 1200x200 with 8 Axes>"
      ]
     },
     "metadata": {},
     "output_type": "display_data"
    }
   ],
   "source": [
    "# \n",
    "\n",
    "import matplotlib.pyplot as plt\n",
    "\n",
    "subsets_tw = dataset_split(dataset_tw, 8)\n",
    "\n",
    "fig, axes = plt.subplots(1, len(subsets_tw), figsize=(12,3))\n",
    "for _, ax in enumerate(axes):\n",
    "    sns.countplot(x='Sentiment', data=subsets_tw[_], ax=ax)\n",
    "    if (_ > 0):\n",
    "        ax.get_yaxis().set_visible(False)"
   ]
  },
  {
   "cell_type": "code",
   "execution_count": 41,
   "metadata": {},
   "outputs": [],
   "source": [
    "# Zusammenfügen gesamt trainingsset\n",
    "trainset_complete_tw = pd.concat(subsets_tw[:6])\n",
    "\n",
    "dir_path = \"../data/datasets_tw\"\n",
    "\n",
    "save_dataset(subsets_tw[0], \"Trainset_1.csv\", dir_path)\n",
    "save_dataset(subsets_tw[1], \"Trainset_2.csv\", dir_path)\n",
    "save_dataset(subsets_tw[2], \"Trainset_3.csv\", dir_path)\n",
    "save_dataset(subsets_tw[3], \"Trainset_4.csv\", dir_path)\n",
    "save_dataset(subsets_tw[4], \"Trainset_5.csv\", dir_path)\n",
    "save_dataset(subsets_tw[5], \"Trainset_6.csv\", dir_path)\n",
    "save_dataset(trainset_complete_tw, \"Trainset_complete.csv\", dir_path)\n",
    "save_dataset(subsets_tw[6], \"Evaluationset.csv\", dir_path)\n",
    "save_dataset(subsets_tw[7], \"Testset.csv\", dir_path)"
   ]
  },
  {
   "attachments": {},
   "cell_type": "markdown",
   "metadata": {},
   "source": [
    "# Dataset: Amazon"
   ]
  },
  {
   "cell_type": "code",
   "execution_count": 80,
   "metadata": {},
   "outputs": [],
   "source": [
    "with open(\"../data/amazon.csv\") as csvdatei:\n",
    "    dataset_am = pd.read_csv(csvdatei, delimiter=',')"
   ]
  },
  {
   "cell_type": "code",
   "execution_count": 81,
   "metadata": {},
   "outputs": [
    {
     "name": "stdout",
     "output_type": "stream",
     "text": [
      "<class 'pandas.core.frame.DataFrame'>\n",
      "RangeIndex: 4084 entries, 0 to 4083\n",
      "Data columns (total 4 columns):\n",
      " #   Column      Non-Null Count  Dtype  \n",
      "---  ------      --------------  -----  \n",
      " 0   Unnamed: 0  4084 non-null   int64  \n",
      " 1   review      4084 non-null   object \n",
      " 2   polarity    4084 non-null   float64\n",
      " 3   division    4084 non-null   object \n",
      "dtypes: float64(1), int64(1), object(2)\n",
      "memory usage: 127.8+ KB\n"
     ]
    }
   ],
   "source": [
    "dataset_am.info()"
   ]
  },
  {
   "cell_type": "code",
   "execution_count": 82,
   "metadata": {},
   "outputs": [
    {
     "data": {
      "text/html": [
       "<div>\n",
       "<style scoped>\n",
       "    .dataframe tbody tr th:only-of-type {\n",
       "        vertical-align: middle;\n",
       "    }\n",
       "\n",
       "    .dataframe tbody tr th {\n",
       "        vertical-align: top;\n",
       "    }\n",
       "\n",
       "    .dataframe thead th {\n",
       "        text-align: right;\n",
       "    }\n",
       "</style>\n",
       "<table border=\"1\" class=\"dataframe\">\n",
       "  <thead>\n",
       "    <tr style=\"text-align: right;\">\n",
       "      <th></th>\n",
       "      <th>Unnamed</th>\n",
       "      <th>Phrase</th>\n",
       "      <th>Polarity</th>\n",
       "      <th>Sentiment</th>\n",
       "    </tr>\n",
       "  </thead>\n",
       "  <tbody>\n",
       "    <tr>\n",
       "      <th>0</th>\n",
       "      <td>3870</td>\n",
       "      <td>able play youtube alexa</td>\n",
       "      <td>0.5000</td>\n",
       "      <td>positive</td>\n",
       "    </tr>\n",
       "    <tr>\n",
       "      <th>1</th>\n",
       "      <td>62</td>\n",
       "      <td>able recognize indian accent really well drop function helpful call device talk person near device smart plug schedule work seamlessly con would sound kindloud but lack clarity mid frequency need tweeked optimum clarity rarely device doesnt respond call alexa</td>\n",
       "      <td>0.2794</td>\n",
       "      <td>positive</td>\n",
       "    </tr>\n",
       "    <tr>\n",
       "      <th>2</th>\n",
       "      <td>487</td>\n",
       "      <td>absolute smart device amazon connect external sub woofer sound amaze recons voice even close room like almost collection songs english hindi must quite moneys worth</td>\n",
       "      <td>0.1827</td>\n",
       "      <td>positive</td>\n",
       "    </tr>\n",
       "    <tr>\n",
       "      <th>3</th>\n",
       "      <td>3204</td>\n",
       "      <td>absolutely amaze new member family control home voice connect home anywhere world</td>\n",
       "      <td>0.3682</td>\n",
       "      <td>positive</td>\n",
       "    </tr>\n",
       "    <tr>\n",
       "      <th>4</th>\n",
       "      <td>1265</td>\n",
       "      <td>absolutely amaze previously sceptical invest money but arrive worth ityou absolutely buy wont regret cheer</td>\n",
       "      <td>0.2333</td>\n",
       "      <td>positive</td>\n",
       "    </tr>\n",
       "    <tr>\n",
       "      <th>5</th>\n",
       "      <td>53</td>\n",
       "      <td>absolutely cheat customer if buy amazon product definitely want buy amazon prime members also case if song want play absolutely need amazon prime membership otherwise can not play music app no google apps not work amazon alexa if anybody want amazon alexa go google home everything also free cost app</td>\n",
       "      <td>0.1350</td>\n",
       "      <td>positive</td>\n",
       "    </tr>\n",
       "    <tr>\n",
       "      <th>6</th>\n",
       "      <td>257</td>\n",
       "      <td>absolutely house hold item fair price intuitive speech recognition superb use hindi english sometimes hinglish also big thank amazon team even place draw room call alexa bedroom ears us play favourite songs flawlessly overall best fit must guess guests visit us purchase enjoy performance must buy</td>\n",
       "      <td>0.4250</td>\n",
       "      <td>positive</td>\n",
       "    </tr>\n",
       "    <tr>\n",
       "      <th>7</th>\n",
       "      <td>1258</td>\n",
       "      <td>absolutely mind blow device beautiful shape excellent work nice performance verry easy usebut problem no battery storage work pluggedotherwise amaze</td>\n",
       "      <td>0.5262</td>\n",
       "      <td>positive</td>\n",
       "    </tr>\n",
       "    <tr>\n",
       "      <th>8</th>\n",
       "      <td>3499</td>\n",
       "      <td>accept dutch language</td>\n",
       "      <td>0.0000</td>\n",
       "      <td>neutral</td>\n",
       "    </tr>\n",
       "    <tr>\n",
       "      <th>9</th>\n",
       "      <td>2578</td>\n",
       "      <td>accessibility limit amazon apps music appsexcellent use bluetooth speaker</td>\n",
       "      <td>-0.0905</td>\n",
       "      <td>negative</td>\n",
       "    </tr>\n",
       "  </tbody>\n",
       "</table>\n",
       "</div>"
      ],
      "text/plain": [
       "   Unnamed  \\\n",
       "0     3870   \n",
       "1       62   \n",
       "2      487   \n",
       "3     3204   \n",
       "4     1265   \n",
       "5       53   \n",
       "6      257   \n",
       "7     1258   \n",
       "8     3499   \n",
       "9     2578   \n",
       "\n",
       "                                                                                                                                                                                                                                                                                                         Phrase  \\\n",
       "0                                                                                                                                                                                                                                                                                       able play youtube alexa   \n",
       "1                                           able recognize indian accent really well drop function helpful call device talk person near device smart plug schedule work seamlessly con would sound kindloud but lack clarity mid frequency need tweeked optimum clarity rarely device doesnt respond call alexa   \n",
       "2                                                                                                                                          absolute smart device amazon connect external sub woofer sound amaze recons voice even close room like almost collection songs english hindi must quite moneys worth   \n",
       "3                                                                                                                                                                                                                             absolutely amaze new member family control home voice connect home anywhere world   \n",
       "4                                                                                                                                                                                                    absolutely amaze previously sceptical invest money but arrive worth ityou absolutely buy wont regret cheer   \n",
       "5  absolutely cheat customer if buy amazon product definitely want buy amazon prime members also case if song want play absolutely need amazon prime membership otherwise can not play music app no google apps not work amazon alexa if anybody want amazon alexa go google home everything also free cost app   \n",
       "6     absolutely house hold item fair price intuitive speech recognition superb use hindi english sometimes hinglish also big thank amazon team even place draw room call alexa bedroom ears us play favourite songs flawlessly overall best fit must guess guests visit us purchase enjoy performance must buy   \n",
       "7                                                                                                                                                          absolutely mind blow device beautiful shape excellent work nice performance verry easy usebut problem no battery storage work pluggedotherwise amaze   \n",
       "8                                                                                                                                                                                                                                                                                         accept dutch language   \n",
       "9                                                                                                                                                                                                                                     accessibility limit amazon apps music appsexcellent use bluetooth speaker   \n",
       "\n",
       "   Polarity Sentiment  \n",
       "0    0.5000  positive  \n",
       "1    0.2794  positive  \n",
       "2    0.1827  positive  \n",
       "3    0.3682  positive  \n",
       "4    0.2333  positive  \n",
       "5    0.1350  positive  \n",
       "6    0.4250  positive  \n",
       "7    0.5262  positive  \n",
       "8    0.0000   neutral  \n",
       "9   -0.0905  negative  "
      ]
     },
     "execution_count": 82,
     "metadata": {},
     "output_type": "execute_result"
    }
   ],
   "source": [
    "pd.set_option('display.max_colwidth', None)\n",
    "dataset_am.columns = ['Unnamed','Phrase','Polarity','Sentiment']\n",
    "dataset_am.head(10)"
   ]
  },
  {
   "cell_type": "code",
   "execution_count": 83,
   "metadata": {},
   "outputs": [
    {
     "data": {
      "text/plain": [
       "positive    3066\n",
       "neutral      536\n",
       "negative     482\n",
       "Name: Sentiment, dtype: int64"
      ]
     },
     "execution_count": 83,
     "metadata": {},
     "output_type": "execute_result"
    }
   ],
   "source": [
    "dataset_am['Sentiment'].value_counts()"
   ]
  },
  {
   "cell_type": "code",
   "execution_count": 84,
   "metadata": {},
   "outputs": [
    {
     "data": {
      "text/html": [
       "<div>\n",
       "<style scoped>\n",
       "    .dataframe tbody tr th:only-of-type {\n",
       "        vertical-align: middle;\n",
       "    }\n",
       "\n",
       "    .dataframe tbody tr th {\n",
       "        vertical-align: top;\n",
       "    }\n",
       "\n",
       "    .dataframe thead th {\n",
       "        text-align: right;\n",
       "    }\n",
       "</style>\n",
       "<table border=\"1\" class=\"dataframe\">\n",
       "  <thead>\n",
       "    <tr style=\"text-align: right;\">\n",
       "      <th></th>\n",
       "      <th>Unnamed</th>\n",
       "      <th>Phrase</th>\n",
       "      <th>Polarity</th>\n",
       "      <th>Sentiment</th>\n",
       "    </tr>\n",
       "  </thead>\n",
       "  <tbody>\n",
       "    <tr>\n",
       "      <th>0</th>\n",
       "      <td>3870</td>\n",
       "      <td>able play youtube alexa</td>\n",
       "      <td>0.5000</td>\n",
       "      <td>1</td>\n",
       "    </tr>\n",
       "    <tr>\n",
       "      <th>1</th>\n",
       "      <td>62</td>\n",
       "      <td>able recognize indian accent really well drop function helpful call device talk person near device smart plug schedule work seamlessly con would sound kindloud but lack clarity mid frequency need tweeked optimum clarity rarely device doesnt respond call alexa</td>\n",
       "      <td>0.2794</td>\n",
       "      <td>1</td>\n",
       "    </tr>\n",
       "    <tr>\n",
       "      <th>2</th>\n",
       "      <td>487</td>\n",
       "      <td>absolute smart device amazon connect external sub woofer sound amaze recons voice even close room like almost collection songs english hindi must quite moneys worth</td>\n",
       "      <td>0.1827</td>\n",
       "      <td>1</td>\n",
       "    </tr>\n",
       "    <tr>\n",
       "      <th>3</th>\n",
       "      <td>3204</td>\n",
       "      <td>absolutely amaze new member family control home voice connect home anywhere world</td>\n",
       "      <td>0.3682</td>\n",
       "      <td>1</td>\n",
       "    </tr>\n",
       "    <tr>\n",
       "      <th>4</th>\n",
       "      <td>1265</td>\n",
       "      <td>absolutely amaze previously sceptical invest money but arrive worth ityou absolutely buy wont regret cheer</td>\n",
       "      <td>0.2333</td>\n",
       "      <td>1</td>\n",
       "    </tr>\n",
       "    <tr>\n",
       "      <th>5</th>\n",
       "      <td>53</td>\n",
       "      <td>absolutely cheat customer if buy amazon product definitely want buy amazon prime members also case if song want play absolutely need amazon prime membership otherwise can not play music app no google apps not work amazon alexa if anybody want amazon alexa go google home everything also free cost app</td>\n",
       "      <td>0.1350</td>\n",
       "      <td>1</td>\n",
       "    </tr>\n",
       "    <tr>\n",
       "      <th>6</th>\n",
       "      <td>257</td>\n",
       "      <td>absolutely house hold item fair price intuitive speech recognition superb use hindi english sometimes hinglish also big thank amazon team even place draw room call alexa bedroom ears us play favourite songs flawlessly overall best fit must guess guests visit us purchase enjoy performance must buy</td>\n",
       "      <td>0.4250</td>\n",
       "      <td>1</td>\n",
       "    </tr>\n",
       "    <tr>\n",
       "      <th>7</th>\n",
       "      <td>1258</td>\n",
       "      <td>absolutely mind blow device beautiful shape excellent work nice performance verry easy usebut problem no battery storage work pluggedotherwise amaze</td>\n",
       "      <td>0.5262</td>\n",
       "      <td>1</td>\n",
       "    </tr>\n",
       "    <tr>\n",
       "      <th>8</th>\n",
       "      <td>3499</td>\n",
       "      <td>accept dutch language</td>\n",
       "      <td>0.0000</td>\n",
       "      <td>0</td>\n",
       "    </tr>\n",
       "    <tr>\n",
       "      <th>9</th>\n",
       "      <td>2578</td>\n",
       "      <td>accessibility limit amazon apps music appsexcellent use bluetooth speaker</td>\n",
       "      <td>-0.0905</td>\n",
       "      <td>-1</td>\n",
       "    </tr>\n",
       "  </tbody>\n",
       "</table>\n",
       "</div>"
      ],
      "text/plain": [
       "   Unnamed  \\\n",
       "0     3870   \n",
       "1       62   \n",
       "2      487   \n",
       "3     3204   \n",
       "4     1265   \n",
       "5       53   \n",
       "6      257   \n",
       "7     1258   \n",
       "8     3499   \n",
       "9     2578   \n",
       "\n",
       "                                                                                                                                                                                                                                                                                                         Phrase  \\\n",
       "0                                                                                                                                                                                                                                                                                       able play youtube alexa   \n",
       "1                                           able recognize indian accent really well drop function helpful call device talk person near device smart plug schedule work seamlessly con would sound kindloud but lack clarity mid frequency need tweeked optimum clarity rarely device doesnt respond call alexa   \n",
       "2                                                                                                                                          absolute smart device amazon connect external sub woofer sound amaze recons voice even close room like almost collection songs english hindi must quite moneys worth   \n",
       "3                                                                                                                                                                                                                             absolutely amaze new member family control home voice connect home anywhere world   \n",
       "4                                                                                                                                                                                                    absolutely amaze previously sceptical invest money but arrive worth ityou absolutely buy wont regret cheer   \n",
       "5  absolutely cheat customer if buy amazon product definitely want buy amazon prime members also case if song want play absolutely need amazon prime membership otherwise can not play music app no google apps not work amazon alexa if anybody want amazon alexa go google home everything also free cost app   \n",
       "6     absolutely house hold item fair price intuitive speech recognition superb use hindi english sometimes hinglish also big thank amazon team even place draw room call alexa bedroom ears us play favourite songs flawlessly overall best fit must guess guests visit us purchase enjoy performance must buy   \n",
       "7                                                                                                                                                          absolutely mind blow device beautiful shape excellent work nice performance verry easy usebut problem no battery storage work pluggedotherwise amaze   \n",
       "8                                                                                                                                                                                                                                                                                         accept dutch language   \n",
       "9                                                                                                                                                                                                                                     accessibility limit amazon apps music appsexcellent use bluetooth speaker   \n",
       "\n",
       "   Polarity  Sentiment  \n",
       "0    0.5000          1  \n",
       "1    0.2794          1  \n",
       "2    0.1827          1  \n",
       "3    0.3682          1  \n",
       "4    0.2333          1  \n",
       "5    0.1350          1  \n",
       "6    0.4250          1  \n",
       "7    0.5262          1  \n",
       "8    0.0000          0  \n",
       "9   -0.0905         -1  "
      ]
     },
     "execution_count": 84,
     "metadata": {},
     "output_type": "execute_result"
    }
   ],
   "source": [
    "value_mapping = {'positive': 1, 'neutral': 0, 'negative': -1}\n",
    "dataset_am_relabled = dataset_am\n",
    "dataset_am_relabled['Sentiment'] = dataset_am_relabled['Sentiment'].map(value_mapping)\n",
    "dataset_am_relabled.head(10)"
   ]
  },
  {
   "cell_type": "code",
   "execution_count": 85,
   "metadata": {},
   "outputs": [],
   "source": [
    "def dataset_split(dataset: pd.DataFrame, n: int):\n",
    "    \"\"\"\n",
    "    Funktion, um ein dataset in mehrere gleichgroße Datasets zu splitte\n",
    "    :param dataset: dataset, das gesplittet werden soll\n",
    "    :param n: Anzahl der Subset, in die gesplittet werden soll\n",
    "    :return: Subsets\n",
    "    \"\"\"\n",
    "    set_size = int(dataset.shape[0]/n)\n",
    "    subsets = []\n",
    "    for _ in range(n):\n",
    "        subsets.append(dataset.loc[_*set_size:(_+1)*set_size, :])\n",
    "    return subsets"
   ]
  },
  {
   "cell_type": "code",
   "execution_count": 86,
   "metadata": {},
   "outputs": [],
   "source": [
    "def save_dataset(dataset, name, path):\n",
    "    \"\"\"\n",
    "    Speichert ein pandas DataFrame als csv\n",
    "    :param dataset: pandas DataFrame\n",
    "    :param name: Name des csv-files\n",
    "    :param path: Pfand zum Ordner, wo das csv-file gespeichert werden soll\n",
    "    :return: None\n",
    "    \"\"\"\n",
    "    file_path = path + \"/\"+ name\n",
    "    dataset.to_csv(path_or_buf=file_path, sep=\";\")"
   ]
  },
  {
   "cell_type": "code",
   "execution_count": 87,
   "metadata": {},
   "outputs": [
    {
     "data": {
      "image/png": "[encoded data removed]",
      "text/plain": [
       "<Figure size 1200x300 with 8 Axes>"
      ]
     },
     "metadata": {},
     "output_type": "display_data"
    }
   ],
   "source": [
    "subsets = dataset_split(dataset_am, 8)\n",
    "\n",
    "fig, axes = plt.subplots(1, len(subsets), figsize=(12,3))\n",
    "for _, ax in enumerate(axes):\n",
    "    sns.countplot(x='Sentiment', data=subsets[_], ax=ax)\n",
    "    if (_ > 0):\n",
    "        ax.get_yaxis().set_visible(False)"
   ]
  },
  {
   "cell_type": "code",
   "execution_count": 88,
   "metadata": {},
   "outputs": [],
   "source": [
    "def balancing(dataset: pd.DataFrame, column_label: str):\n",
    "    \"\"\"\n",
    "    Funktion um einen Datensatz nach enthaltenen Labels zu balancen.\n",
    "    :param dataset: Dataset, das balanced werden soll.\n",
    "    :param column_label: Spalte in der sich die Labels befinden.\n",
    "    :return: Balanced dataset\n",
    "    \"\"\"\n",
    "    balanced_set = dataset\n",
    "    sentiment_groups = dataset[column_label].value_counts()\n",
    "    max_size = sentiment_groups.max()\n",
    "\n",
    "    for i in sentiment_groups.index.values:\n",
    "        ratio = int(max_size / sentiment_groups[i])\n",
    "        \n",
    "        for j in range(int(ratio)+1):\n",
    "            current_size = balanced_set[column_label].value_counts()[i]\n",
    "            n = min([(max_size-current_size), sentiment_groups[i]])\n",
    "            balanced_set = pd.concat([balanced_set, dataset.loc[dataset[column_label] == i].sample(n=n)])\n",
    "    \n",
    "    return balanced_set.sample(frac=1)"
   ]
  },
  {
   "cell_type": "code",
   "execution_count": 89,
   "metadata": {},
   "outputs": [
    {
     "data": {
      "image/png": "[encoded data removed]",
      "text/plain": [
       "<Figure size 1200x300 with 8 Axes>"
      ]
     },
     "metadata": {},
     "output_type": "display_data"
    }
   ],
   "source": [
    "for i in range(len(subsets)):\n",
    "    subsets[i] = balancing(subsets[i], \"Sentiment\")\n",
    "    \n",
    "fig, axes = plt.subplots(1, len(subsets), figsize=(12,3))\n",
    "for _, ax in enumerate(axes):\n",
    "    sns.countplot(x='Sentiment', data=subsets[_], ax=ax)\n",
    "    if (_ > 0):\n",
    "        ax.get_yaxis().set_visible(False)"
   ]
  },
  {
   "cell_type": "code",
   "execution_count": 92,
   "metadata": {},
   "outputs": [],
   "source": [
    "# Zusammenfügen gesamttrainingsset\n",
    "trainset_complete = pd.concat(subsets[:6])\n",
    "\n",
    "dir_path = \"../data/dataset_am\"\n",
    "\n",
    "save_dataset(subsets[0], \"Trainset_1.csv\", dir_path)\n",
    "save_dataset(subsets[1], \"Trainset_2.csv\", dir_path)\n",
    "save_dataset(subsets[2], \"Trainset_3.csv\", dir_path)\n",
    "save_dataset(subsets[3], \"Trainset_4.csv\", dir_path)\n",
    "save_dataset(subsets[4], \"Trainset_5.csv\", dir_path)\n",
    "save_dataset(subsets[5], \"Trainset_6.csv\", dir_path)\n",
    "save_dataset(trainset_complete, \"Trainset_complete.csv\", dir_path)\n",
    "save_dataset(subsets[6], \"Evaluationset.csv\", dir_path)\n",
    "save_dataset(subsets[7], \"Testset.csv\", dir_path)"
   ]
  }
 ],
 "metadata": {
  "accelerator": "GPU",
  "colab": {
   "gpuType": "T4",
   "provenance": []
  },
  "kernelspec": {
   "display_name": "Python 3 (ipykernel)",
   "language": "python",
   "name": "python3"
  },
  "language_info": {
   "codemirror_mode": {
    "name": "ipython",
    "version": 3
   },
   "file_extension": ".py",
   "mimetype": "text/x-python",
   "name": "python",
   "nbconvert_exporter": "python",
   "pygments_lexer": "ipython3",
   "version": "3.10.11"
  }
 },
 "nbformat": 4,
 "nbformat_minor": 1
}
